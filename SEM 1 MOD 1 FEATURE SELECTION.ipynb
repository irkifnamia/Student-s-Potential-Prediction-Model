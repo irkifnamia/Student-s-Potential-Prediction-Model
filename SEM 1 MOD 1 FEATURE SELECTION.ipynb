{
 "cells": [
  {
   "cell_type": "markdown",
   "id": "2b2e9fe2",
   "metadata": {},
   "source": [
    "\n",
    "# LOAD SEM1 DATASET"
   ]
  },
  {
   "cell_type": "code",
   "execution_count": 2,
   "id": "e7dd96b8",
   "metadata": {},
   "outputs": [],
   "source": [
    "import numpy as np\n",
    "import pandas as pd\n",
    "import seaborn as sns"
   ]
  },
  {
   "cell_type": "code",
   "execution_count": 3,
   "id": "080c3bd4",
   "metadata": {},
   "outputs": [],
   "source": [
    "mod1_encoded_sem1 = pd.read_csv('mod1_encoded_sem1.csv')"
   ]
  },
  {
   "cell_type": "code",
   "execution_count": 4,
   "id": "143be539",
   "metadata": {},
   "outputs": [
    {
     "data": {
      "text/html": [
       "<div>\n",
       "<style scoped>\n",
       "    .dataframe tbody tr th:only-of-type {\n",
       "        vertical-align: middle;\n",
       "    }\n",
       "\n",
       "    .dataframe tbody tr th {\n",
       "        vertical-align: top;\n",
       "    }\n",
       "\n",
       "    .dataframe thead th {\n",
       "        text-align: right;\n",
       "    }\n",
       "</style>\n",
       "<table border=\"1\" class=\"dataframe\">\n",
       "  <thead>\n",
       "    <tr style=\"text-align: right;\">\n",
       "      <th></th>\n",
       "      <th>LEARNING STYLE</th>\n",
       "      <th>PROGRAM</th>\n",
       "      <th>YEAR</th>\n",
       "      <th>RACE</th>\n",
       "      <th>GENDER</th>\n",
       "      <th>RELIGION</th>\n",
       "      <th>STATE</th>\n",
       "      <th>REGION</th>\n",
       "      <th>INCOME</th>\n",
       "      <th>DEPENDENTS</th>\n",
       "      <th>SCHOOL</th>\n",
       "      <th>SPM ADDMATH</th>\n",
       "      <th>SPM PHY</th>\n",
       "      <th>SPM CHEM</th>\n",
       "      <th>SPM BIO</th>\n",
       "      <th>SEM1 CGPA</th>\n",
       "    </tr>\n",
       "  </thead>\n",
       "  <tbody>\n",
       "    <tr>\n",
       "      <th>0</th>\n",
       "      <td>0</td>\n",
       "      <td>1</td>\n",
       "      <td>1</td>\n",
       "      <td>3</td>\n",
       "      <td>0</td>\n",
       "      <td>2</td>\n",
       "      <td>1</td>\n",
       "      <td>1</td>\n",
       "      <td>6</td>\n",
       "      <td>6</td>\n",
       "      <td>1</td>\n",
       "      <td>6</td>\n",
       "      <td>5</td>\n",
       "      <td>5</td>\n",
       "      <td>3</td>\n",
       "      <td>1</td>\n",
       "    </tr>\n",
       "    <tr>\n",
       "      <th>1</th>\n",
       "      <td>0</td>\n",
       "      <td>1</td>\n",
       "      <td>2</td>\n",
       "      <td>3</td>\n",
       "      <td>0</td>\n",
       "      <td>2</td>\n",
       "      <td>1</td>\n",
       "      <td>0</td>\n",
       "      <td>1</td>\n",
       "      <td>6</td>\n",
       "      <td>1</td>\n",
       "      <td>5</td>\n",
       "      <td>4</td>\n",
       "      <td>6</td>\n",
       "      <td>5</td>\n",
       "      <td>1</td>\n",
       "    </tr>\n",
       "    <tr>\n",
       "      <th>2</th>\n",
       "      <td>0</td>\n",
       "      <td>1</td>\n",
       "      <td>1</td>\n",
       "      <td>3</td>\n",
       "      <td>0</td>\n",
       "      <td>2</td>\n",
       "      <td>1</td>\n",
       "      <td>1</td>\n",
       "      <td>7</td>\n",
       "      <td>2</td>\n",
       "      <td>1</td>\n",
       "      <td>7</td>\n",
       "      <td>2</td>\n",
       "      <td>4</td>\n",
       "      <td>5</td>\n",
       "      <td>1</td>\n",
       "    </tr>\n",
       "    <tr>\n",
       "      <th>3</th>\n",
       "      <td>0</td>\n",
       "      <td>1</td>\n",
       "      <td>2</td>\n",
       "      <td>3</td>\n",
       "      <td>0</td>\n",
       "      <td>2</td>\n",
       "      <td>8</td>\n",
       "      <td>2</td>\n",
       "      <td>2</td>\n",
       "      <td>6</td>\n",
       "      <td>1</td>\n",
       "      <td>5</td>\n",
       "      <td>3</td>\n",
       "      <td>6</td>\n",
       "      <td>4</td>\n",
       "      <td>2</td>\n",
       "    </tr>\n",
       "    <tr>\n",
       "      <th>4</th>\n",
       "      <td>0</td>\n",
       "      <td>1</td>\n",
       "      <td>2</td>\n",
       "      <td>3</td>\n",
       "      <td>0</td>\n",
       "      <td>2</td>\n",
       "      <td>1</td>\n",
       "      <td>2</td>\n",
       "      <td>3</td>\n",
       "      <td>4</td>\n",
       "      <td>1</td>\n",
       "      <td>3</td>\n",
       "      <td>4</td>\n",
       "      <td>6</td>\n",
       "      <td>5</td>\n",
       "      <td>1</td>\n",
       "    </tr>\n",
       "  </tbody>\n",
       "</table>\n",
       "</div>"
      ],
      "text/plain": [
       "   LEARNING STYLE  PROGRAM  YEAR  RACE  GENDER  RELIGION  STATE  REGION  \\\n",
       "0               0        1     1     3       0         2      1       1   \n",
       "1               0        1     2     3       0         2      1       0   \n",
       "2               0        1     1     3       0         2      1       1   \n",
       "3               0        1     2     3       0         2      8       2   \n",
       "4               0        1     2     3       0         2      1       2   \n",
       "\n",
       "   INCOME  DEPENDENTS  SCHOOL  SPM ADDMATH  SPM PHY  SPM CHEM  SPM BIO  \\\n",
       "0       6           6       1            6        5         5        3   \n",
       "1       1           6       1            5        4         6        5   \n",
       "2       7           2       1            7        2         4        5   \n",
       "3       2           6       1            5        3         6        4   \n",
       "4       3           4       1            3        4         6        5   \n",
       "\n",
       "   SEM1 CGPA  \n",
       "0          1  \n",
       "1          1  \n",
       "2          1  \n",
       "3          2  \n",
       "4          1  "
      ]
     },
     "execution_count": 4,
     "metadata": {},
     "output_type": "execute_result"
    }
   ],
   "source": [
    "mod1_encoded_sem1.head()"
   ]
  },
  {
   "cell_type": "code",
   "execution_count": 5,
   "id": "de164a9e",
   "metadata": {},
   "outputs": [
    {
     "data": {
      "text/plain": [
       "Index(['LEARNING STYLE', 'PROGRAM', 'YEAR', 'RACE', 'GENDER', 'RELIGION',\n",
       "       'STATE', 'REGION', 'INCOME', 'DEPENDENTS', 'SCHOOL', 'SPM ADDMATH',\n",
       "       'SPM PHY', 'SPM CHEM', 'SPM BIO', 'SEM1 CGPA'],\n",
       "      dtype='object')"
      ]
     },
     "execution_count": 5,
     "metadata": {},
     "output_type": "execute_result"
    }
   ],
   "source": [
    "mod1_encoded_sem1.columns"
   ]
  },
  {
   "cell_type": "code",
   "execution_count": 6,
   "id": "e52bb58d",
   "metadata": {},
   "outputs": [
    {
     "name": "stdout",
     "output_type": "stream",
     "text": [
      "<class 'pandas.core.frame.DataFrame'>\n",
      "RangeIndex: 1241 entries, 0 to 1240\n",
      "Data columns (total 16 columns):\n",
      " #   Column          Non-Null Count  Dtype\n",
      "---  ------          --------------  -----\n",
      " 0   LEARNING STYLE  1241 non-null   int64\n",
      " 1   PROGRAM         1241 non-null   int64\n",
      " 2   YEAR            1241 non-null   int64\n",
      " 3   RACE            1241 non-null   int64\n",
      " 4   GENDER          1241 non-null   int64\n",
      " 5   RELIGION        1241 non-null   int64\n",
      " 6   STATE           1241 non-null   int64\n",
      " 7   REGION          1241 non-null   int64\n",
      " 8   INCOME          1241 non-null   int64\n",
      " 9   DEPENDENTS      1241 non-null   int64\n",
      " 10  SCHOOL          1241 non-null   int64\n",
      " 11  SPM ADDMATH     1241 non-null   int64\n",
      " 12  SPM PHY         1241 non-null   int64\n",
      " 13  SPM CHEM        1241 non-null   int64\n",
      " 14  SPM BIO         1241 non-null   int64\n",
      " 15  SEM1 CGPA       1241 non-null   int64\n",
      "dtypes: int64(16)\n",
      "memory usage: 155.2 KB\n"
     ]
    }
   ],
   "source": [
    "mod1_encoded_sem1.info()"
   ]
  },
  {
   "cell_type": "markdown",
   "id": "0d6db838",
   "metadata": {},
   "source": [
    "# CREATE TRAIN_TEST_SPLIT"
   ]
  },
  {
   "cell_type": "code",
   "execution_count": 7,
   "id": "1f9fe199",
   "metadata": {},
   "outputs": [],
   "source": [
    "## CREATE TRAIN TEST SPLIT TO AVOID OVERFITTING\n",
    "from sklearn.model_selection import train_test_split\n",
    "X_train,X_test,y_train,y_test = train_test_split(mod1_encoded_sem1.drop(labels=['SEM1 CGPA'],axis=1),\n",
    "                                                 mod1_encoded_sem1['SEM1 CGPA'],test_size=0.3,random_state=0)"
   ]
  },
  {
   "cell_type": "code",
   "execution_count": 8,
   "id": "8c0fce28",
   "metadata": {},
   "outputs": [
    {
     "name": "stdout",
     "output_type": "stream",
     "text": [
      "<class 'pandas.core.frame.DataFrame'>\n",
      "Int64Index: 868 entries, 959 to 684\n",
      "Data columns (total 15 columns):\n",
      " #   Column          Non-Null Count  Dtype\n",
      "---  ------          --------------  -----\n",
      " 0   LEARNING STYLE  868 non-null    int64\n",
      " 1   PROGRAM         868 non-null    int64\n",
      " 2   YEAR            868 non-null    int64\n",
      " 3   RACE            868 non-null    int64\n",
      " 4   GENDER          868 non-null    int64\n",
      " 5   RELIGION        868 non-null    int64\n",
      " 6   STATE           868 non-null    int64\n",
      " 7   REGION          868 non-null    int64\n",
      " 8   INCOME          868 non-null    int64\n",
      " 9   DEPENDENTS      868 non-null    int64\n",
      " 10  SCHOOL          868 non-null    int64\n",
      " 11  SPM ADDMATH     868 non-null    int64\n",
      " 12  SPM PHY         868 non-null    int64\n",
      " 13  SPM CHEM        868 non-null    int64\n",
      " 14  SPM BIO         868 non-null    int64\n",
      "dtypes: int64(15)\n",
      "memory usage: 108.5 KB\n"
     ]
    }
   ],
   "source": [
    "X_train.info()"
   ]
  },
  {
   "cell_type": "code",
   "execution_count": 9,
   "id": "ce827041",
   "metadata": {},
   "outputs": [
    {
     "name": "stdout",
     "output_type": "stream",
     "text": [
      "<class 'pandas.core.frame.DataFrame'>\n",
      "Int64Index: 373 entries, 1031 to 825\n",
      "Data columns (total 15 columns):\n",
      " #   Column          Non-Null Count  Dtype\n",
      "---  ------          --------------  -----\n",
      " 0   LEARNING STYLE  373 non-null    int64\n",
      " 1   PROGRAM         373 non-null    int64\n",
      " 2   YEAR            373 non-null    int64\n",
      " 3   RACE            373 non-null    int64\n",
      " 4   GENDER          373 non-null    int64\n",
      " 5   RELIGION        373 non-null    int64\n",
      " 6   STATE           373 non-null    int64\n",
      " 7   REGION          373 non-null    int64\n",
      " 8   INCOME          373 non-null    int64\n",
      " 9   DEPENDENTS      373 non-null    int64\n",
      " 10  SCHOOL          373 non-null    int64\n",
      " 11  SPM ADDMATH     373 non-null    int64\n",
      " 12  SPM PHY         373 non-null    int64\n",
      " 13  SPM CHEM        373 non-null    int64\n",
      " 14  SPM BIO         373 non-null    int64\n",
      "dtypes: int64(15)\n",
      "memory usage: 46.6 KB\n"
     ]
    }
   ],
   "source": [
    "X_test.info()"
   ]
  },
  {
   "cell_type": "markdown",
   "id": "ab156438",
   "metadata": {},
   "source": [
    "# 1. FEATURE SELECTION : MUTUAL INFO"
   ]
  },
  {
   "cell_type": "code",
   "execution_count": 10,
   "id": "81414aff",
   "metadata": {},
   "outputs": [
    {
     "data": {
      "text/plain": [
       "array([0.01998106, 0.01677222, 0.02898225, 0.1071341 , 0.00691804,\n",
       "       0.07348033, 0.04941135, 0.00507943, 0.04136001, 0.02897703,\n",
       "       0.00719431, 0.10056153, 0.05145752, 0.08646987, 0.08692144])"
      ]
     },
     "execution_count": 10,
     "metadata": {},
     "output_type": "execute_result"
    }
   ],
   "source": [
    "from sklearn.feature_selection import mutual_info_classif\n",
    "## DETERMINE THE MUTUAL INFORMATION\n",
    "mutual_info = mutual_info_classif(X_train,y_train)\n",
    "mutual_info"
   ]
  },
  {
   "cell_type": "code",
   "execution_count": 11,
   "id": "7ea401bf",
   "metadata": {},
   "outputs": [
    {
     "data": {
      "text/plain": [
       "RACE              0.107134\n",
       "SPM ADDMATH       0.100562\n",
       "SPM BIO           0.086921\n",
       "SPM CHEM          0.086470\n",
       "RELIGION          0.073480\n",
       "SPM PHY           0.051458\n",
       "STATE             0.049411\n",
       "INCOME            0.041360\n",
       "YEAR              0.028982\n",
       "DEPENDENTS        0.028977\n",
       "LEARNING STYLE    0.019981\n",
       "PROGRAM           0.016772\n",
       "SCHOOL            0.007194\n",
       "GENDER            0.006918\n",
       "REGION            0.005079\n",
       "dtype: float64"
      ]
     },
     "execution_count": 11,
     "metadata": {},
     "output_type": "execute_result"
    }
   ],
   "source": [
    "mutual_info = pd.Series(mutual_info)\n",
    "mutual_info.index = X_train.columns\n",
    "mutual_info.sort_values(ascending=False)"
   ]
  },
  {
   "cell_type": "code",
   "execution_count": 12,
   "id": "99c8d29e",
   "metadata": {
    "scrolled": true
   },
   "outputs": [
    {
     "data": {
      "text/plain": [
       "<AxesSubplot:>"
      ]
     },
     "execution_count": 12,
     "metadata": {},
     "output_type": "execute_result"
    },
    {
     "data": {
      "image/png": "[encoded data removed]",
      "text/plain": [
       "<Figure size 1440x576 with 1 Axes>"
      ]
     },
     "metadata": {
      "needs_background": "light"
     },
     "output_type": "display_data"
    }
   ],
   "source": [
    "mutual_info.sort_values(ascending=True).plot.barh(figsize=(20,8))"
   ]
  },
  {
   "cell_type": "markdown",
   "id": "17cb84a0",
   "metadata": {},
   "source": [
    "# 2. FEATURE SELECTION : CHI SQUARED TEST"
   ]
  },
  {
   "cell_type": "code",
   "execution_count": 13,
   "id": "8e051914",
   "metadata": {},
   "outputs": [
    {
     "data": {
      "text/plain": [
       "(array([  7.28870939,  12.38256331,   4.54047066,  29.18198059,\n",
       "          6.27269495,  16.57730109, 119.27690488,   9.4822679 ,\n",
       "         17.55562485,   2.05730025,   3.40962498, 150.46095427,\n",
       "        102.77471667, 128.56941311,  96.65703506]),\n",
       " array([1.21395404e-01, 1.47220009e-02, 3.37775643e-01, 7.17938315e-06,\n",
       "        1.79687809e-01, 2.33473413e-03, 7.62249776e-25, 5.01128805e-02,\n",
       "        1.50690614e-03, 7.25220512e-01, 4.91752420e-01, 1.62161423e-31,\n",
       "        2.52336651e-21, 7.87622528e-27, 5.06162051e-20]))"
      ]
     },
     "execution_count": 13,
     "metadata": {},
     "output_type": "execute_result"
    }
   ],
   "source": [
    "## PERFORM CHI2 TEST\n",
    "from sklearn.feature_selection import chi2\n",
    "f_p_values = chi2(X_train,y_train)\n",
    "f_p_values\n",
    "## CHI2 RETURNS TWO VALUES : FSCORE & P-VALUE\n",
    "## HIGHER FSCORE MEANS THE FEATURE IS MORE IMPORTANT \n",
    "## LOWER P-VALUE MEANS THE FEATURE IS MORE IMPORTANT"
   ]
  },
  {
   "cell_type": "code",
   "execution_count": 14,
   "id": "275fd571",
   "metadata": {},
   "outputs": [
    {
     "data": {
      "text/plain": [
       "SPM ADDMATH       150.460954\n",
       "SPM CHEM          128.569413\n",
       "STATE             119.276905\n",
       "SPM PHY           102.774717\n",
       "SPM BIO            96.657035\n",
       "RACE               29.181981\n",
       "INCOME             17.555625\n",
       "RELIGION           16.577301\n",
       "PROGRAM            12.382563\n",
       "REGION              9.482268\n",
       "LEARNING STYLE      7.288709\n",
       "GENDER              6.272695\n",
       "YEAR                4.540471\n",
       "SCHOOL              3.409625\n",
       "DEPENDENTS          2.057300\n",
       "dtype: float64"
      ]
     },
     "execution_count": 14,
     "metadata": {},
     "output_type": "execute_result"
    }
   ],
   "source": [
    "f_scores = pd.Series(f_p_values[0])\n",
    "f_scores.index = X_train.columns\n",
    "f_scores.sort_values(ascending=False)"
   ]
  },
  {
   "cell_type": "code",
   "execution_count": 16,
   "id": "7f00da03",
   "metadata": {},
   "outputs": [
    {
     "data": {
      "text/plain": [
       "<AxesSubplot:>"
      ]
     },
     "execution_count": 16,
     "metadata": {},
     "output_type": "execute_result"
    },
    {
     "data": {
      "image/png": "[encoded data removed]",
      "text/plain": [
       "<Figure size 1440x576 with 1 Axes>"
      ]
     },
     "metadata": {
      "needs_background": "light"
     },
     "output_type": "display_data"
    }
   ],
   "source": [
    "f_scores.sort_values(ascending=True).plot.barh(figsize=(20,8))"
   ]
  },
  {
   "cell_type": "code",
   "execution_count": 17,
   "id": "6f0f3c65",
   "metadata": {},
   "outputs": [],
   "source": [
    "## OBSERVATION\n",
    "# SPM ADDMATH IS THE MOST IMPORTANT COLUMN (HIGHEST F-SCORE) WHEN COMPARED TO THE OUTPUT FEATURE (TARGET) SEM1 CGPA"
   ]
  },
  {
   "cell_type": "code",
   "execution_count": null,
   "id": "1911ecf6",
   "metadata": {},
   "outputs": [],
   "source": []
  }
 ],
 "metadata": {
  "kernelspec": {
   "display_name": "Python 3",
   "language": "python",
   "name": "python3"
  },
  "language_info": {
   "codemirror_mode": {
    "name": "ipython",
    "version": 3
   },
   "file_extension": ".py",
   "mimetype": "text/x-python",
   "name": "python",
   "nbconvert_exporter": "python",
   "pygments_lexer": "ipython3",
   "version": "3.8.8"
  }
 },
 "nbformat": 4,
 "nbformat_minor": 5
}
