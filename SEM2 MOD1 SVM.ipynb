{
 "cells": [
  {
   "cell_type": "markdown",
   "id": "ee617206",
   "metadata": {},
   "source": [
    "# LOADING DATA"
   ]
  },
  {
   "cell_type": "code",
   "execution_count": 24,
   "id": "f912f070",
   "metadata": {},
   "outputs": [],
   "source": [
    "import numpy as np\n",
    "import pandas as pd\n",
    "import seaborn as sns\n",
    "import matplotlib.pyplot as plt\n",
    "%matplotlib inline"
   ]
  },
  {
   "cell_type": "code",
   "execution_count": 25,
   "id": "d4cf8674",
   "metadata": {},
   "outputs": [],
   "source": [
    "df = pd.read_csv('mod1_encoded_sem2.csv')"
   ]
  },
  {
   "cell_type": "code",
   "execution_count": 26,
   "id": "767e3f6d",
   "metadata": {},
   "outputs": [],
   "source": [
    "df = df.drop('DEPENDENTS',axis=1)\n",
    "df = df.drop('YEAR',axis=1)\n",
    "df = df.drop('REGION',axis=1)\n",
    "df = df.drop('SCHOOL',axis=1)\n",
    "df = df.drop('LEARNING STYLE',axis=1)\n",
    "df = df.drop('GENDER',axis=1)"
   ]
  },
  {
   "cell_type": "code",
   "execution_count": 27,
   "id": "cdd97487",
   "metadata": {},
   "outputs": [
    {
     "data": {
      "text/html": [
       "<div>\n",
       "<style scoped>\n",
       "    .dataframe tbody tr th:only-of-type {\n",
       "        vertical-align: middle;\n",
       "    }\n",
       "\n",
       "    .dataframe tbody tr th {\n",
       "        vertical-align: top;\n",
       "    }\n",
       "\n",
       "    .dataframe thead th {\n",
       "        text-align: right;\n",
       "    }\n",
       "</style>\n",
       "<table border=\"1\" class=\"dataframe\">\n",
       "  <thead>\n",
       "    <tr style=\"text-align: right;\">\n",
       "      <th></th>\n",
       "      <th>PROGRAM</th>\n",
       "      <th>RACE</th>\n",
       "      <th>RELIGION</th>\n",
       "      <th>STATE</th>\n",
       "      <th>INCOME</th>\n",
       "      <th>SPM ADDMATH</th>\n",
       "      <th>SPM PHY</th>\n",
       "      <th>SPM CHEM</th>\n",
       "      <th>SPM BIO</th>\n",
       "      <th>SEM1 CGPA</th>\n",
       "      <th>SEM1 MATH</th>\n",
       "      <th>SEM1 PHY</th>\n",
       "      <th>SEM1 CHEM</th>\n",
       "      <th>SEM1 BIO</th>\n",
       "      <th>SEM2 CGPA</th>\n",
       "    </tr>\n",
       "  </thead>\n",
       "  <tbody>\n",
       "    <tr>\n",
       "      <th>0</th>\n",
       "      <td>1</td>\n",
       "      <td>3</td>\n",
       "      <td>2</td>\n",
       "      <td>1</td>\n",
       "      <td>6</td>\n",
       "      <td>6</td>\n",
       "      <td>5</td>\n",
       "      <td>5</td>\n",
       "      <td>3</td>\n",
       "      <td>1</td>\n",
       "      <td>2</td>\n",
       "      <td>1</td>\n",
       "      <td>1</td>\n",
       "      <td>2</td>\n",
       "      <td>1</td>\n",
       "    </tr>\n",
       "    <tr>\n",
       "      <th>1</th>\n",
       "      <td>1</td>\n",
       "      <td>3</td>\n",
       "      <td>2</td>\n",
       "      <td>1</td>\n",
       "      <td>1</td>\n",
       "      <td>5</td>\n",
       "      <td>4</td>\n",
       "      <td>6</td>\n",
       "      <td>5</td>\n",
       "      <td>1</td>\n",
       "      <td>1</td>\n",
       "      <td>4</td>\n",
       "      <td>2</td>\n",
       "      <td>5</td>\n",
       "      <td>1</td>\n",
       "    </tr>\n",
       "    <tr>\n",
       "      <th>2</th>\n",
       "      <td>1</td>\n",
       "      <td>3</td>\n",
       "      <td>2</td>\n",
       "      <td>1</td>\n",
       "      <td>7</td>\n",
       "      <td>7</td>\n",
       "      <td>2</td>\n",
       "      <td>4</td>\n",
       "      <td>5</td>\n",
       "      <td>1</td>\n",
       "      <td>4</td>\n",
       "      <td>1</td>\n",
       "      <td>3</td>\n",
       "      <td>3</td>\n",
       "      <td>1</td>\n",
       "    </tr>\n",
       "    <tr>\n",
       "      <th>3</th>\n",
       "      <td>1</td>\n",
       "      <td>3</td>\n",
       "      <td>2</td>\n",
       "      <td>8</td>\n",
       "      <td>2</td>\n",
       "      <td>5</td>\n",
       "      <td>3</td>\n",
       "      <td>6</td>\n",
       "      <td>4</td>\n",
       "      <td>2</td>\n",
       "      <td>3</td>\n",
       "      <td>5</td>\n",
       "      <td>4</td>\n",
       "      <td>1</td>\n",
       "      <td>2</td>\n",
       "    </tr>\n",
       "    <tr>\n",
       "      <th>4</th>\n",
       "      <td>1</td>\n",
       "      <td>3</td>\n",
       "      <td>2</td>\n",
       "      <td>1</td>\n",
       "      <td>3</td>\n",
       "      <td>3</td>\n",
       "      <td>4</td>\n",
       "      <td>6</td>\n",
       "      <td>5</td>\n",
       "      <td>1</td>\n",
       "      <td>1</td>\n",
       "      <td>5</td>\n",
       "      <td>3</td>\n",
       "      <td>2</td>\n",
       "      <td>1</td>\n",
       "    </tr>\n",
       "  </tbody>\n",
       "</table>\n",
       "</div>"
      ],
      "text/plain": [
       "   PROGRAM  RACE  RELIGION  STATE  INCOME  SPM ADDMATH  SPM PHY  SPM CHEM  \\\n",
       "0        1     3         2      1       6            6        5         5   \n",
       "1        1     3         2      1       1            5        4         6   \n",
       "2        1     3         2      1       7            7        2         4   \n",
       "3        1     3         2      8       2            5        3         6   \n",
       "4        1     3         2      1       3            3        4         6   \n",
       "\n",
       "   SPM BIO  SEM1 CGPA  SEM1 MATH  SEM1 PHY  SEM1 CHEM  SEM1 BIO  SEM2 CGPA  \n",
       "0        3          1          2         1          1         2          1  \n",
       "1        5          1          1         4          2         5          1  \n",
       "2        5          1          4         1          3         3          1  \n",
       "3        4          2          3         5          4         1          2  \n",
       "4        5          1          1         5          3         2          1  "
      ]
     },
     "execution_count": 27,
     "metadata": {},
     "output_type": "execute_result"
    }
   ],
   "source": [
    "df.head()"
   ]
  },
  {
   "cell_type": "code",
   "execution_count": 28,
   "id": "e7acd2e2",
   "metadata": {},
   "outputs": [
    {
     "data": {
      "text/plain": [
       "(1241, 15)"
      ]
     },
     "execution_count": 28,
     "metadata": {},
     "output_type": "execute_result"
    }
   ],
   "source": [
    "df.shape"
   ]
  },
  {
   "cell_type": "code",
   "execution_count": 29,
   "id": "86dd48e9",
   "metadata": {},
   "outputs": [],
   "source": [
    "X = df.drop('SEM2 CGPA',axis=1)\n",
    "y = df['SEM2 CGPA']"
   ]
  },
  {
   "cell_type": "markdown",
   "id": "099c2182",
   "metadata": {},
   "source": [
    "# STANDARDIZING THE VARIABLE\n",
    "\n",
    "Because the KNN classifier predicts the class of a given test observation by identifying the observations that are nearest to it, the scale of the variables matters. Any variables that are on a large scale will have a much larger effect on the distance between the observations, and hence on the KNN classifier, than variables that are on a small scale."
   ]
  },
  {
   "cell_type": "code",
   "execution_count": 30,
   "id": "7d1c69bb",
   "metadata": {},
   "outputs": [],
   "source": [
    "from sklearn.preprocessing import StandardScaler"
   ]
  },
  {
   "cell_type": "code",
   "execution_count": 31,
   "id": "739b564a",
   "metadata": {},
   "outputs": [
    {
     "data": {
      "text/plain": [
       "StandardScaler()"
      ]
     },
     "execution_count": 31,
     "metadata": {},
     "output_type": "execute_result"
    }
   ],
   "source": [
    "scaler = StandardScaler()\n",
    "scaler.fit(df.drop('SEM2 CGPA',axis=1))"
   ]
  },
  {
   "cell_type": "code",
   "execution_count": 32,
   "id": "c67f7be7",
   "metadata": {},
   "outputs": [],
   "source": [
    "scaled_features = scaler.transform(df.drop('SEM2 CGPA',axis=1))"
   ]
  },
  {
   "cell_type": "code",
   "execution_count": 33,
   "id": "9d7ed67f",
   "metadata": {},
   "outputs": [
    {
     "data": {
      "text/html": [
       "<div>\n",
       "<style scoped>\n",
       "    .dataframe tbody tr th:only-of-type {\n",
       "        vertical-align: middle;\n",
       "    }\n",
       "\n",
       "    .dataframe tbody tr th {\n",
       "        vertical-align: top;\n",
       "    }\n",
       "\n",
       "    .dataframe thead th {\n",
       "        text-align: right;\n",
       "    }\n",
       "</style>\n",
       "<table border=\"1\" class=\"dataframe\">\n",
       "  <thead>\n",
       "    <tr style=\"text-align: right;\">\n",
       "      <th></th>\n",
       "      <th>PROGRAM</th>\n",
       "      <th>RACE</th>\n",
       "      <th>RELIGION</th>\n",
       "      <th>STATE</th>\n",
       "      <th>INCOME</th>\n",
       "      <th>SPM ADDMATH</th>\n",
       "      <th>SPM PHY</th>\n",
       "      <th>SPM CHEM</th>\n",
       "      <th>SPM BIO</th>\n",
       "      <th>SEM1 CGPA</th>\n",
       "      <th>SEM1 MATH</th>\n",
       "      <th>SEM1 PHY</th>\n",
       "      <th>SEM1 CHEM</th>\n",
       "      <th>SEM1 BIO</th>\n",
       "    </tr>\n",
       "  </thead>\n",
       "  <tbody>\n",
       "    <tr>\n",
       "      <th>0</th>\n",
       "      <td>0.987985</td>\n",
       "      <td>0.380774</td>\n",
       "      <td>0.268071</td>\n",
       "      <td>-0.484640</td>\n",
       "      <td>1.337215</td>\n",
       "      <td>0.835125</td>\n",
       "      <td>1.609341</td>\n",
       "      <td>0.862124</td>\n",
       "      <td>0.338659</td>\n",
       "      <td>0.340897</td>\n",
       "      <td>0.065149</td>\n",
       "      <td>-0.532248</td>\n",
       "      <td>-0.428638</td>\n",
       "      <td>0.232454</td>\n",
       "    </tr>\n",
       "    <tr>\n",
       "      <th>1</th>\n",
       "      <td>0.987985</td>\n",
       "      <td>0.380774</td>\n",
       "      <td>0.268071</td>\n",
       "      <td>-0.484640</td>\n",
       "      <td>-0.841157</td>\n",
       "      <td>0.403116</td>\n",
       "      <td>0.929098</td>\n",
       "      <td>1.355846</td>\n",
       "      <td>1.664452</td>\n",
       "      <td>0.340897</td>\n",
       "      <td>-0.581651</td>\n",
       "      <td>1.317948</td>\n",
       "      <td>0.177907</td>\n",
       "      <td>2.217381</td>\n",
       "    </tr>\n",
       "    <tr>\n",
       "      <th>2</th>\n",
       "      <td>0.987985</td>\n",
       "      <td>0.380774</td>\n",
       "      <td>0.268071</td>\n",
       "      <td>-0.484640</td>\n",
       "      <td>1.772890</td>\n",
       "      <td>1.267134</td>\n",
       "      <td>-0.431387</td>\n",
       "      <td>0.368402</td>\n",
       "      <td>1.664452</td>\n",
       "      <td>0.340897</td>\n",
       "      <td>1.358750</td>\n",
       "      <td>-0.532248</td>\n",
       "      <td>0.784451</td>\n",
       "      <td>0.894097</td>\n",
       "    </tr>\n",
       "    <tr>\n",
       "      <th>3</th>\n",
       "      <td>0.987985</td>\n",
       "      <td>0.380774</td>\n",
       "      <td>0.268071</td>\n",
       "      <td>1.660072</td>\n",
       "      <td>-0.405483</td>\n",
       "      <td>0.403116</td>\n",
       "      <td>0.248856</td>\n",
       "      <td>1.355846</td>\n",
       "      <td>1.001556</td>\n",
       "      <td>1.596246</td>\n",
       "      <td>0.711950</td>\n",
       "      <td>1.934680</td>\n",
       "      <td>1.390996</td>\n",
       "      <td>-0.429188</td>\n",
       "    </tr>\n",
       "    <tr>\n",
       "      <th>4</th>\n",
       "      <td>0.987985</td>\n",
       "      <td>0.380774</td>\n",
       "      <td>0.268071</td>\n",
       "      <td>-0.484640</td>\n",
       "      <td>0.030192</td>\n",
       "      <td>-0.460903</td>\n",
       "      <td>0.929098</td>\n",
       "      <td>1.355846</td>\n",
       "      <td>1.664452</td>\n",
       "      <td>0.340897</td>\n",
       "      <td>-0.581651</td>\n",
       "      <td>1.934680</td>\n",
       "      <td>0.784451</td>\n",
       "      <td>0.232454</td>\n",
       "    </tr>\n",
       "  </tbody>\n",
       "</table>\n",
       "</div>"
      ],
      "text/plain": [
       "    PROGRAM      RACE  RELIGION     STATE    INCOME  SPM ADDMATH   SPM PHY  \\\n",
       "0  0.987985  0.380774  0.268071 -0.484640  1.337215     0.835125  1.609341   \n",
       "1  0.987985  0.380774  0.268071 -0.484640 -0.841157     0.403116  0.929098   \n",
       "2  0.987985  0.380774  0.268071 -0.484640  1.772890     1.267134 -0.431387   \n",
       "3  0.987985  0.380774  0.268071  1.660072 -0.405483     0.403116  0.248856   \n",
       "4  0.987985  0.380774  0.268071 -0.484640  0.030192    -0.460903  0.929098   \n",
       "\n",
       "   SPM CHEM   SPM BIO  SEM1 CGPA  SEM1 MATH  SEM1 PHY  SEM1 CHEM  SEM1 BIO  \n",
       "0  0.862124  0.338659   0.340897   0.065149 -0.532248  -0.428638  0.232454  \n",
       "1  1.355846  1.664452   0.340897  -0.581651  1.317948   0.177907  2.217381  \n",
       "2  0.368402  1.664452   0.340897   1.358750 -0.532248   0.784451  0.894097  \n",
       "3  1.355846  1.001556   1.596246   0.711950  1.934680   1.390996 -0.429188  \n",
       "4  1.355846  1.664452   0.340897  -0.581651  1.934680   0.784451  0.232454  "
      ]
     },
     "execution_count": 33,
     "metadata": {},
     "output_type": "execute_result"
    }
   ],
   "source": [
    "df_feat = pd.DataFrame(scaled_features,columns=df.columns[:-1])\n",
    "df_feat.head()"
   ]
  },
  {
   "cell_type": "markdown",
   "id": "d5dc9e60",
   "metadata": {},
   "source": [
    "# HOLD OUT VALIDATION (TRAIN TEST SPLIT)"
   ]
  },
  {
   "cell_type": "code",
   "execution_count": 34,
   "id": "031249d1",
   "metadata": {},
   "outputs": [],
   "source": [
    "from sklearn.model_selection import train_test_split"
   ]
  },
  {
   "cell_type": "code",
   "execution_count": 35,
   "id": "9e7a97f1",
   "metadata": {},
   "outputs": [],
   "source": [
    "X_train,X_test,y_train,y_test = train_test_split(df_feat,df['SEM2 CGPA'],test_size=0.2,random_state=0)"
   ]
  },
  {
   "cell_type": "code",
   "execution_count": 36,
   "id": "1f62475e",
   "metadata": {},
   "outputs": [
    {
     "data": {
      "text/html": [
       "<div>\n",
       "<style scoped>\n",
       "    .dataframe tbody tr th:only-of-type {\n",
       "        vertical-align: middle;\n",
       "    }\n",
       "\n",
       "    .dataframe tbody tr th {\n",
       "        vertical-align: top;\n",
       "    }\n",
       "\n",
       "    .dataframe thead th {\n",
       "        text-align: right;\n",
       "    }\n",
       "</style>\n",
       "<table border=\"1\" class=\"dataframe\">\n",
       "  <thead>\n",
       "    <tr style=\"text-align: right;\">\n",
       "      <th></th>\n",
       "      <th>PROGRAM</th>\n",
       "      <th>RACE</th>\n",
       "      <th>RELIGION</th>\n",
       "      <th>STATE</th>\n",
       "      <th>INCOME</th>\n",
       "      <th>SPM ADDMATH</th>\n",
       "      <th>SPM PHY</th>\n",
       "      <th>SPM CHEM</th>\n",
       "      <th>SPM BIO</th>\n",
       "      <th>SEM1 CGPA</th>\n",
       "      <th>SEM1 MATH</th>\n",
       "      <th>SEM1 PHY</th>\n",
       "      <th>SEM1 CHEM</th>\n",
       "      <th>SEM1 BIO</th>\n",
       "    </tr>\n",
       "  </thead>\n",
       "  <tbody>\n",
       "    <tr>\n",
       "      <th>552</th>\n",
       "      <td>0.987985</td>\n",
       "      <td>0.380774</td>\n",
       "      <td>0.268071</td>\n",
       "      <td>-0.48464</td>\n",
       "      <td>-0.405483</td>\n",
       "      <td>-0.028893</td>\n",
       "      <td>1.609341</td>\n",
       "      <td>1.355846</td>\n",
       "      <td>1.664452</td>\n",
       "      <td>0.340897</td>\n",
       "      <td>-0.581651</td>\n",
       "      <td>0.084484</td>\n",
       "      <td>0.784451</td>\n",
       "      <td>1.555739</td>\n",
       "    </tr>\n",
       "    <tr>\n",
       "      <th>1116</th>\n",
       "      <td>-1.012161</td>\n",
       "      <td>0.380774</td>\n",
       "      <td>0.268071</td>\n",
       "      <td>-0.48464</td>\n",
       "      <td>-0.841157</td>\n",
       "      <td>-0.460903</td>\n",
       "      <td>0.929098</td>\n",
       "      <td>-0.125320</td>\n",
       "      <td>-0.324237</td>\n",
       "      <td>1.596246</td>\n",
       "      <td>1.358750</td>\n",
       "      <td>1.934680</td>\n",
       "      <td>1.390996</td>\n",
       "      <td>0.894097</td>\n",
       "    </tr>\n",
       "    <tr>\n",
       "      <th>492</th>\n",
       "      <td>0.987985</td>\n",
       "      <td>0.380774</td>\n",
       "      <td>0.268071</td>\n",
       "      <td>-0.48464</td>\n",
       "      <td>-1.276832</td>\n",
       "      <td>0.835125</td>\n",
       "      <td>0.248856</td>\n",
       "      <td>0.862124</td>\n",
       "      <td>1.001556</td>\n",
       "      <td>-0.914452</td>\n",
       "      <td>-0.581651</td>\n",
       "      <td>-1.148980</td>\n",
       "      <td>-1.035182</td>\n",
       "      <td>0.232454</td>\n",
       "    </tr>\n",
       "    <tr>\n",
       "      <th>947</th>\n",
       "      <td>-1.012161</td>\n",
       "      <td>0.380774</td>\n",
       "      <td>0.268071</td>\n",
       "      <td>-0.48464</td>\n",
       "      <td>-1.276832</td>\n",
       "      <td>0.403116</td>\n",
       "      <td>0.248856</td>\n",
       "      <td>0.368402</td>\n",
       "      <td>-0.324237</td>\n",
       "      <td>1.596246</td>\n",
       "      <td>2.652351</td>\n",
       "      <td>1.317948</td>\n",
       "      <td>2.604084</td>\n",
       "      <td>0.232454</td>\n",
       "    </tr>\n",
       "    <tr>\n",
       "      <th>1162</th>\n",
       "      <td>-1.012161</td>\n",
       "      <td>0.380774</td>\n",
       "      <td>0.268071</td>\n",
       "      <td>-0.48464</td>\n",
       "      <td>-0.405483</td>\n",
       "      <td>-0.028893</td>\n",
       "      <td>0.929098</td>\n",
       "      <td>0.368402</td>\n",
       "      <td>0.338659</td>\n",
       "      <td>0.340897</td>\n",
       "      <td>0.711950</td>\n",
       "      <td>0.701216</td>\n",
       "      <td>0.177907</td>\n",
       "      <td>0.894097</td>\n",
       "    </tr>\n",
       "  </tbody>\n",
       "</table>\n",
       "</div>"
      ],
      "text/plain": [
       "       PROGRAM      RACE  RELIGION    STATE    INCOME  SPM ADDMATH   SPM PHY  \\\n",
       "552   0.987985  0.380774  0.268071 -0.48464 -0.405483    -0.028893  1.609341   \n",
       "1116 -1.012161  0.380774  0.268071 -0.48464 -0.841157    -0.460903  0.929098   \n",
       "492   0.987985  0.380774  0.268071 -0.48464 -1.276832     0.835125  0.248856   \n",
       "947  -1.012161  0.380774  0.268071 -0.48464 -1.276832     0.403116  0.248856   \n",
       "1162 -1.012161  0.380774  0.268071 -0.48464 -0.405483    -0.028893  0.929098   \n",
       "\n",
       "      SPM CHEM   SPM BIO  SEM1 CGPA  SEM1 MATH  SEM1 PHY  SEM1 CHEM  SEM1 BIO  \n",
       "552   1.355846  1.664452   0.340897  -0.581651  0.084484   0.784451  1.555739  \n",
       "1116 -0.125320 -0.324237   1.596246   1.358750  1.934680   1.390996  0.894097  \n",
       "492   0.862124  1.001556  -0.914452  -0.581651 -1.148980  -1.035182  0.232454  \n",
       "947   0.368402 -0.324237   1.596246   2.652351  1.317948   2.604084  0.232454  \n",
       "1162  0.368402  0.338659   0.340897   0.711950  0.701216   0.177907  0.894097  "
      ]
     },
     "execution_count": 36,
     "metadata": {},
     "output_type": "execute_result"
    }
   ],
   "source": [
    "X_train.head()"
   ]
  },
  {
   "cell_type": "code",
   "execution_count": 37,
   "id": "03fadc2d",
   "metadata": {},
   "outputs": [
    {
     "data": {
      "text/plain": [
       "552     1\n",
       "1116    2\n",
       "492     0\n",
       "947     2\n",
       "1162    0\n",
       "       ..\n",
       "763     1\n",
       "835     1\n",
       "1216    0\n",
       "559     0\n",
       "684     0\n",
       "Name: SEM2 CGPA, Length: 992, dtype: int64"
      ]
     },
     "execution_count": 37,
     "metadata": {},
     "output_type": "execute_result"
    }
   ],
   "source": [
    "y_train"
   ]
  },
  {
   "cell_type": "markdown",
   "id": "bf4b19ed",
   "metadata": {},
   "source": [
    "# MODEL FITTING"
   ]
  },
  {
   "cell_type": "code",
   "execution_count": 38,
   "id": "5e6c4d10",
   "metadata": {},
   "outputs": [],
   "source": [
    "from sklearn.svm import SVC\n",
    "from sklearn.metrics import accuracy_score\n",
    "from sklearn.metrics import  confusion_matrix\n",
    "from sklearn.metrics import classification_report\n",
    "\n",
    "import warnings # to hide unnecesary warning\n",
    "warnings.filterwarnings('ignore')"
   ]
  },
  {
   "cell_type": "code",
   "execution_count": 39,
   "id": "a48d4faf",
   "metadata": {},
   "outputs": [
    {
     "data": {
      "text/plain": [
       "SVC()"
      ]
     },
     "execution_count": 39,
     "metadata": {},
     "output_type": "execute_result"
    }
   ],
   "source": [
    "svc = SVC()\n",
    "svc.fit(X_train,y_train)"
   ]
  },
  {
   "cell_type": "code",
   "execution_count": 40,
   "id": "599b70f9",
   "metadata": {},
   "outputs": [
    {
     "data": {
      "text/plain": [
       "0.8554216867469879"
      ]
     },
     "execution_count": 40,
     "metadata": {},
     "output_type": "execute_result"
    }
   ],
   "source": [
    "y_pred = svc.predict(X_test)\n",
    "accuracy_score(y_test,y_pred)"
   ]
  },
  {
   "cell_type": "markdown",
   "id": "aaafe5ae",
   "metadata": {},
   "source": [
    "# EVALUATION 1"
   ]
  },
  {
   "cell_type": "code",
   "execution_count": 41,
   "id": "40179d23",
   "metadata": {},
   "outputs": [
    {
     "name": "stdout",
     "output_type": "stream",
     "text": [
      "[[145  11   0   0]\n",
      " [ 15  59   3   0]\n",
      " [  0   6   9   0]\n",
      " [  0   0   1   0]]\n"
     ]
    }
   ],
   "source": [
    "print(confusion_matrix(y_test,y_pred))"
   ]
  },
  {
   "cell_type": "code",
   "execution_count": 42,
   "id": "8676c7f0",
   "metadata": {},
   "outputs": [
    {
     "name": "stdout",
     "output_type": "stream",
     "text": [
      "              precision    recall  f1-score   support\n",
      "\n",
      "           0       0.91      0.93      0.92       156\n",
      "           1       0.78      0.77      0.77        77\n",
      "           2       0.69      0.60      0.64        15\n",
      "           3       0.00      0.00      0.00         1\n",
      "\n",
      "    accuracy                           0.86       249\n",
      "   macro avg       0.59      0.57      0.58       249\n",
      "weighted avg       0.85      0.86      0.85       249\n",
      "\n"
     ]
    }
   ],
   "source": [
    "print(classification_report(y_test,y_pred))"
   ]
  },
  {
   "cell_type": "markdown",
   "id": "50be8726",
   "metadata": {},
   "source": [
    "# HYPERPARAMETER TUNING (GRID SEARCH CV)"
   ]
  },
  {
   "cell_type": "code",
   "execution_count": 50,
   "id": "a0a32f23",
   "metadata": {},
   "outputs": [],
   "source": [
    "from sklearn.model_selection import GridSearchCV"
   ]
  },
  {
   "cell_type": "code",
   "execution_count": 51,
   "id": "fd8eea2f",
   "metadata": {},
   "outputs": [],
   "source": [
    "params = [{'C':[0.001,0.01,0.1,1,10,100],'kernel':['linear']},\n",
    "          {'C':[0.001,0.01,0.1,1,10,100],'kernel':['poly','rbf','sigmoid'],\n",
    "           'gamma':[0.001,0.01,0.1,0.2,0.3,0.4,0.5,0.6,0.7,0.8,0.9,1,10,100]}]\n",
    "           \n",
    "grid_search = GridSearchCV(estimator=svc,param_grid=params,scoring='accuracy',cv=10,n_jobs=-1)\n",
    "\n",
    "grid_search = grid_search.fit(X_train,y_train)"
   ]
  },
  {
   "cell_type": "code",
   "execution_count": 52,
   "id": "4727f7c8",
   "metadata": {},
   "outputs": [
    {
     "name": "stdout",
     "output_type": "stream",
     "text": [
      "{'C': 10, 'gamma': 0.01, 'kernel': 'sigmoid'}\n"
     ]
    }
   ],
   "source": [
    "print(grid_search.best_params_)"
   ]
  },
  {
   "cell_type": "markdown",
   "id": "499d8270",
   "metadata": {},
   "source": [
    "# EVALUATION 2"
   ]
  },
  {
   "cell_type": "code",
   "execution_count": 53,
   "id": "3be773e2",
   "metadata": {},
   "outputs": [
    {
     "data": {
      "text/plain": [
       "SVC(C=10, gamma=0.01, kernel='sigmoid')"
      ]
     },
     "execution_count": 53,
     "metadata": {},
     "output_type": "execute_result"
    }
   ],
   "source": [
    "svc = SVC(kernel='sigmoid',C=10, gamma=0.01)\n",
    "svc.fit(X_train,y_train)"
   ]
  },
  {
   "cell_type": "code",
   "execution_count": 54,
   "id": "170949a5",
   "metadata": {},
   "outputs": [
    {
     "data": {
      "text/plain": [
       "0.8755020080321285"
      ]
     },
     "execution_count": 54,
     "metadata": {},
     "output_type": "execute_result"
    }
   ],
   "source": [
    "y_pred = svc.predict(X_test)\n",
    "accuracy_score(y_test,y_pred)"
   ]
  },
  {
   "cell_type": "code",
   "execution_count": 57,
   "id": "120791c7",
   "metadata": {},
   "outputs": [
    {
     "name": "stdout",
     "output_type": "stream",
     "text": [
      "SVM WITH C=10, gamma=0.01,kernel=sigmoid (TARGET : SEM2 CGPA)\n",
      "\n",
      "\n",
      "[[150   6   0   0]\n",
      " [ 14  59   4   0]\n",
      " [  0   6   9   0]\n",
      " [  0   0   1   0]]\n",
      "\n",
      "\n",
      "              precision    recall  f1-score   support\n",
      "\n",
      "           0       0.91      0.96      0.94       156\n",
      "           1       0.83      0.77      0.80        77\n",
      "           2       0.64      0.60      0.62        15\n",
      "           3       0.00      0.00      0.00         1\n",
      "\n",
      "    accuracy                           0.88       249\n",
      "   macro avg       0.60      0.58      0.59       249\n",
      "weighted avg       0.87      0.88      0.87       249\n",
      "\n"
     ]
    }
   ],
   "source": [
    "print('SVM WITH C=10, gamma=0.01,kernel=sigmoid (TARGET : SEM2 CGPA)')\n",
    "print('\\n')\n",
    "print(confusion_matrix(y_test,y_pred))\n",
    "print('\\n')\n",
    "print(classification_report(y_test,y_pred))"
   ]
  }
 ],
 "metadata": {
  "kernelspec": {
   "display_name": "Python 3",
   "language": "python",
   "name": "python3"
  },
  "language_info": {
   "codemirror_mode": {
    "name": "ipython",
    "version": 3
   },
   "file_extension": ".py",
   "mimetype": "text/x-python",
   "name": "python",
   "nbconvert_exporter": "python",
   "pygments_lexer": "ipython3",
   "version": "3.8.8"
  }
 },
 "nbformat": 4,
 "nbformat_minor": 5
}
