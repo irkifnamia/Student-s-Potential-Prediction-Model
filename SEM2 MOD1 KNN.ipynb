{
 "cells": [
  {
   "cell_type": "markdown",
   "id": "cc33a2f8",
   "metadata": {},
   "source": [
    "# LOADING DATA"
   ]
  },
  {
   "cell_type": "code",
   "execution_count": 17,
   "id": "e5cf569b",
   "metadata": {},
   "outputs": [],
   "source": [
    "import numpy as np\n",
    "import pandas as pd"
   ]
  },
  {
   "cell_type": "code",
   "execution_count": 18,
   "id": "01d8a577",
   "metadata": {},
   "outputs": [],
   "source": [
    "df = pd.read_csv('mod1_encoded_sem2.csv')"
   ]
  },
  {
   "cell_type": "code",
   "execution_count": 19,
   "id": "257b655f",
   "metadata": {},
   "outputs": [],
   "source": [
    "df = df.drop('DEPENDENTS',axis=1)\n",
    "df = df.drop('YEAR',axis=1)\n",
    "df = df.drop('REGION',axis=1)\n",
    "df = df.drop('SCHOOL',axis=1)\n",
    "df = df.drop('LEARNING STYLE',axis=1)\n",
    "df = df.drop('GENDER',axis=1)"
   ]
  },
  {
   "cell_type": "code",
   "execution_count": 20,
   "id": "f49ef9b3",
   "metadata": {},
   "outputs": [
    {
     "data": {
      "text/html": [
       "<div>\n",
       "<style scoped>\n",
       "    .dataframe tbody tr th:only-of-type {\n",
       "        vertical-align: middle;\n",
       "    }\n",
       "\n",
       "    .dataframe tbody tr th {\n",
       "        vertical-align: top;\n",
       "    }\n",
       "\n",
       "    .dataframe thead th {\n",
       "        text-align: right;\n",
       "    }\n",
       "</style>\n",
       "<table border=\"1\" class=\"dataframe\">\n",
       "  <thead>\n",
       "    <tr style=\"text-align: right;\">\n",
       "      <th></th>\n",
       "      <th>PROGRAM</th>\n",
       "      <th>RACE</th>\n",
       "      <th>RELIGION</th>\n",
       "      <th>STATE</th>\n",
       "      <th>INCOME</th>\n",
       "      <th>SPM ADDMATH</th>\n",
       "      <th>SPM PHY</th>\n",
       "      <th>SPM CHEM</th>\n",
       "      <th>SPM BIO</th>\n",
       "      <th>SEM1 CGPA</th>\n",
       "      <th>SEM1 MATH</th>\n",
       "      <th>SEM1 PHY</th>\n",
       "      <th>SEM1 CHEM</th>\n",
       "      <th>SEM1 BIO</th>\n",
       "      <th>SEM2 CGPA</th>\n",
       "    </tr>\n",
       "  </thead>\n",
       "  <tbody>\n",
       "    <tr>\n",
       "      <th>0</th>\n",
       "      <td>1</td>\n",
       "      <td>3</td>\n",
       "      <td>2</td>\n",
       "      <td>1</td>\n",
       "      <td>6</td>\n",
       "      <td>6</td>\n",
       "      <td>5</td>\n",
       "      <td>5</td>\n",
       "      <td>3</td>\n",
       "      <td>1</td>\n",
       "      <td>2</td>\n",
       "      <td>1</td>\n",
       "      <td>1</td>\n",
       "      <td>2</td>\n",
       "      <td>1</td>\n",
       "    </tr>\n",
       "    <tr>\n",
       "      <th>1</th>\n",
       "      <td>1</td>\n",
       "      <td>3</td>\n",
       "      <td>2</td>\n",
       "      <td>1</td>\n",
       "      <td>1</td>\n",
       "      <td>5</td>\n",
       "      <td>4</td>\n",
       "      <td>6</td>\n",
       "      <td>5</td>\n",
       "      <td>1</td>\n",
       "      <td>1</td>\n",
       "      <td>4</td>\n",
       "      <td>2</td>\n",
       "      <td>5</td>\n",
       "      <td>1</td>\n",
       "    </tr>\n",
       "    <tr>\n",
       "      <th>2</th>\n",
       "      <td>1</td>\n",
       "      <td>3</td>\n",
       "      <td>2</td>\n",
       "      <td>1</td>\n",
       "      <td>7</td>\n",
       "      <td>7</td>\n",
       "      <td>2</td>\n",
       "      <td>4</td>\n",
       "      <td>5</td>\n",
       "      <td>1</td>\n",
       "      <td>4</td>\n",
       "      <td>1</td>\n",
       "      <td>3</td>\n",
       "      <td>3</td>\n",
       "      <td>1</td>\n",
       "    </tr>\n",
       "    <tr>\n",
       "      <th>3</th>\n",
       "      <td>1</td>\n",
       "      <td>3</td>\n",
       "      <td>2</td>\n",
       "      <td>8</td>\n",
       "      <td>2</td>\n",
       "      <td>5</td>\n",
       "      <td>3</td>\n",
       "      <td>6</td>\n",
       "      <td>4</td>\n",
       "      <td>2</td>\n",
       "      <td>3</td>\n",
       "      <td>5</td>\n",
       "      <td>4</td>\n",
       "      <td>1</td>\n",
       "      <td>2</td>\n",
       "    </tr>\n",
       "    <tr>\n",
       "      <th>4</th>\n",
       "      <td>1</td>\n",
       "      <td>3</td>\n",
       "      <td>2</td>\n",
       "      <td>1</td>\n",
       "      <td>3</td>\n",
       "      <td>3</td>\n",
       "      <td>4</td>\n",
       "      <td>6</td>\n",
       "      <td>5</td>\n",
       "      <td>1</td>\n",
       "      <td>1</td>\n",
       "      <td>5</td>\n",
       "      <td>3</td>\n",
       "      <td>2</td>\n",
       "      <td>1</td>\n",
       "    </tr>\n",
       "  </tbody>\n",
       "</table>\n",
       "</div>"
      ],
      "text/plain": [
       "   PROGRAM  RACE  RELIGION  STATE  INCOME  SPM ADDMATH  SPM PHY  SPM CHEM  \\\n",
       "0        1     3         2      1       6            6        5         5   \n",
       "1        1     3         2      1       1            5        4         6   \n",
       "2        1     3         2      1       7            7        2         4   \n",
       "3        1     3         2      8       2            5        3         6   \n",
       "4        1     3         2      1       3            3        4         6   \n",
       "\n",
       "   SPM BIO  SEM1 CGPA  SEM1 MATH  SEM1 PHY  SEM1 CHEM  SEM1 BIO  SEM2 CGPA  \n",
       "0        3          1          2         1          1         2          1  \n",
       "1        5          1          1         4          2         5          1  \n",
       "2        5          1          4         1          3         3          1  \n",
       "3        4          2          3         5          4         1          2  \n",
       "4        5          1          1         5          3         2          1  "
      ]
     },
     "execution_count": 20,
     "metadata": {},
     "output_type": "execute_result"
    }
   ],
   "source": [
    "df.head()"
   ]
  },
  {
   "cell_type": "code",
   "execution_count": 21,
   "id": "ee02a414",
   "metadata": {},
   "outputs": [
    {
     "name": "stdout",
     "output_type": "stream",
     "text": [
      "<class 'pandas.core.frame.DataFrame'>\n",
      "RangeIndex: 1241 entries, 0 to 1240\n",
      "Data columns (total 15 columns):\n",
      " #   Column       Non-Null Count  Dtype\n",
      "---  ------       --------------  -----\n",
      " 0   PROGRAM      1241 non-null   int64\n",
      " 1   RACE         1241 non-null   int64\n",
      " 2   RELIGION     1241 non-null   int64\n",
      " 3   STATE        1241 non-null   int64\n",
      " 4   INCOME       1241 non-null   int64\n",
      " 5   SPM ADDMATH  1241 non-null   int64\n",
      " 6   SPM PHY      1241 non-null   int64\n",
      " 7   SPM CHEM     1241 non-null   int64\n",
      " 8   SPM BIO      1241 non-null   int64\n",
      " 9   SEM1 CGPA    1241 non-null   int64\n",
      " 10  SEM1 MATH    1241 non-null   int64\n",
      " 11  SEM1 PHY     1241 non-null   int64\n",
      " 12  SEM1 CHEM    1241 non-null   int64\n",
      " 13  SEM1 BIO     1241 non-null   int64\n",
      " 14  SEM2 CGPA    1241 non-null   int64\n",
      "dtypes: int64(15)\n",
      "memory usage: 145.6 KB\n"
     ]
    }
   ],
   "source": [
    "df.info()"
   ]
  },
  {
   "cell_type": "code",
   "execution_count": 22,
   "id": "b969461a",
   "metadata": {},
   "outputs": [
    {
     "data": {
      "text/plain": [
       "(1241, 15)"
      ]
     },
     "execution_count": 22,
     "metadata": {},
     "output_type": "execute_result"
    }
   ],
   "source": [
    "df.shape"
   ]
  },
  {
   "cell_type": "markdown",
   "id": "259f1a86",
   "metadata": {},
   "source": [
    "# STANDARDIZING THE VARIABLE\n",
    "\n",
    "Because the KNN classifier predicts the class of a given test observation by identifying the observations that are nearest to it, the scale of the variables matters. Any variables that are on a large scale will have a much larger effect on the distance between the observations, and hence on the KNN classifier, than variables that are on a small scale."
   ]
  },
  {
   "cell_type": "code",
   "execution_count": 23,
   "id": "59bd1b93",
   "metadata": {},
   "outputs": [],
   "source": [
    "from sklearn.preprocessing import StandardScaler"
   ]
  },
  {
   "cell_type": "code",
   "execution_count": 24,
   "id": "96f0c8e4",
   "metadata": {},
   "outputs": [],
   "source": [
    "scaler = StandardScaler()"
   ]
  },
  {
   "cell_type": "code",
   "execution_count": 25,
   "id": "07869b59",
   "metadata": {},
   "outputs": [
    {
     "data": {
      "text/plain": [
       "StandardScaler()"
      ]
     },
     "execution_count": 25,
     "metadata": {},
     "output_type": "execute_result"
    }
   ],
   "source": [
    "scaler.fit(df.drop('SEM2 CGPA',axis=1))"
   ]
  },
  {
   "cell_type": "code",
   "execution_count": 26,
   "id": "3dc17d6d",
   "metadata": {},
   "outputs": [],
   "source": [
    "scaled_features = scaler.transform(df.drop('SEM2 CGPA',axis=1))"
   ]
  },
  {
   "cell_type": "code",
   "execution_count": 27,
   "id": "e44ebb9e",
   "metadata": {},
   "outputs": [
    {
     "data": {
      "text/html": [
       "<div>\n",
       "<style scoped>\n",
       "    .dataframe tbody tr th:only-of-type {\n",
       "        vertical-align: middle;\n",
       "    }\n",
       "\n",
       "    .dataframe tbody tr th {\n",
       "        vertical-align: top;\n",
       "    }\n",
       "\n",
       "    .dataframe thead th {\n",
       "        text-align: right;\n",
       "    }\n",
       "</style>\n",
       "<table border=\"1\" class=\"dataframe\">\n",
       "  <thead>\n",
       "    <tr style=\"text-align: right;\">\n",
       "      <th></th>\n",
       "      <th>PROGRAM</th>\n",
       "      <th>RACE</th>\n",
       "      <th>RELIGION</th>\n",
       "      <th>STATE</th>\n",
       "      <th>INCOME</th>\n",
       "      <th>SPM ADDMATH</th>\n",
       "      <th>SPM PHY</th>\n",
       "      <th>SPM CHEM</th>\n",
       "      <th>SPM BIO</th>\n",
       "      <th>SEM1 CGPA</th>\n",
       "      <th>SEM1 MATH</th>\n",
       "      <th>SEM1 PHY</th>\n",
       "      <th>SEM1 CHEM</th>\n",
       "      <th>SEM1 BIO</th>\n",
       "    </tr>\n",
       "  </thead>\n",
       "  <tbody>\n",
       "    <tr>\n",
       "      <th>0</th>\n",
       "      <td>0.987985</td>\n",
       "      <td>0.380774</td>\n",
       "      <td>0.268071</td>\n",
       "      <td>-0.484640</td>\n",
       "      <td>1.337215</td>\n",
       "      <td>0.835125</td>\n",
       "      <td>1.609341</td>\n",
       "      <td>0.862124</td>\n",
       "      <td>0.338659</td>\n",
       "      <td>0.340897</td>\n",
       "      <td>0.065149</td>\n",
       "      <td>-0.532248</td>\n",
       "      <td>-0.428638</td>\n",
       "      <td>0.232454</td>\n",
       "    </tr>\n",
       "    <tr>\n",
       "      <th>1</th>\n",
       "      <td>0.987985</td>\n",
       "      <td>0.380774</td>\n",
       "      <td>0.268071</td>\n",
       "      <td>-0.484640</td>\n",
       "      <td>-0.841157</td>\n",
       "      <td>0.403116</td>\n",
       "      <td>0.929098</td>\n",
       "      <td>1.355846</td>\n",
       "      <td>1.664452</td>\n",
       "      <td>0.340897</td>\n",
       "      <td>-0.581651</td>\n",
       "      <td>1.317948</td>\n",
       "      <td>0.177907</td>\n",
       "      <td>2.217381</td>\n",
       "    </tr>\n",
       "    <tr>\n",
       "      <th>2</th>\n",
       "      <td>0.987985</td>\n",
       "      <td>0.380774</td>\n",
       "      <td>0.268071</td>\n",
       "      <td>-0.484640</td>\n",
       "      <td>1.772890</td>\n",
       "      <td>1.267134</td>\n",
       "      <td>-0.431387</td>\n",
       "      <td>0.368402</td>\n",
       "      <td>1.664452</td>\n",
       "      <td>0.340897</td>\n",
       "      <td>1.358750</td>\n",
       "      <td>-0.532248</td>\n",
       "      <td>0.784451</td>\n",
       "      <td>0.894097</td>\n",
       "    </tr>\n",
       "    <tr>\n",
       "      <th>3</th>\n",
       "      <td>0.987985</td>\n",
       "      <td>0.380774</td>\n",
       "      <td>0.268071</td>\n",
       "      <td>1.660072</td>\n",
       "      <td>-0.405483</td>\n",
       "      <td>0.403116</td>\n",
       "      <td>0.248856</td>\n",
       "      <td>1.355846</td>\n",
       "      <td>1.001556</td>\n",
       "      <td>1.596246</td>\n",
       "      <td>0.711950</td>\n",
       "      <td>1.934680</td>\n",
       "      <td>1.390996</td>\n",
       "      <td>-0.429188</td>\n",
       "    </tr>\n",
       "    <tr>\n",
       "      <th>4</th>\n",
       "      <td>0.987985</td>\n",
       "      <td>0.380774</td>\n",
       "      <td>0.268071</td>\n",
       "      <td>-0.484640</td>\n",
       "      <td>0.030192</td>\n",
       "      <td>-0.460903</td>\n",
       "      <td>0.929098</td>\n",
       "      <td>1.355846</td>\n",
       "      <td>1.664452</td>\n",
       "      <td>0.340897</td>\n",
       "      <td>-0.581651</td>\n",
       "      <td>1.934680</td>\n",
       "      <td>0.784451</td>\n",
       "      <td>0.232454</td>\n",
       "    </tr>\n",
       "  </tbody>\n",
       "</table>\n",
       "</div>"
      ],
      "text/plain": [
       "    PROGRAM      RACE  RELIGION     STATE    INCOME  SPM ADDMATH   SPM PHY  \\\n",
       "0  0.987985  0.380774  0.268071 -0.484640  1.337215     0.835125  1.609341   \n",
       "1  0.987985  0.380774  0.268071 -0.484640 -0.841157     0.403116  0.929098   \n",
       "2  0.987985  0.380774  0.268071 -0.484640  1.772890     1.267134 -0.431387   \n",
       "3  0.987985  0.380774  0.268071  1.660072 -0.405483     0.403116  0.248856   \n",
       "4  0.987985  0.380774  0.268071 -0.484640  0.030192    -0.460903  0.929098   \n",
       "\n",
       "   SPM CHEM   SPM BIO  SEM1 CGPA  SEM1 MATH  SEM1 PHY  SEM1 CHEM  SEM1 BIO  \n",
       "0  0.862124  0.338659   0.340897   0.065149 -0.532248  -0.428638  0.232454  \n",
       "1  1.355846  1.664452   0.340897  -0.581651  1.317948   0.177907  2.217381  \n",
       "2  0.368402  1.664452   0.340897   1.358750 -0.532248   0.784451  0.894097  \n",
       "3  1.355846  1.001556   1.596246   0.711950  1.934680   1.390996 -0.429188  \n",
       "4  1.355846  1.664452   0.340897  -0.581651  1.934680   0.784451  0.232454  "
      ]
     },
     "execution_count": 27,
     "metadata": {},
     "output_type": "execute_result"
    }
   ],
   "source": [
    "df_feat = pd.DataFrame(scaled_features,columns=df.columns[:-1])\n",
    "df_feat.head()"
   ]
  },
  {
   "cell_type": "markdown",
   "id": "46706c4b",
   "metadata": {},
   "source": [
    "# HOLD OUT VALIDATION (TRAIN TEST SPLIT)"
   ]
  },
  {
   "cell_type": "code",
   "execution_count": 28,
   "id": "940b4af1",
   "metadata": {},
   "outputs": [],
   "source": [
    "from sklearn.model_selection import train_test_split"
   ]
  },
  {
   "cell_type": "code",
   "execution_count": 29,
   "id": "4cc3398b",
   "metadata": {},
   "outputs": [],
   "source": [
    "X_train,X_test,y_train,y_test = train_test_split(df_feat,df['SEM2 CGPA'],test_size=0.2,random_state=0)"
   ]
  },
  {
   "cell_type": "markdown",
   "id": "29244d7d",
   "metadata": {},
   "source": [
    "# MODEL FITTING"
   ]
  },
  {
   "cell_type": "code",
   "execution_count": 30,
   "id": "5aedcaa7",
   "metadata": {},
   "outputs": [],
   "source": [
    "from sklearn.neighbors import KNeighborsClassifier"
   ]
  },
  {
   "cell_type": "code",
   "execution_count": 31,
   "id": "fadd37df",
   "metadata": {},
   "outputs": [],
   "source": [
    "knn = KNeighborsClassifier(n_neighbors=1)\n",
    "knn.fit(X_train,y_train)\n",
    "pred = knn.predict(X_test)"
   ]
  },
  {
   "cell_type": "markdown",
   "id": "14aee321",
   "metadata": {},
   "source": [
    "# EVALUATION 1"
   ]
  },
  {
   "cell_type": "code",
   "execution_count": 32,
   "id": "8bc01440",
   "metadata": {},
   "outputs": [],
   "source": [
    "from sklearn.metrics import classification_report\n",
    "from sklearn.metrics import confusion_matrix"
   ]
  },
  {
   "cell_type": "code",
   "execution_count": 33,
   "id": "9e7b38ef",
   "metadata": {},
   "outputs": [
    {
     "name": "stdout",
     "output_type": "stream",
     "text": [
      "[[141  14   1   0]\n",
      " [ 18  50   8   1]\n",
      " [  0   6   8   1]\n",
      " [  0   0   0   1]]\n"
     ]
    }
   ],
   "source": [
    "print(confusion_matrix(y_test,pred))"
   ]
  },
  {
   "cell_type": "code",
   "execution_count": 34,
   "id": "c5fd0d0a",
   "metadata": {},
   "outputs": [
    {
     "name": "stdout",
     "output_type": "stream",
     "text": [
      "              precision    recall  f1-score   support\n",
      "\n",
      "           0       0.89      0.90      0.90       156\n",
      "           1       0.71      0.65      0.68        77\n",
      "           2       0.47      0.53      0.50        15\n",
      "           3       0.33      1.00      0.50         1\n",
      "\n",
      "    accuracy                           0.80       249\n",
      "   macro avg       0.60      0.77      0.64       249\n",
      "weighted avg       0.81      0.80      0.80       249\n",
      "\n"
     ]
    }
   ],
   "source": [
    "print(classification_report(y_test,pred))"
   ]
  },
  {
   "cell_type": "markdown",
   "id": "bd16c6be",
   "metadata": {},
   "source": [
    "# HYPERPARAMETER TUNING (ERROR RATE)"
   ]
  },
  {
   "cell_type": "code",
   "execution_count": 35,
   "id": "fae8c9c7",
   "metadata": {},
   "outputs": [],
   "source": [
    "import seaborn as sns\n",
    "import matplotlib.pyplot as plt\n",
    "%matplotlib inline\n",
    "\n",
    "# to hide unnecessary warning\n",
    "import warnings\n",
    "warnings.filterwarnings('ignore')"
   ]
  },
  {
   "cell_type": "code",
   "execution_count": 36,
   "id": "8e33537d",
   "metadata": {},
   "outputs": [],
   "source": [
    "error_rate = []\n",
    "\n",
    "for i in range(1,20):\n",
    "    knn = KNeighborsClassifier(n_neighbors=i)\n",
    "    knn.fit(X_train,y_train)\n",
    "    pred_i = knn.predict(X_test)\n",
    "    error_rate.append(np.mean(pred_i != y_test))"
   ]
  },
  {
   "cell_type": "code",
   "execution_count": 37,
   "id": "98f433fc",
   "metadata": {},
   "outputs": [
    {
     "data": {
      "text/plain": [
       "Text(0, 0.5, 'Error Rate')"
      ]
     },
     "execution_count": 37,
     "metadata": {},
     "output_type": "execute_result"
    },
    {
     "data": {
      "image/png": "[encoded data removed]",
      "text/plain": [
       "<Figure size 1440x720 with 1 Axes>"
      ]
     },
     "metadata": {
      "needs_background": "light"
     },
     "output_type": "display_data"
    }
   ],
   "source": [
    "plt.figure(figsize=(20,10))\n",
    "plt.plot(range(1,20),error_rate,color='blue',linestyle='dashed',marker='o',markerfacecolor='red',markersize='10')\n",
    "plt.title('Error Rate vs. K-Value')\n",
    "plt.xlabel('K')\n",
    "plt.ylabel('Error Rate')"
   ]
  },
  {
   "cell_type": "markdown",
   "id": "2d479df0",
   "metadata": {},
   "source": [
    "# HYPERPARAMETER TUNING (ACCURACY SCORE)"
   ]
  },
  {
   "cell_type": "code",
   "execution_count": 44,
   "id": "fa30d454",
   "metadata": {},
   "outputs": [],
   "source": [
    "from sklearn import metrics"
   ]
  },
  {
   "cell_type": "code",
   "execution_count": 45,
   "id": "e8595e5c",
   "metadata": {},
   "outputs": [],
   "source": [
    "# empty variable for storing the KNN metrics\n",
    "scores = []\n",
    "\n",
    "# we try diff values of k (from k=1 up to k=40)\n",
    "lrange = np.arange(1,20)\n",
    "\n",
    "# loop the KNN process\n",
    "for k in lrange:\n",
    "    # input the k-value and 'distance' measure\n",
    "    knn = KNeighborsClassifier(n_neighbors=k)\n",
    "    # input the train data to train KNN\n",
    "    knn.fit(X_train,y_train)\n",
    "    # see KNN prediction by inputting the test data\n",
    "    y_pred = knn.predict(X_test)\n",
    "    # append the performance metric (accuracy)\n",
    "    scores.append(metrics.accuracy_score(y_test,y_pred))\n",
    "    optimal_k = lrange[scores.index(max(scores))]"
   ]
  },
  {
   "cell_type": "code",
   "execution_count": 50,
   "id": "6b0f1c16",
   "metadata": {},
   "outputs": [
    {
     "data": {
      "image/png": "[encoded data removed]",
      "text/plain": [
       "<Figure size 1440x720 with 1 Axes>"
      ]
     },
     "metadata": {
      "needs_background": "light"
     },
     "output_type": "display_data"
    }
   ],
   "source": [
    "# plot accuracy scores vs k values\n",
    "plt.figure(2,figsize=(20,10))\n",
    "plt.plot(lrange,scores,color='blue',linestyle='dashed',marker='o',markerfacecolor='red',markersize='10')\n",
    "plt.xlabel('K')\n",
    "plt.ylabel('Accuracy Score')\n",
    "plt.title('Accuracy Scores VS K-Value')\n",
    "plt.show()"
   ]
  },
  {
   "cell_type": "code",
   "execution_count": 51,
   "id": "f28d39ce",
   "metadata": {},
   "outputs": [
    {
     "name": "stdout",
     "output_type": "stream",
     "text": [
      "Optimal k is 9\n",
      "Optimal score is 0.831\n"
     ]
    }
   ],
   "source": [
    "print(\"Optimal k is %d\" % optimal_k)\n",
    "print(\"Optimal score is %.3f\" % max(scores))"
   ]
  },
  {
   "cell_type": "markdown",
   "id": "899412b8",
   "metadata": {},
   "source": [
    "# EVALUATION 2"
   ]
  },
  {
   "cell_type": "code",
   "execution_count": 52,
   "id": "4b7df738",
   "metadata": {},
   "outputs": [
    {
     "name": "stdout",
     "output_type": "stream",
     "text": [
      "WITH K=1\n",
      "\n",
      "\n",
      "[[141  14   1   0]\n",
      " [ 18  50   8   1]\n",
      " [  0   6   8   1]\n",
      " [  0   0   0   1]]\n",
      "\n",
      "\n",
      "              precision    recall  f1-score   support\n",
      "\n",
      "           0       0.89      0.90      0.90       156\n",
      "           1       0.71      0.65      0.68        77\n",
      "           2       0.47      0.53      0.50        15\n",
      "           3       0.33      1.00      0.50         1\n",
      "\n",
      "    accuracy                           0.80       249\n",
      "   macro avg       0.60      0.77      0.64       249\n",
      "weighted avg       0.81      0.80      0.80       249\n",
      "\n"
     ]
    }
   ],
   "source": [
    "# EVALUATION WITH K = 1\n",
    "\n",
    "knn = KNeighborsClassifier(n_neighbors=1)\n",
    "\n",
    "knn.fit(X_train,y_train)\n",
    "pred = knn.predict(X_test)\n",
    "\n",
    "print('WITH K=1')\n",
    "print('\\n')\n",
    "print(confusion_matrix(y_test,pred))\n",
    "print('\\n')\n",
    "print(classification_report(y_test,pred))"
   ]
  },
  {
   "cell_type": "code",
   "execution_count": 55,
   "id": "11ddfed3",
   "metadata": {},
   "outputs": [
    {
     "name": "stdout",
     "output_type": "stream",
     "text": [
      "KNN WITH K=9 (TARGET : SEM2 CGPA)\n",
      "\n",
      "\n",
      "[[142  14   0   0]\n",
      " [ 13  58   6   0]\n",
      " [  0   8   7   0]\n",
      " [  0   0   1   0]]\n",
      "\n",
      "\n",
      "              precision    recall  f1-score   support\n",
      "\n",
      "           0       0.92      0.91      0.91       156\n",
      "           1       0.72      0.75      0.74        77\n",
      "           2       0.50      0.47      0.48        15\n",
      "           3       0.00      0.00      0.00         1\n",
      "\n",
      "    accuracy                           0.83       249\n",
      "   macro avg       0.54      0.53      0.53       249\n",
      "weighted avg       0.83      0.83      0.83       249\n",
      "\n"
     ]
    }
   ],
   "source": [
    "# EVALUATION WITH K = 9\n",
    "\n",
    "knn = KNeighborsClassifier(n_neighbors=9)\n",
    "\n",
    "knn.fit(X_train,y_train)\n",
    "pred = knn.predict(X_test)\n",
    "\n",
    "print('KNN WITH K=9 (TARGET : SEM2 CGPA)')\n",
    "print('\\n')\n",
    "print(confusion_matrix(y_test,pred))\n",
    "print('\\n')\n",
    "print(classification_report(y_test,pred))"
   ]
  },
  {
   "cell_type": "code",
   "execution_count": null,
   "id": "c9d86fb7",
   "metadata": {},
   "outputs": [],
   "source": []
  }
 ],
 "metadata": {
  "kernelspec": {
   "display_name": "Python 3",
   "language": "python",
   "name": "python3"
  },
  "language_info": {
   "codemirror_mode": {
    "name": "ipython",
    "version": 3
   },
   "file_extension": ".py",
   "mimetype": "text/x-python",
   "name": "python",
   "nbconvert_exporter": "python",
   "pygments_lexer": "ipython3",
   "version": "3.8.8"
  }
 },
 "nbformat": 4,
 "nbformat_minor": 5
}
