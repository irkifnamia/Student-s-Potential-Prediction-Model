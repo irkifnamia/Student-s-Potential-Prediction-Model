{
 "cells": [
  {
   "cell_type": "code",
   "execution_count": 29,
   "id": "d32460a1",
   "metadata": {},
   "outputs": [],
   "source": [
    "import numpy as np\n",
    "import pandas as pd\n",
    "import matplotlib.pyplot as plt\n",
    "import seaborn as sns"
   ]
  },
  {
   "cell_type": "code",
   "execution_count": 30,
   "id": "0440ad39",
   "metadata": {},
   "outputs": [
    {
     "data": {
      "text/plain": [
       "(1241, 21)"
      ]
     },
     "execution_count": 30,
     "metadata": {},
     "output_type": "execute_result"
    }
   ],
   "source": [
    "mod2 = pd.read_csv(\"mod1_encoded_sem2.csv\")\n",
    "mod2.shape"
   ]
  },
  {
   "cell_type": "code",
   "execution_count": 31,
   "id": "d29fae39",
   "metadata": {},
   "outputs": [],
   "source": [
    "mod2 = mod2.drop('DEPENDENTS', axis=1)\n",
    "mod2 = mod2.drop('YEAR', axis=1)\n",
    "mod2 = mod2.drop('REGION', axis=1) \n",
    "mod2 = mod2.drop('GENDER', axis=1) \n",
    "mod2 = mod2.drop('SCHOOL', axis=1) \n",
    "mod2 = mod2.drop('LEARNING STYLE', axis=1) "
   ]
  },
  {
   "cell_type": "code",
   "execution_count": 32,
   "id": "ceb350b7",
   "metadata": {},
   "outputs": [
    {
     "data": {
      "text/html": [
       "<div>\n",
       "<style scoped>\n",
       "    .dataframe tbody tr th:only-of-type {\n",
       "        vertical-align: middle;\n",
       "    }\n",
       "\n",
       "    .dataframe tbody tr th {\n",
       "        vertical-align: top;\n",
       "    }\n",
       "\n",
       "    .dataframe thead th {\n",
       "        text-align: right;\n",
       "    }\n",
       "</style>\n",
       "<table border=\"1\" class=\"dataframe\">\n",
       "  <thead>\n",
       "    <tr style=\"text-align: right;\">\n",
       "      <th></th>\n",
       "      <th>PROGRAM</th>\n",
       "      <th>RACE</th>\n",
       "      <th>RELIGION</th>\n",
       "      <th>STATE</th>\n",
       "      <th>INCOME</th>\n",
       "      <th>SPM ADDMATH</th>\n",
       "      <th>SPM PHY</th>\n",
       "      <th>SPM CHEM</th>\n",
       "      <th>SPM BIO</th>\n",
       "      <th>SEM1 CGPA</th>\n",
       "      <th>SEM1 MATH</th>\n",
       "      <th>SEM1 PHY</th>\n",
       "      <th>SEM1 CHEM</th>\n",
       "      <th>SEM1 BIO</th>\n",
       "      <th>SEM2 CGPA</th>\n",
       "    </tr>\n",
       "  </thead>\n",
       "  <tbody>\n",
       "    <tr>\n",
       "      <th>0</th>\n",
       "      <td>1</td>\n",
       "      <td>3</td>\n",
       "      <td>2</td>\n",
       "      <td>1</td>\n",
       "      <td>6</td>\n",
       "      <td>6</td>\n",
       "      <td>5</td>\n",
       "      <td>5</td>\n",
       "      <td>3</td>\n",
       "      <td>1</td>\n",
       "      <td>2</td>\n",
       "      <td>1</td>\n",
       "      <td>1</td>\n",
       "      <td>2</td>\n",
       "      <td>1</td>\n",
       "    </tr>\n",
       "    <tr>\n",
       "      <th>1</th>\n",
       "      <td>1</td>\n",
       "      <td>3</td>\n",
       "      <td>2</td>\n",
       "      <td>1</td>\n",
       "      <td>1</td>\n",
       "      <td>5</td>\n",
       "      <td>4</td>\n",
       "      <td>6</td>\n",
       "      <td>5</td>\n",
       "      <td>1</td>\n",
       "      <td>1</td>\n",
       "      <td>4</td>\n",
       "      <td>2</td>\n",
       "      <td>5</td>\n",
       "      <td>1</td>\n",
       "    </tr>\n",
       "    <tr>\n",
       "      <th>2</th>\n",
       "      <td>1</td>\n",
       "      <td>3</td>\n",
       "      <td>2</td>\n",
       "      <td>1</td>\n",
       "      <td>7</td>\n",
       "      <td>7</td>\n",
       "      <td>2</td>\n",
       "      <td>4</td>\n",
       "      <td>5</td>\n",
       "      <td>1</td>\n",
       "      <td>4</td>\n",
       "      <td>1</td>\n",
       "      <td>3</td>\n",
       "      <td>3</td>\n",
       "      <td>1</td>\n",
       "    </tr>\n",
       "    <tr>\n",
       "      <th>3</th>\n",
       "      <td>1</td>\n",
       "      <td>3</td>\n",
       "      <td>2</td>\n",
       "      <td>8</td>\n",
       "      <td>2</td>\n",
       "      <td>5</td>\n",
       "      <td>3</td>\n",
       "      <td>6</td>\n",
       "      <td>4</td>\n",
       "      <td>2</td>\n",
       "      <td>3</td>\n",
       "      <td>5</td>\n",
       "      <td>4</td>\n",
       "      <td>1</td>\n",
       "      <td>2</td>\n",
       "    </tr>\n",
       "    <tr>\n",
       "      <th>4</th>\n",
       "      <td>1</td>\n",
       "      <td>3</td>\n",
       "      <td>2</td>\n",
       "      <td>1</td>\n",
       "      <td>3</td>\n",
       "      <td>3</td>\n",
       "      <td>4</td>\n",
       "      <td>6</td>\n",
       "      <td>5</td>\n",
       "      <td>1</td>\n",
       "      <td>1</td>\n",
       "      <td>5</td>\n",
       "      <td>3</td>\n",
       "      <td>2</td>\n",
       "      <td>1</td>\n",
       "    </tr>\n",
       "  </tbody>\n",
       "</table>\n",
       "</div>"
      ],
      "text/plain": [
       "   PROGRAM  RACE  RELIGION  STATE  INCOME  SPM ADDMATH  SPM PHY  SPM CHEM  \\\n",
       "0        1     3         2      1       6            6        5         5   \n",
       "1        1     3         2      1       1            5        4         6   \n",
       "2        1     3         2      1       7            7        2         4   \n",
       "3        1     3         2      8       2            5        3         6   \n",
       "4        1     3         2      1       3            3        4         6   \n",
       "\n",
       "   SPM BIO  SEM1 CGPA  SEM1 MATH  SEM1 PHY  SEM1 CHEM  SEM1 BIO  SEM2 CGPA  \n",
       "0        3          1          2         1          1         2          1  \n",
       "1        5          1          1         4          2         5          1  \n",
       "2        5          1          4         1          3         3          1  \n",
       "3        4          2          3         5          4         1          2  \n",
       "4        5          1          1         5          3         2          1  "
      ]
     },
     "execution_count": 32,
     "metadata": {},
     "output_type": "execute_result"
    }
   ],
   "source": [
    "mod2.head()"
   ]
  },
  {
   "cell_type": "markdown",
   "id": "1fccde82",
   "metadata": {},
   "source": [
    "## TRAIN TEST SPLIT"
   ]
  },
  {
   "cell_type": "code",
   "execution_count": 33,
   "id": "30d54ba4",
   "metadata": {},
   "outputs": [],
   "source": [
    "## CREATE TRAIN TEST SPLIT TO AVOID OVERFITTING\n",
    "from sklearn.model_selection import train_test_split\n",
    "X_train,X_test,y_train,y_test = train_test_split(mod2.drop(labels=['SEM2 CGPA'],axis=1),\n",
    "                                                 mod2['SEM2 CGPA'],test_size=0.2,random_state=0)"
   ]
  },
  {
   "cell_type": "code",
   "execution_count": 34,
   "id": "885b7d5b",
   "metadata": {},
   "outputs": [
    {
     "name": "stdout",
     "output_type": "stream",
     "text": [
      "<class 'pandas.core.frame.DataFrame'>\n",
      "Int64Index: 992 entries, 552 to 684\n",
      "Data columns (total 14 columns):\n",
      " #   Column       Non-Null Count  Dtype\n",
      "---  ------       --------------  -----\n",
      " 0   PROGRAM      992 non-null    int64\n",
      " 1   RACE         992 non-null    int64\n",
      " 2   RELIGION     992 non-null    int64\n",
      " 3   STATE        992 non-null    int64\n",
      " 4   INCOME       992 non-null    int64\n",
      " 5   SPM ADDMATH  992 non-null    int64\n",
      " 6   SPM PHY      992 non-null    int64\n",
      " 7   SPM CHEM     992 non-null    int64\n",
      " 8   SPM BIO      992 non-null    int64\n",
      " 9   SEM1 CGPA    992 non-null    int64\n",
      " 10  SEM1 MATH    992 non-null    int64\n",
      " 11  SEM1 PHY     992 non-null    int64\n",
      " 12  SEM1 CHEM    992 non-null    int64\n",
      " 13  SEM1 BIO     992 non-null    int64\n",
      "dtypes: int64(14)\n",
      "memory usage: 116.2 KB\n"
     ]
    }
   ],
   "source": [
    "X_train.info()"
   ]
  },
  {
   "cell_type": "code",
   "execution_count": 35,
   "id": "9e3e32e2",
   "metadata": {},
   "outputs": [
    {
     "name": "stdout",
     "output_type": "stream",
     "text": [
      "<class 'pandas.core.frame.DataFrame'>\n",
      "Int64Index: 249 entries, 1031 to 963\n",
      "Data columns (total 14 columns):\n",
      " #   Column       Non-Null Count  Dtype\n",
      "---  ------       --------------  -----\n",
      " 0   PROGRAM      249 non-null    int64\n",
      " 1   RACE         249 non-null    int64\n",
      " 2   RELIGION     249 non-null    int64\n",
      " 3   STATE        249 non-null    int64\n",
      " 4   INCOME       249 non-null    int64\n",
      " 5   SPM ADDMATH  249 non-null    int64\n",
      " 6   SPM PHY      249 non-null    int64\n",
      " 7   SPM CHEM     249 non-null    int64\n",
      " 8   SPM BIO      249 non-null    int64\n",
      " 9   SEM1 CGPA    249 non-null    int64\n",
      " 10  SEM1 MATH    249 non-null    int64\n",
      " 11  SEM1 PHY     249 non-null    int64\n",
      " 12  SEM1 CHEM    249 non-null    int64\n",
      " 13  SEM1 BIO     249 non-null    int64\n",
      "dtypes: int64(14)\n",
      "memory usage: 29.2 KB\n"
     ]
    }
   ],
   "source": [
    "X_test.info()"
   ]
  },
  {
   "cell_type": "code",
   "execution_count": 36,
   "id": "a735098d",
   "metadata": {},
   "outputs": [
    {
     "data": {
      "text/plain": [
       "0    0.611895\n",
       "1    0.313508\n",
       "2    0.067540\n",
       "3    0.006048\n",
       "4    0.001008\n",
       "Name: SEM2 CGPA, dtype: float64"
      ]
     },
     "execution_count": 36,
     "metadata": {},
     "output_type": "execute_result"
    }
   ],
   "source": [
    "#distribution in training set\n",
    "y_train.value_counts(normalize=True)"
   ]
  },
  {
   "cell_type": "code",
   "execution_count": 37,
   "id": "0c4de01e",
   "metadata": {},
   "outputs": [
    {
     "data": {
      "text/plain": [
       "0    0.626506\n",
       "1    0.309237\n",
       "2    0.060241\n",
       "3    0.004016\n",
       "Name: SEM2 CGPA, dtype: float64"
      ]
     },
     "execution_count": 37,
     "metadata": {},
     "output_type": "execute_result"
    }
   ],
   "source": [
    "#distribution in testing set\n",
    "y_test.value_counts(normalize=True)"
   ]
  },
  {
   "cell_type": "code",
   "execution_count": 38,
   "id": "a3e565bd",
   "metadata": {},
   "outputs": [
    {
     "data": {
      "text/plain": [
       "((992, 14), (992,))"
      ]
     },
     "execution_count": 38,
     "metadata": {},
     "output_type": "execute_result"
    }
   ],
   "source": [
    "#shape of training set\n",
    "X_train.shape, y_train.shape"
   ]
  },
  {
   "cell_type": "code",
   "execution_count": 39,
   "id": "4f40498d",
   "metadata": {},
   "outputs": [
    {
     "data": {
      "text/plain": [
       "((249, 14), (249,))"
      ]
     },
     "execution_count": 39,
     "metadata": {},
     "output_type": "execute_result"
    }
   ],
   "source": [
    "#shape of testing set\n",
    "X_test.shape, y_test.shape"
   ]
  },
  {
   "cell_type": "markdown",
   "id": "e67b6c2d",
   "metadata": {},
   "source": [
    "## DECISION TREE MODELLING"
   ]
  },
  {
   "cell_type": "code",
   "execution_count": 63,
   "id": "d018e2b9",
   "metadata": {},
   "outputs": [],
   "source": [
    "import pandas as pd\n",
    "from sklearn.metrics import accuracy_score, confusion_matrix, precision_score, classification_report\n",
    "from sklearn.tree import DecisionTreeClassifier\n",
    "from sklearn.tree import DecisionTreeRegressor\n",
    "from sklearn.model_selection import cross_val_score\n",
    "\n",
    "import warnings # to hide unnecesary warning\n",
    "warnings.filterwarnings('ignore')                                                            \n",
    "%matplotlib inline"
   ]
  },
  {
   "cell_type": "code",
   "execution_count": 64,
   "id": "55413dd6",
   "metadata": {},
   "outputs": [
    {
     "data": {
      "text/plain": [
       "DecisionTreeClassifier(criterion='entropy', random_state=0)"
      ]
     },
     "execution_count": 64,
     "metadata": {},
     "output_type": "execute_result"
    }
   ],
   "source": [
    "dt_mod =  DecisionTreeClassifier (random_state=0, criterion = 'entropy')\n",
    "dt_mod.fit(X_train, y_train)"
   ]
  },
  {
   "cell_type": "code",
   "execution_count": 65,
   "id": "202fd597",
   "metadata": {},
   "outputs": [
    {
     "data": {
      "text/plain": [
       "{'ccp_alpha': 0.0,\n",
       " 'class_weight': None,\n",
       " 'criterion': 'entropy',\n",
       " 'max_depth': None,\n",
       " 'max_features': None,\n",
       " 'max_leaf_nodes': None,\n",
       " 'min_impurity_decrease': 0.0,\n",
       " 'min_impurity_split': None,\n",
       " 'min_samples_leaf': 1,\n",
       " 'min_samples_split': 2,\n",
       " 'min_weight_fraction_leaf': 0.0,\n",
       " 'random_state': 0,\n",
       " 'splitter': 'best'}"
      ]
     },
     "execution_count": 65,
     "metadata": {},
     "output_type": "execute_result"
    }
   ],
   "source": [
    "dt_mod.get_params()"
   ]
  },
  {
   "cell_type": "code",
   "execution_count": 66,
   "id": "fa155df5",
   "metadata": {},
   "outputs": [
    {
     "name": "stdout",
     "output_type": "stream",
     "text": [
      "{'criterion': 'entropy', 'max_features': None, 'max_leaf_nodes': None, 'min_samples_leaf': 1, 'min_weight_fraction_leaf': 0.1}\n"
     ]
    }
   ],
   "source": [
    "from sklearn.model_selection import GridSearchCV\n",
    "\n",
    "params = [{'criterion':['gini', 'entropy'],\n",
    "          \"max_features\":[\"auto\",\"log2\",\"sqrt\",None],\n",
    "          \"max_leaf_nodes\":[None,10,20,30,40,50,60,70,80,90],\n",
    "          \"min_weight_fraction_leaf\":[0.1,0.2,0.3,0.4,0.5,0.6,0.7,0.8,0.9],\n",
    "          \"min_samples_leaf\":[1,2,3,4,5,6,7,8,9,10]}]\n",
    "          \n",
    "           \n",
    "grid_search = GridSearchCV(estimator=dt_mod,param_grid=params,scoring='accuracy',cv=10,n_jobs=-1)\n",
    "\n",
    "grid_search = grid_search.fit(X_train,y_train)\n",
    "\n",
    "print(grid_search.best_params_)"
   ]
  },
  {
   "cell_type": "code",
   "execution_count": 67,
   "id": "4c1ee80f",
   "metadata": {},
   "outputs": [
    {
     "data": {
      "text/plain": [
       "1.0"
      ]
     },
     "execution_count": 67,
     "metadata": {},
     "output_type": "execute_result"
    }
   ],
   "source": [
    "#checking the training score\n",
    "dt_mod.score(X_train, y_train)"
   ]
  },
  {
   "cell_type": "code",
   "execution_count": 68,
   "id": "4ab0763f",
   "metadata": {},
   "outputs": [
    {
     "data": {
      "text/plain": [
       "0.7791164658634538"
      ]
     },
     "execution_count": 68,
     "metadata": {},
     "output_type": "execute_result"
    }
   ],
   "source": [
    "#checking the testing score\n",
    "dt_mod.score(X_test, y_test)"
   ]
  },
  {
   "cell_type": "code",
   "execution_count": 69,
   "id": "1c79127b",
   "metadata": {},
   "outputs": [
    {
     "data": {
      "text/plain": [
       "array([0, 0, 0, 0, 1, 1, 0, 0, 1, 0, 0, 1, 0, 1, 0, 0, 0, 0, 1, 0, 0, 2,\n",
       "       0, 0, 0, 0, 2, 1, 2, 1, 1, 0, 1, 0, 2, 0, 0, 0, 0, 1, 0, 1, 0, 1,\n",
       "       1, 0, 1, 1, 0, 1, 2, 0, 0, 0, 0, 0, 0, 0, 2, 1, 0, 0, 0, 0, 0, 1,\n",
       "       0, 0, 0, 1, 0, 0, 0, 2, 0, 0, 1, 0, 1, 1, 2, 0, 2, 1, 0, 0, 1, 1,\n",
       "       1, 0, 0, 0, 1, 0, 0, 0, 1, 0, 2, 0, 0, 0, 0, 0, 1, 1, 0, 1, 1, 1,\n",
       "       1, 1, 0, 1, 0, 1, 1, 0, 0, 0, 0, 0, 1, 0, 2, 1, 1, 0, 0, 0, 1, 0,\n",
       "       2, 1, 0, 1, 0, 0, 0, 0, 0, 0, 1, 0, 0, 1, 1, 1, 0, 0, 1, 0, 0, 0,\n",
       "       0, 0, 1, 0, 1, 0, 0, 0, 0, 0, 0, 1, 0, 0, 1, 0, 0, 2, 0, 1, 0, 0,\n",
       "       0, 4, 0, 0, 1, 1, 2, 0, 0, 0, 0, 0, 0, 1, 1, 0, 0, 0, 0, 1, 2, 0,\n",
       "       0, 0, 1, 0, 0, 0, 0, 0, 2, 1, 0, 0, 2, 1, 0, 0, 0, 0, 0, 0, 0, 0,\n",
       "       0, 0, 1, 0, 2, 0, 0, 0, 1, 1, 1, 1, 1, 1, 1, 0, 0, 0, 1, 0, 1, 2,\n",
       "       1, 1, 1, 2, 0, 1, 1], dtype=int64)"
      ]
     },
     "execution_count": 69,
     "metadata": {},
     "output_type": "execute_result"
    }
   ],
   "source": [
    "#Predicting values on test set\n",
    "y_predicted = dt_mod.predict(X_test)\n",
    "y_predicted"
   ]
  },
  {
   "cell_type": "code",
   "execution_count": 70,
   "id": "cb6a8520",
   "metadata": {},
   "outputs": [
    {
     "data": {
      "text/plain": [
       "array([[1., 0., 0., 0., 0.],\n",
       "       [1., 0., 0., 0., 0.],\n",
       "       [1., 0., 0., 0., 0.],\n",
       "       ...,\n",
       "       [1., 0., 0., 0., 0.],\n",
       "       [0., 1., 0., 0., 0.],\n",
       "       [0., 1., 0., 0., 0.]])"
      ]
     },
     "execution_count": 70,
     "metadata": {},
     "output_type": "execute_result"
    }
   ],
   "source": [
    "#Predicting values on test set - alternative\n",
    "dt_mod.predict_proba(X_test)"
   ]
  },
  {
   "cell_type": "code",
   "execution_count": 71,
   "id": "63a099bb",
   "metadata": {},
   "outputs": [
    {
     "data": {
      "text/plain": [
       "77.91164658634538"
      ]
     },
     "execution_count": 71,
     "metadata": {},
     "output_type": "execute_result"
    }
   ],
   "source": [
    "#Checking test accuracy\n",
    "accuracy_score(y_test, y_predicted) * 100"
   ]
  },
  {
   "cell_type": "code",
   "execution_count": 72,
   "id": "21807006",
   "metadata": {},
   "outputs": [
    {
     "data": {
      "text/plain": [
       "array([[134,  22,   0,   0,   0],\n",
       "       [ 16,  50,  10,   0,   1],\n",
       "       [  0,   5,  10,   0,   0],\n",
       "       [  0,   1,   0,   0,   0],\n",
       "       [  0,   0,   0,   0,   0]], dtype=int64)"
      ]
     },
     "execution_count": 72,
     "metadata": {},
     "output_type": "execute_result"
    }
   ],
   "source": [
    "#Confusion Matrix\n",
    "confusion_matrix(y_test, y_predicted)"
   ]
  },
  {
   "cell_type": "code",
   "execution_count": 73,
   "id": "bf349382",
   "metadata": {},
   "outputs": [
    {
     "name": "stdout",
     "output_type": "stream",
     "text": [
      "DT Results : Target SEM2 CGPA\n",
      "              precision    recall  f1-score   support\n",
      "\n",
      "      <=1.99       0.89      0.86      0.88       156\n",
      "      <=2.49       0.64      0.65      0.65        77\n",
      "      <=2.99       0.50      0.67      0.57        15\n",
      "      <=3.49       0.00      0.00      0.00         1\n",
      "      =>3.50       0.00      0.00      0.00         0\n",
      "\n",
      "    accuracy                           0.78       249\n",
      "   macro avg       0.41      0.43      0.42       249\n",
      "weighted avg       0.79      0.78      0.78       249\n",
      "\n"
     ]
    }
   ],
   "source": [
    "print ('DT Results : Target SEM2 CGPA')\n",
    "print(classification_report(y_test, y_predicted, target_names=[\"<=1.99\",\"<=2.49\",\"<=2.99\", \"<=3.49\",\"=>3.50\"]))"
   ]
  },
  {
   "cell_type": "markdown",
   "id": "e286d21e",
   "metadata": {},
   "source": [
    "## PLOTTING THE TREE"
   ]
  },
  {
   "cell_type": "code",
   "execution_count": 74,
   "id": "d7311202",
   "metadata": {},
   "outputs": [
    {
     "data": {
      "image/png": "[encoded data removed]",
      "text/plain": [
       "<Figure size 700x700 with 1 Axes>"
      ]
     },
     "metadata": {
      "needs_background": "light"
     },
     "output_type": "display_data"
    }
   ],
   "source": [
    "#Plotting the Tree\n",
    "from sklearn import tree\n",
    "fn = [\"program\",   \n",
    "      \"race\",\n",
    "      \"religion\",\n",
    "      \"state\",  \n",
    "      \"income\",\n",
    "      \"SPM addmath\",\n",
    "      \"SPM phy\",\n",
    "      \"SPM chem\",\n",
    "      \"SPM bio\",\n",
    "      \"SEM1 CGPA\",\n",
    "      \"SEM1 math\",\n",
    "      \"SEM1 phy\",\n",
    "      \"SEM1 chem\",\n",
    "      \"SEM1 bio\"]\n",
    "cn = [\"<=1.99\",\"<=2.49\",\"<=2.99\", \"<=3.49\",\"=>3.50\"]\n",
    "fig, axes = plt.subplots(nrows = 1,ncols = 1,figsize = (10,10), dpi=70)\n",
    "tree.plot_tree(dt_mod, filled = True, feature_names = fn, class_names = cn);\n",
    "fig.savefig('imagename.png')"
   ]
  }
 ],
 "metadata": {
  "kernelspec": {
   "display_name": "Python 3",
   "language": "python",
   "name": "python3"
  },
  "language_info": {
   "codemirror_mode": {
    "name": "ipython",
    "version": 3
   },
   "file_extension": ".py",
   "mimetype": "text/x-python",
   "name": "python",
   "nbconvert_exporter": "python",
   "pygments_lexer": "ipython3",
   "version": "3.8.8"
  }
 },
 "nbformat": 4,
 "nbformat_minor": 5
}
