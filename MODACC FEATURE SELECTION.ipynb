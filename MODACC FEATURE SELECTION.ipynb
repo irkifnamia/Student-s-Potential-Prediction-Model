{
 "cells": [
  {
   "cell_type": "markdown",
   "id": "2b2e9fe2",
   "metadata": {},
   "source": [
    "# IMPORT PACKAGE & LOAD DATASET"
   ]
  },
  {
   "cell_type": "code",
   "execution_count": 3,
   "id": "e7dd96b8",
   "metadata": {},
   "outputs": [],
   "source": [
    "import numpy as np\n",
    "import pandas as pd\n",
    "import seaborn as sns"
   ]
  },
  {
   "cell_type": "code",
   "execution_count": 4,
   "id": "080c3bd4",
   "metadata": {},
   "outputs": [],
   "source": [
    "modacc = pd.read_csv('modacc.csv')"
   ]
  },
  {
   "cell_type": "code",
   "execution_count": 5,
   "id": "143be539",
   "metadata": {},
   "outputs": [
    {
     "data": {
      "text/html": [
       "<div>\n",
       "<style scoped>\n",
       "    .dataframe tbody tr th:only-of-type {\n",
       "        vertical-align: middle;\n",
       "    }\n",
       "\n",
       "    .dataframe tbody tr th {\n",
       "        vertical-align: top;\n",
       "    }\n",
       "\n",
       "    .dataframe thead th {\n",
       "        text-align: right;\n",
       "    }\n",
       "</style>\n",
       "<table border=\"1\" class=\"dataframe\">\n",
       "  <thead>\n",
       "    <tr style=\"text-align: right;\">\n",
       "      <th></th>\n",
       "      <th>STUDENT ID</th>\n",
       "      <th>LEARNING STYLE</th>\n",
       "      <th>RACE</th>\n",
       "      <th>GENDER</th>\n",
       "      <th>RELIGION</th>\n",
       "      <th>STATE</th>\n",
       "      <th>REGION</th>\n",
       "      <th>INCOME</th>\n",
       "      <th>DEPENDENTS</th>\n",
       "      <th>SCHOOL</th>\n",
       "      <th>SPM ADDMATH</th>\n",
       "      <th>SEM1 CGPA</th>\n",
       "      <th>SEM1 MATH</th>\n",
       "      <th>SEM1 BUSINESS</th>\n",
       "      <th>SEM1 ECONOMY</th>\n",
       "      <th>SEM1 ACCOUNTING</th>\n",
       "      <th>SEM2 CGPA</th>\n",
       "    </tr>\n",
       "  </thead>\n",
       "  <tbody>\n",
       "    <tr>\n",
       "      <th>0</th>\n",
       "      <td>2019/2020|MA1918125524</td>\n",
       "      <td>0</td>\n",
       "      <td>3</td>\n",
       "      <td>0</td>\n",
       "      <td>2</td>\n",
       "      <td>10</td>\n",
       "      <td>1</td>\n",
       "      <td>6</td>\n",
       "      <td>5</td>\n",
       "      <td>0</td>\n",
       "      <td>5</td>\n",
       "      <td>0</td>\n",
       "      <td>0</td>\n",
       "      <td>2</td>\n",
       "      <td>3</td>\n",
       "      <td>0</td>\n",
       "      <td>0</td>\n",
       "    </tr>\n",
       "    <tr>\n",
       "      <th>1</th>\n",
       "      <td>2019/2020|MA1918125743</td>\n",
       "      <td>0</td>\n",
       "      <td>3</td>\n",
       "      <td>0</td>\n",
       "      <td>2</td>\n",
       "      <td>1</td>\n",
       "      <td>1</td>\n",
       "      <td>4</td>\n",
       "      <td>5</td>\n",
       "      <td>0</td>\n",
       "      <td>5</td>\n",
       "      <td>0</td>\n",
       "      <td>0</td>\n",
       "      <td>1</td>\n",
       "      <td>0</td>\n",
       "      <td>0</td>\n",
       "      <td>0</td>\n",
       "    </tr>\n",
       "    <tr>\n",
       "      <th>2</th>\n",
       "      <td>2019/2020|MA1918125760</td>\n",
       "      <td>0</td>\n",
       "      <td>3</td>\n",
       "      <td>0</td>\n",
       "      <td>2</td>\n",
       "      <td>1</td>\n",
       "      <td>2</td>\n",
       "      <td>5</td>\n",
       "      <td>5</td>\n",
       "      <td>0</td>\n",
       "      <td>0</td>\n",
       "      <td>0</td>\n",
       "      <td>0</td>\n",
       "      <td>2</td>\n",
       "      <td>4</td>\n",
       "      <td>0</td>\n",
       "      <td>0</td>\n",
       "    </tr>\n",
       "    <tr>\n",
       "      <th>3</th>\n",
       "      <td>2019/2020|MA1918125556</td>\n",
       "      <td>0</td>\n",
       "      <td>3</td>\n",
       "      <td>0</td>\n",
       "      <td>2</td>\n",
       "      <td>10</td>\n",
       "      <td>1</td>\n",
       "      <td>5</td>\n",
       "      <td>5</td>\n",
       "      <td>0</td>\n",
       "      <td>5</td>\n",
       "      <td>0</td>\n",
       "      <td>0</td>\n",
       "      <td>3</td>\n",
       "      <td>3</td>\n",
       "      <td>0</td>\n",
       "      <td>0</td>\n",
       "    </tr>\n",
       "    <tr>\n",
       "      <th>4</th>\n",
       "      <td>2019/2020|MA1918125912</td>\n",
       "      <td>0</td>\n",
       "      <td>3</td>\n",
       "      <td>0</td>\n",
       "      <td>2</td>\n",
       "      <td>1</td>\n",
       "      <td>1</td>\n",
       "      <td>6</td>\n",
       "      <td>3</td>\n",
       "      <td>1</td>\n",
       "      <td>6</td>\n",
       "      <td>1</td>\n",
       "      <td>0</td>\n",
       "      <td>1</td>\n",
       "      <td>3</td>\n",
       "      <td>3</td>\n",
       "      <td>0</td>\n",
       "    </tr>\n",
       "  </tbody>\n",
       "</table>\n",
       "</div>"
      ],
      "text/plain": [
       "               STUDENT ID  LEARNING STYLE  RACE  GENDER  RELIGION  STATE  \\\n",
       "0  2019/2020|MA1918125524               0     3       0         2     10   \n",
       "1  2019/2020|MA1918125743               0     3       0         2      1   \n",
       "2  2019/2020|MA1918125760               0     3       0         2      1   \n",
       "3  2019/2020|MA1918125556               0     3       0         2     10   \n",
       "4  2019/2020|MA1918125912               0     3       0         2      1   \n",
       "\n",
       "   REGION  INCOME  DEPENDENTS  SCHOOL  SPM ADDMATH  SEM1 CGPA  SEM1 MATH  \\\n",
       "0       1       6           5       0            5          0          0   \n",
       "1       1       4           5       0            5          0          0   \n",
       "2       2       5           5       0            0          0          0   \n",
       "3       1       5           5       0            5          0          0   \n",
       "4       1       6           3       1            6          1          0   \n",
       "\n",
       "   SEM1 BUSINESS  SEM1 ECONOMY  SEM1 ACCOUNTING  SEM2 CGPA  \n",
       "0              2             3                0          0  \n",
       "1              1             0                0          0  \n",
       "2              2             4                0          0  \n",
       "3              3             3                0          0  \n",
       "4              1             3                3          0  "
      ]
     },
     "execution_count": 5,
     "metadata": {},
     "output_type": "execute_result"
    }
   ],
   "source": [
    "modacc.head()"
   ]
  },
  {
   "cell_type": "code",
   "execution_count": 6,
   "id": "de164a9e",
   "metadata": {},
   "outputs": [
    {
     "data": {
      "text/plain": [
       "Index(['STUDENT ID', 'LEARNING STYLE', 'RACE', 'GENDER', 'RELIGION', 'STATE',\n",
       "       'REGION', 'INCOME', 'DEPENDENTS', 'SCHOOL', 'SPM ADDMATH', 'SEM1 CGPA',\n",
       "       'SEM1 MATH', 'SEM1 BUSINESS', 'SEM1 ECONOMY', 'SEM1 ACCOUNTING',\n",
       "       'SEM2 CGPA'],\n",
       "      dtype='object')"
      ]
     },
     "execution_count": 6,
     "metadata": {},
     "output_type": "execute_result"
    }
   ],
   "source": [
    "modacc.columns"
   ]
  },
  {
   "cell_type": "code",
   "execution_count": 7,
   "id": "e52bb58d",
   "metadata": {},
   "outputs": [
    {
     "name": "stdout",
     "output_type": "stream",
     "text": [
      "<class 'pandas.core.frame.DataFrame'>\n",
      "RangeIndex: 321 entries, 0 to 320\n",
      "Data columns (total 17 columns):\n",
      " #   Column           Non-Null Count  Dtype \n",
      "---  ------           --------------  ----- \n",
      " 0   STUDENT ID       321 non-null    object\n",
      " 1   LEARNING STYLE   321 non-null    int64 \n",
      " 2   RACE             321 non-null    int64 \n",
      " 3   GENDER           321 non-null    int64 \n",
      " 4   RELIGION         321 non-null    int64 \n",
      " 5   STATE            321 non-null    int64 \n",
      " 6   REGION           321 non-null    int64 \n",
      " 7   INCOME           321 non-null    int64 \n",
      " 8   DEPENDENTS       321 non-null    int64 \n",
      " 9   SCHOOL           321 non-null    int64 \n",
      " 10  SPM ADDMATH      321 non-null    int64 \n",
      " 11  SEM1 CGPA        321 non-null    int64 \n",
      " 12  SEM1 MATH        321 non-null    int64 \n",
      " 13  SEM1 BUSINESS    321 non-null    int64 \n",
      " 14  SEM1 ECONOMY     321 non-null    int64 \n",
      " 15  SEM1 ACCOUNTING  321 non-null    int64 \n",
      " 16  SEM2 CGPA        321 non-null    int64 \n",
      "dtypes: int64(16), object(1)\n",
      "memory usage: 42.8+ KB\n"
     ]
    }
   ],
   "source": [
    "modacc.info()"
   ]
  },
  {
   "cell_type": "markdown",
   "id": "59c4b2dd",
   "metadata": {},
   "source": [
    "# DROP STUDENT ID COLUMN"
   ]
  },
  {
   "cell_type": "code",
   "execution_count": 9,
   "id": "2a3cc56b",
   "metadata": {},
   "outputs": [],
   "source": [
    "modacc = pd.DataFrame(modacc)"
   ]
  },
  {
   "cell_type": "code",
   "execution_count": 182,
   "id": "7ffd6a13",
   "metadata": {},
   "outputs": [
    {
     "data": {
      "text/html": [
       "<div>\n",
       "<style scoped>\n",
       "    .dataframe tbody tr th:only-of-type {\n",
       "        vertical-align: middle;\n",
       "    }\n",
       "\n",
       "    .dataframe tbody tr th {\n",
       "        vertical-align: top;\n",
       "    }\n",
       "\n",
       "    .dataframe thead th {\n",
       "        text-align: right;\n",
       "    }\n",
       "</style>\n",
       "<table border=\"1\" class=\"dataframe\">\n",
       "  <thead>\n",
       "    <tr style=\"text-align: right;\">\n",
       "      <th></th>\n",
       "      <th>STUDENT ID</th>\n",
       "      <th>LEARNING STYLE</th>\n",
       "      <th>PROGRAM</th>\n",
       "      <th>YEAR</th>\n",
       "      <th>RACE</th>\n",
       "      <th>GENDER</th>\n",
       "      <th>RELIGION</th>\n",
       "      <th>STATE</th>\n",
       "      <th>REGION</th>\n",
       "      <th>INCOME</th>\n",
       "      <th>...</th>\n",
       "      <th>SPM ADDMATH</th>\n",
       "      <th>SPM PHY</th>\n",
       "      <th>SPM CHEM</th>\n",
       "      <th>SPM BIO</th>\n",
       "      <th>SEM1 CGPA</th>\n",
       "      <th>SEM1 MATH</th>\n",
       "      <th>SEM1 PHY</th>\n",
       "      <th>SEM1 CHEM</th>\n",
       "      <th>SEM1 BIO</th>\n",
       "      <th>SEM2 CGPA</th>\n",
       "    </tr>\n",
       "  </thead>\n",
       "  <tbody>\n",
       "    <tr>\n",
       "      <th>0</th>\n",
       "      <td>2019/2020|MS1918176789</td>\n",
       "      <td>0</td>\n",
       "      <td>1</td>\n",
       "      <td>1</td>\n",
       "      <td>3</td>\n",
       "      <td>0</td>\n",
       "      <td>2</td>\n",
       "      <td>1</td>\n",
       "      <td>1</td>\n",
       "      <td>6</td>\n",
       "      <td>...</td>\n",
       "      <td>6</td>\n",
       "      <td>5</td>\n",
       "      <td>5</td>\n",
       "      <td>3</td>\n",
       "      <td>1</td>\n",
       "      <td>2</td>\n",
       "      <td>1</td>\n",
       "      <td>1</td>\n",
       "      <td>2</td>\n",
       "      <td>1</td>\n",
       "    </tr>\n",
       "    <tr>\n",
       "      <th>1</th>\n",
       "      <td>2019/2020|MS1818177321</td>\n",
       "      <td>0</td>\n",
       "      <td>1</td>\n",
       "      <td>2</td>\n",
       "      <td>3</td>\n",
       "      <td>0</td>\n",
       "      <td>2</td>\n",
       "      <td>1</td>\n",
       "      <td>0</td>\n",
       "      <td>1</td>\n",
       "      <td>...</td>\n",
       "      <td>5</td>\n",
       "      <td>4</td>\n",
       "      <td>6</td>\n",
       "      <td>5</td>\n",
       "      <td>1</td>\n",
       "      <td>1</td>\n",
       "      <td>4</td>\n",
       "      <td>2</td>\n",
       "      <td>5</td>\n",
       "      <td>1</td>\n",
       "    </tr>\n",
       "    <tr>\n",
       "      <th>2</th>\n",
       "      <td>2019/2020|MS1918177022</td>\n",
       "      <td>0</td>\n",
       "      <td>1</td>\n",
       "      <td>1</td>\n",
       "      <td>3</td>\n",
       "      <td>0</td>\n",
       "      <td>2</td>\n",
       "      <td>1</td>\n",
       "      <td>1</td>\n",
       "      <td>7</td>\n",
       "      <td>...</td>\n",
       "      <td>7</td>\n",
       "      <td>2</td>\n",
       "      <td>4</td>\n",
       "      <td>5</td>\n",
       "      <td>1</td>\n",
       "      <td>4</td>\n",
       "      <td>1</td>\n",
       "      <td>3</td>\n",
       "      <td>3</td>\n",
       "      <td>1</td>\n",
       "    </tr>\n",
       "    <tr>\n",
       "      <th>3</th>\n",
       "      <td>2019/2020|MS1818177340</td>\n",
       "      <td>0</td>\n",
       "      <td>1</td>\n",
       "      <td>2</td>\n",
       "      <td>3</td>\n",
       "      <td>0</td>\n",
       "      <td>2</td>\n",
       "      <td>8</td>\n",
       "      <td>2</td>\n",
       "      <td>2</td>\n",
       "      <td>...</td>\n",
       "      <td>5</td>\n",
       "      <td>3</td>\n",
       "      <td>6</td>\n",
       "      <td>4</td>\n",
       "      <td>2</td>\n",
       "      <td>3</td>\n",
       "      <td>5</td>\n",
       "      <td>4</td>\n",
       "      <td>1</td>\n",
       "      <td>2</td>\n",
       "    </tr>\n",
       "    <tr>\n",
       "      <th>4</th>\n",
       "      <td>2019/2020|MS1818177124</td>\n",
       "      <td>0</td>\n",
       "      <td>1</td>\n",
       "      <td>2</td>\n",
       "      <td>3</td>\n",
       "      <td>0</td>\n",
       "      <td>2</td>\n",
       "      <td>1</td>\n",
       "      <td>2</td>\n",
       "      <td>3</td>\n",
       "      <td>...</td>\n",
       "      <td>3</td>\n",
       "      <td>4</td>\n",
       "      <td>6</td>\n",
       "      <td>5</td>\n",
       "      <td>1</td>\n",
       "      <td>1</td>\n",
       "      <td>5</td>\n",
       "      <td>3</td>\n",
       "      <td>2</td>\n",
       "      <td>1</td>\n",
       "    </tr>\n",
       "    <tr>\n",
       "      <th>...</th>\n",
       "      <td>...</td>\n",
       "      <td>...</td>\n",
       "      <td>...</td>\n",
       "      <td>...</td>\n",
       "      <td>...</td>\n",
       "      <td>...</td>\n",
       "      <td>...</td>\n",
       "      <td>...</td>\n",
       "      <td>...</td>\n",
       "      <td>...</td>\n",
       "      <td>...</td>\n",
       "      <td>...</td>\n",
       "      <td>...</td>\n",
       "      <td>...</td>\n",
       "      <td>...</td>\n",
       "      <td>...</td>\n",
       "      <td>...</td>\n",
       "      <td>...</td>\n",
       "      <td>...</td>\n",
       "      <td>...</td>\n",
       "      <td>...</td>\n",
       "    </tr>\n",
       "    <tr>\n",
       "      <th>1236</th>\n",
       "      <td>2020/2021|MS2018107198</td>\n",
       "      <td>1</td>\n",
       "      <td>0</td>\n",
       "      <td>1</td>\n",
       "      <td>1</td>\n",
       "      <td>1</td>\n",
       "      <td>1</td>\n",
       "      <td>10</td>\n",
       "      <td>1</td>\n",
       "      <td>5</td>\n",
       "      <td>...</td>\n",
       "      <td>0</td>\n",
       "      <td>1</td>\n",
       "      <td>1</td>\n",
       "      <td>1</td>\n",
       "      <td>0</td>\n",
       "      <td>0</td>\n",
       "      <td>0</td>\n",
       "      <td>0</td>\n",
       "      <td>0</td>\n",
       "      <td>0</td>\n",
       "    </tr>\n",
       "    <tr>\n",
       "      <th>1237</th>\n",
       "      <td>2020/2021|MS2018107648</td>\n",
       "      <td>1</td>\n",
       "      <td>0</td>\n",
       "      <td>1</td>\n",
       "      <td>3</td>\n",
       "      <td>1</td>\n",
       "      <td>2</td>\n",
       "      <td>12</td>\n",
       "      <td>2</td>\n",
       "      <td>5</td>\n",
       "      <td>...</td>\n",
       "      <td>3</td>\n",
       "      <td>3</td>\n",
       "      <td>4</td>\n",
       "      <td>4</td>\n",
       "      <td>0</td>\n",
       "      <td>1</td>\n",
       "      <td>0</td>\n",
       "      <td>0</td>\n",
       "      <td>1</td>\n",
       "      <td>0</td>\n",
       "    </tr>\n",
       "    <tr>\n",
       "      <th>1238</th>\n",
       "      <td>2020/2021|MS2018301332</td>\n",
       "      <td>1</td>\n",
       "      <td>0</td>\n",
       "      <td>1</td>\n",
       "      <td>0</td>\n",
       "      <td>1</td>\n",
       "      <td>0</td>\n",
       "      <td>8</td>\n",
       "      <td>2</td>\n",
       "      <td>5</td>\n",
       "      <td>...</td>\n",
       "      <td>1</td>\n",
       "      <td>0</td>\n",
       "      <td>0</td>\n",
       "      <td>0</td>\n",
       "      <td>0</td>\n",
       "      <td>0</td>\n",
       "      <td>0</td>\n",
       "      <td>0</td>\n",
       "      <td>0</td>\n",
       "      <td>0</td>\n",
       "    </tr>\n",
       "    <tr>\n",
       "      <th>1239</th>\n",
       "      <td>2020/2021|MS2018301380</td>\n",
       "      <td>1</td>\n",
       "      <td>0</td>\n",
       "      <td>1</td>\n",
       "      <td>0</td>\n",
       "      <td>1</td>\n",
       "      <td>0</td>\n",
       "      <td>6</td>\n",
       "      <td>1</td>\n",
       "      <td>5</td>\n",
       "      <td>...</td>\n",
       "      <td>0</td>\n",
       "      <td>0</td>\n",
       "      <td>0</td>\n",
       "      <td>0</td>\n",
       "      <td>0</td>\n",
       "      <td>0</td>\n",
       "      <td>0</td>\n",
       "      <td>0</td>\n",
       "      <td>0</td>\n",
       "      <td>0</td>\n",
       "    </tr>\n",
       "    <tr>\n",
       "      <th>1240</th>\n",
       "      <td>2020/2021|MS2018107310</td>\n",
       "      <td>1</td>\n",
       "      <td>0</td>\n",
       "      <td>1</td>\n",
       "      <td>3</td>\n",
       "      <td>1</td>\n",
       "      <td>2</td>\n",
       "      <td>10</td>\n",
       "      <td>0</td>\n",
       "      <td>0</td>\n",
       "      <td>...</td>\n",
       "      <td>4</td>\n",
       "      <td>2</td>\n",
       "      <td>2</td>\n",
       "      <td>1</td>\n",
       "      <td>1</td>\n",
       "      <td>3</td>\n",
       "      <td>2</td>\n",
       "      <td>3</td>\n",
       "      <td>3</td>\n",
       "      <td>2</td>\n",
       "    </tr>\n",
       "  </tbody>\n",
       "</table>\n",
       "<p>1241 rows × 22 columns</p>\n",
       "</div>"
      ],
      "text/plain": [
       "                  STUDENT ID  LEARNING STYLE  PROGRAM  YEAR  RACE  GENDER  \\\n",
       "0     2019/2020|MS1918176789               0        1     1     3       0   \n",
       "1     2019/2020|MS1818177321               0        1     2     3       0   \n",
       "2     2019/2020|MS1918177022               0        1     1     3       0   \n",
       "3     2019/2020|MS1818177340               0        1     2     3       0   \n",
       "4     2019/2020|MS1818177124               0        1     2     3       0   \n",
       "...                      ...             ...      ...   ...   ...     ...   \n",
       "1236  2020/2021|MS2018107198               1        0     1     1       1   \n",
       "1237  2020/2021|MS2018107648               1        0     1     3       1   \n",
       "1238  2020/2021|MS2018301332               1        0     1     0       1   \n",
       "1239  2020/2021|MS2018301380               1        0     1     0       1   \n",
       "1240  2020/2021|MS2018107310               1        0     1     3       1   \n",
       "\n",
       "      RELIGION  STATE  REGION  INCOME  ...  SPM ADDMATH  SPM PHY  SPM CHEM  \\\n",
       "0            2      1       1       6  ...            6        5         5   \n",
       "1            2      1       0       1  ...            5        4         6   \n",
       "2            2      1       1       7  ...            7        2         4   \n",
       "3            2      8       2       2  ...            5        3         6   \n",
       "4            2      1       2       3  ...            3        4         6   \n",
       "...        ...    ...     ...     ...  ...          ...      ...       ...   \n",
       "1236         1     10       1       5  ...            0        1         1   \n",
       "1237         2     12       2       5  ...            3        3         4   \n",
       "1238         0      8       2       5  ...            1        0         0   \n",
       "1239         0      6       1       5  ...            0        0         0   \n",
       "1240         2     10       0       0  ...            4        2         2   \n",
       "\n",
       "      SPM BIO  SEM1 CGPA  SEM1 MATH  SEM1 PHY  SEM1 CHEM  SEM1 BIO  SEM2 CGPA  \n",
       "0           3          1          2         1          1         2          1  \n",
       "1           5          1          1         4          2         5          1  \n",
       "2           5          1          4         1          3         3          1  \n",
       "3           4          2          3         5          4         1          2  \n",
       "4           5          1          1         5          3         2          1  \n",
       "...       ...        ...        ...       ...        ...       ...        ...  \n",
       "1236        1          0          0         0          0         0          0  \n",
       "1237        4          0          1         0          0         1          0  \n",
       "1238        0          0          0         0          0         0          0  \n",
       "1239        0          0          0         0          0         0          0  \n",
       "1240        1          1          3         2          3         3          2  \n",
       "\n",
       "[1241 rows x 22 columns]"
      ]
     },
     "execution_count": 182,
     "metadata": {},
     "output_type": "execute_result"
    }
   ],
   "source": [
    "mod1"
   ]
  },
  {
   "cell_type": "code",
   "execution_count": 10,
   "id": "8a4c9dc0",
   "metadata": {
    "scrolled": true
   },
   "outputs": [
    {
     "data": {
      "text/html": [
       "<div>\n",
       "<style scoped>\n",
       "    .dataframe tbody tr th:only-of-type {\n",
       "        vertical-align: middle;\n",
       "    }\n",
       "\n",
       "    .dataframe tbody tr th {\n",
       "        vertical-align: top;\n",
       "    }\n",
       "\n",
       "    .dataframe thead th {\n",
       "        text-align: right;\n",
       "    }\n",
       "</style>\n",
       "<table border=\"1\" class=\"dataframe\">\n",
       "  <thead>\n",
       "    <tr style=\"text-align: right;\">\n",
       "      <th></th>\n",
       "      <th>LEARNING STYLE</th>\n",
       "      <th>RACE</th>\n",
       "      <th>GENDER</th>\n",
       "      <th>RELIGION</th>\n",
       "      <th>STATE</th>\n",
       "      <th>REGION</th>\n",
       "      <th>INCOME</th>\n",
       "      <th>DEPENDENTS</th>\n",
       "      <th>SCHOOL</th>\n",
       "      <th>SPM ADDMATH</th>\n",
       "      <th>SEM1 CGPA</th>\n",
       "      <th>SEM1 MATH</th>\n",
       "      <th>SEM1 BUSINESS</th>\n",
       "      <th>SEM1 ECONOMY</th>\n",
       "      <th>SEM1 ACCOUNTING</th>\n",
       "      <th>SEM2 CGPA</th>\n",
       "    </tr>\n",
       "  </thead>\n",
       "  <tbody>\n",
       "    <tr>\n",
       "      <th>0</th>\n",
       "      <td>0</td>\n",
       "      <td>3</td>\n",
       "      <td>0</td>\n",
       "      <td>2</td>\n",
       "      <td>10</td>\n",
       "      <td>1</td>\n",
       "      <td>6</td>\n",
       "      <td>5</td>\n",
       "      <td>0</td>\n",
       "      <td>5</td>\n",
       "      <td>0</td>\n",
       "      <td>0</td>\n",
       "      <td>2</td>\n",
       "      <td>3</td>\n",
       "      <td>0</td>\n",
       "      <td>0</td>\n",
       "    </tr>\n",
       "    <tr>\n",
       "      <th>1</th>\n",
       "      <td>0</td>\n",
       "      <td>3</td>\n",
       "      <td>0</td>\n",
       "      <td>2</td>\n",
       "      <td>1</td>\n",
       "      <td>1</td>\n",
       "      <td>4</td>\n",
       "      <td>5</td>\n",
       "      <td>0</td>\n",
       "      <td>5</td>\n",
       "      <td>0</td>\n",
       "      <td>0</td>\n",
       "      <td>1</td>\n",
       "      <td>0</td>\n",
       "      <td>0</td>\n",
       "      <td>0</td>\n",
       "    </tr>\n",
       "    <tr>\n",
       "      <th>2</th>\n",
       "      <td>0</td>\n",
       "      <td>3</td>\n",
       "      <td>0</td>\n",
       "      <td>2</td>\n",
       "      <td>1</td>\n",
       "      <td>2</td>\n",
       "      <td>5</td>\n",
       "      <td>5</td>\n",
       "      <td>0</td>\n",
       "      <td>0</td>\n",
       "      <td>0</td>\n",
       "      <td>0</td>\n",
       "      <td>2</td>\n",
       "      <td>4</td>\n",
       "      <td>0</td>\n",
       "      <td>0</td>\n",
       "    </tr>\n",
       "    <tr>\n",
       "      <th>3</th>\n",
       "      <td>0</td>\n",
       "      <td>3</td>\n",
       "      <td>0</td>\n",
       "      <td>2</td>\n",
       "      <td>10</td>\n",
       "      <td>1</td>\n",
       "      <td>5</td>\n",
       "      <td>5</td>\n",
       "      <td>0</td>\n",
       "      <td>5</td>\n",
       "      <td>0</td>\n",
       "      <td>0</td>\n",
       "      <td>3</td>\n",
       "      <td>3</td>\n",
       "      <td>0</td>\n",
       "      <td>0</td>\n",
       "    </tr>\n",
       "    <tr>\n",
       "      <th>4</th>\n",
       "      <td>0</td>\n",
       "      <td>3</td>\n",
       "      <td>0</td>\n",
       "      <td>2</td>\n",
       "      <td>1</td>\n",
       "      <td>1</td>\n",
       "      <td>6</td>\n",
       "      <td>3</td>\n",
       "      <td>1</td>\n",
       "      <td>6</td>\n",
       "      <td>1</td>\n",
       "      <td>0</td>\n",
       "      <td>1</td>\n",
       "      <td>3</td>\n",
       "      <td>3</td>\n",
       "      <td>0</td>\n",
       "    </tr>\n",
       "  </tbody>\n",
       "</table>\n",
       "</div>"
      ],
      "text/plain": [
       "   LEARNING STYLE  RACE  GENDER  RELIGION  STATE  REGION  INCOME  DEPENDENTS  \\\n",
       "0               0     3       0         2     10       1       6           5   \n",
       "1               0     3       0         2      1       1       4           5   \n",
       "2               0     3       0         2      1       2       5           5   \n",
       "3               0     3       0         2     10       1       5           5   \n",
       "4               0     3       0         2      1       1       6           3   \n",
       "\n",
       "   SCHOOL  SPM ADDMATH  SEM1 CGPA  SEM1 MATH  SEM1 BUSINESS  SEM1 ECONOMY  \\\n",
       "0       0            5          0          0              2             3   \n",
       "1       0            5          0          0              1             0   \n",
       "2       0            0          0          0              2             4   \n",
       "3       0            5          0          0              3             3   \n",
       "4       1            6          1          0              1             3   \n",
       "\n",
       "   SEM1 ACCOUNTING  SEM2 CGPA  \n",
       "0                0          0  \n",
       "1                0          0  \n",
       "2                0          0  \n",
       "3                0          0  \n",
       "4                3          0  "
      ]
     },
     "execution_count": 10,
     "metadata": {},
     "output_type": "execute_result"
    }
   ],
   "source": [
    "modacc = modacc.drop('STUDENT ID',axis=1)\n",
    "modacc.head()\n"
   ]
  },
  {
   "cell_type": "code",
   "execution_count": 11,
   "id": "802bff9b",
   "metadata": {},
   "outputs": [
    {
     "name": "stdout",
     "output_type": "stream",
     "text": [
      "<class 'pandas.core.frame.DataFrame'>\n",
      "RangeIndex: 321 entries, 0 to 320\n",
      "Data columns (total 16 columns):\n",
      " #   Column           Non-Null Count  Dtype\n",
      "---  ------           --------------  -----\n",
      " 0   LEARNING STYLE   321 non-null    int64\n",
      " 1   RACE             321 non-null    int64\n",
      " 2   GENDER           321 non-null    int64\n",
      " 3   RELIGION         321 non-null    int64\n",
      " 4   STATE            321 non-null    int64\n",
      " 5   REGION           321 non-null    int64\n",
      " 6   INCOME           321 non-null    int64\n",
      " 7   DEPENDENTS       321 non-null    int64\n",
      " 8   SCHOOL           321 non-null    int64\n",
      " 9   SPM ADDMATH      321 non-null    int64\n",
      " 10  SEM1 CGPA        321 non-null    int64\n",
      " 11  SEM1 MATH        321 non-null    int64\n",
      " 12  SEM1 BUSINESS    321 non-null    int64\n",
      " 13  SEM1 ECONOMY     321 non-null    int64\n",
      " 14  SEM1 ACCOUNTING  321 non-null    int64\n",
      " 15  SEM2 CGPA        321 non-null    int64\n",
      "dtypes: int64(16)\n",
      "memory usage: 40.2 KB\n"
     ]
    }
   ],
   "source": [
    "modacc.info()"
   ]
  },
  {
   "cell_type": "markdown",
   "id": "0d6db838",
   "metadata": {},
   "source": [
    "# CREATE TRAIN_TEST_SPLIT"
   ]
  },
  {
   "cell_type": "code",
   "execution_count": 12,
   "id": "1f9fe199",
   "metadata": {},
   "outputs": [],
   "source": [
    "## CREATE TRAIN TEST SPLIT TO AVOID OVERFITTING\n",
    "from sklearn.model_selection import train_test_split\n",
    "X_train,X_test,y_train,y_test = train_test_split(modacc.drop(labels=['SEM2 CGPA'],axis=1),\n",
    "                                                 modacc['SEM2 CGPA'],test_size=0.3,random_state=0)"
   ]
  },
  {
   "cell_type": "code",
   "execution_count": 13,
   "id": "8c0fce28",
   "metadata": {},
   "outputs": [
    {
     "name": "stdout",
     "output_type": "stream",
     "text": [
      "<class 'pandas.core.frame.DataFrame'>\n",
      "Int64Index: 224 entries, 262 to 172\n",
      "Data columns (total 15 columns):\n",
      " #   Column           Non-Null Count  Dtype\n",
      "---  ------           --------------  -----\n",
      " 0   LEARNING STYLE   224 non-null    int64\n",
      " 1   RACE             224 non-null    int64\n",
      " 2   GENDER           224 non-null    int64\n",
      " 3   RELIGION         224 non-null    int64\n",
      " 4   STATE            224 non-null    int64\n",
      " 5   REGION           224 non-null    int64\n",
      " 6   INCOME           224 non-null    int64\n",
      " 7   DEPENDENTS       224 non-null    int64\n",
      " 8   SCHOOL           224 non-null    int64\n",
      " 9   SPM ADDMATH      224 non-null    int64\n",
      " 10  SEM1 CGPA        224 non-null    int64\n",
      " 11  SEM1 MATH        224 non-null    int64\n",
      " 12  SEM1 BUSINESS    224 non-null    int64\n",
      " 13  SEM1 ECONOMY     224 non-null    int64\n",
      " 14  SEM1 ACCOUNTING  224 non-null    int64\n",
      "dtypes: int64(15)\n",
      "memory usage: 28.0 KB\n"
     ]
    }
   ],
   "source": [
    "X_train.info()"
   ]
  },
  {
   "cell_type": "code",
   "execution_count": 14,
   "id": "6128f270",
   "metadata": {
    "scrolled": true
   },
   "outputs": [
    {
     "data": {
      "text/plain": [
       "LEARNING STYLE     0\n",
       "RACE               0\n",
       "GENDER             0\n",
       "RELIGION           0\n",
       "STATE              0\n",
       "REGION             0\n",
       "INCOME             0\n",
       "DEPENDENTS         0\n",
       "SCHOOL             0\n",
       "SPM ADDMATH        0\n",
       "SEM1 CGPA          0\n",
       "SEM1 MATH          0\n",
       "SEM1 BUSINESS      0\n",
       "SEM1 ECONOMY       0\n",
       "SEM1 ACCOUNTING    0\n",
       "dtype: int64"
      ]
     },
     "execution_count": 14,
     "metadata": {},
     "output_type": "execute_result"
    }
   ],
   "source": [
    "X_train.isnull().sum()"
   ]
  },
  {
   "cell_type": "markdown",
   "id": "ab156438",
   "metadata": {},
   "source": [
    "# 1. FEATURE SELECTION : INFO GAIN"
   ]
  },
  {
   "cell_type": "code",
   "execution_count": 15,
   "id": "81414aff",
   "metadata": {},
   "outputs": [
    {
     "data": {
      "text/plain": [
       "array([0.        , 0.00993143, 0.        , 0.19482032, 0.03165302,\n",
       "       0.01767922, 0.01845205, 0.02133143, 0.        , 0.10128592,\n",
       "       0.18884877, 0.14376165, 0.09609735, 0.18201175, 0.15302196])"
      ]
     },
     "execution_count": 15,
     "metadata": {},
     "output_type": "execute_result"
    }
   ],
   "source": [
    "from sklearn.feature_selection import mutual_info_classif\n",
    "## DETERMINE THE MUTUAL INFORMATION\n",
    "mutual_info = mutual_info_classif(X_train,y_train)\n",
    "mutual_info"
   ]
  },
  {
   "cell_type": "code",
   "execution_count": 16,
   "id": "7ea401bf",
   "metadata": {},
   "outputs": [
    {
     "data": {
      "text/plain": [
       "RELIGION           0.194820\n",
       "SEM1 CGPA          0.188849\n",
       "SEM1 ECONOMY       0.182012\n",
       "SEM1 ACCOUNTING    0.153022\n",
       "SEM1 MATH          0.143762\n",
       "SPM ADDMATH        0.101286\n",
       "SEM1 BUSINESS      0.096097\n",
       "STATE              0.031653\n",
       "DEPENDENTS         0.021331\n",
       "INCOME             0.018452\n",
       "REGION             0.017679\n",
       "RACE               0.009931\n",
       "LEARNING STYLE     0.000000\n",
       "GENDER             0.000000\n",
       "SCHOOL             0.000000\n",
       "dtype: float64"
      ]
     },
     "execution_count": 16,
     "metadata": {},
     "output_type": "execute_result"
    }
   ],
   "source": [
    "mutual_info = pd.Series(mutual_info)\n",
    "mutual_info.index = X_train.columns\n",
    "mutual_info.sort_values(ascending=False)"
   ]
  },
  {
   "cell_type": "code",
   "execution_count": 17,
   "id": "99c8d29e",
   "metadata": {
    "scrolled": true
   },
   "outputs": [
    {
     "data": {
      "text/plain": [
       "<AxesSubplot:>"
      ]
     },
     "execution_count": 17,
     "metadata": {},
     "output_type": "execute_result"
    },
    {
     "data": {
      "image/png": "[encoded data removed]",
      "text/plain": [
       "<Figure size 1440x576 with 1 Axes>"
      ]
     },
     "metadata": {
      "needs_background": "light"
     },
     "output_type": "display_data"
    }
   ],
   "source": [
    "mutual_info.sort_values(ascending=False).plot.barh(figsize=(20,8))"
   ]
  },
  {
   "cell_type": "markdown",
   "id": "49671409",
   "metadata": {},
   "source": [
    "# 2. FEATURE SELECTION : SELECTKBEST (INFO GAIN)"
   ]
  },
  {
   "cell_type": "code",
   "execution_count": 18,
   "id": "00799c30",
   "metadata": {},
   "outputs": [],
   "source": [
    "from sklearn.feature_selection import SelectKBest\n",
    "from sklearn.feature_selection import mutual_info_classif"
   ]
  },
  {
   "cell_type": "code",
   "execution_count": 19,
   "id": "34315fd6",
   "metadata": {},
   "outputs": [],
   "source": [
    "# TOP 10 IMPORTANT FEATURES\n",
    "top_ten_features = SelectKBest(score_func=mutual_info_classif,k=10)\n",
    "fit = top_ten_features.fit(X_train,y_train)"
   ]
  },
  {
   "cell_type": "code",
   "execution_count": 20,
   "id": "50d47534",
   "metadata": {},
   "outputs": [],
   "source": [
    "dfscores = pd.DataFrame(fit.scores_)\n",
    "dfcolumns = pd.DataFrame(X_train.columns)"
   ]
  },
  {
   "cell_type": "code",
   "execution_count": 21,
   "id": "5e5503e5",
   "metadata": {},
   "outputs": [],
   "source": [
    "# concat two dataframes for better visualization\n",
    "featureScores = pd.concat([dfcolumns,dfscores],axis=1)\n",
    "\n",
    "# naming the dataframe columns\n",
    "featureScores.columns = ['Feature','Score']\n",
    "featureScores_index = X_train.columns"
   ]
  },
  {
   "cell_type": "code",
   "execution_count": 22,
   "id": "05c075e0",
   "metadata": {},
   "outputs": [
    {
     "name": "stdout",
     "output_type": "stream",
     "text": [
      "            Feature     Score\n",
      "10        SEM1 CGPA  0.201256\n",
      "13     SEM1 ECONOMY  0.174162\n",
      "14  SEM1 ACCOUNTING  0.157680\n",
      "11        SEM1 MATH  0.129055\n",
      "3          RELIGION  0.118328\n",
      "12    SEM1 BUSINESS  0.090867\n",
      "9       SPM ADDMATH  0.076761\n",
      "6            INCOME  0.010468\n",
      "1              RACE  0.009982\n",
      "4             STATE  0.002401\n"
     ]
    }
   ],
   "source": [
    "# print 10 best features\n",
    "print(featureScores.nlargest(10,'Score'))"
   ]
  },
  {
   "cell_type": "code",
   "execution_count": 23,
   "id": "aacf1348",
   "metadata": {},
   "outputs": [
    {
     "data": {
      "text/plain": [
       "<AxesSubplot:>"
      ]
     },
     "execution_count": 23,
     "metadata": {},
     "output_type": "execute_result"
    },
    {
     "data": {
      "image/png": "[encoded data removed]",
      "text/plain": [
       "<Figure size 1440x576 with 1 Axes>"
      ]
     },
     "metadata": {
      "needs_background": "light"
     },
     "output_type": "display_data"
    }
   ],
   "source": [
    "featureScores.index = X_train.columns\n",
    "featureScores.nlargest(10,'Score').plot.barh(figsize=(20,8))"
   ]
  },
  {
   "cell_type": "markdown",
   "id": "17cb84a0",
   "metadata": {},
   "source": [
    "# 3. FEATURE SELECTION : CHI SQUARED TEST"
   ]
  },
  {
   "cell_type": "code",
   "execution_count": 24,
   "id": "8e051914",
   "metadata": {},
   "outputs": [
    {
     "data": {
      "text/plain": [
       "(array([  0.72583474,   1.54610526,   1.71282759,   0.6654742 ,\n",
       "         25.49402615,   1.92026618,  11.10481816,   1.83857267,\n",
       "          3.48779602,  31.40771823, 126.14061238, 186.7970538 ,\n",
       "        122.26422179, 119.6864457 , 193.97618875]),\n",
       " array([8.67111186e-01, 6.71670859e-01, 6.34085705e-01, 8.81293122e-01,\n",
       "        1.21711574e-05, 5.89119528e-01, 1.11723786e-02, 6.06577277e-01,\n",
       "        3.22348388e-01, 6.97556699e-07, 3.67015565e-27, 3.00238781e-40,\n",
       "        2.51050354e-26, 9.01499038e-26, 8.44582193e-42]))"
      ]
     },
     "execution_count": 24,
     "metadata": {},
     "output_type": "execute_result"
    }
   ],
   "source": [
    "## PERFORM CHI2 TEST\n",
    "from sklearn.feature_selection import chi2\n",
    "f_p_values = chi2(X_train,y_train)\n",
    "f_p_values\n",
    "## CHI2 RETURNS TWO VALUES : FSCORE & P-VALUE"
   ]
  },
  {
   "cell_type": "code",
   "execution_count": 25,
   "id": "5bdfa32f",
   "metadata": {},
   "outputs": [
    {
     "data": {
      "text/plain": [
       "Index(['LEARNING STYLE', 'RACE', 'GENDER', 'RELIGION', 'STATE', 'REGION',\n",
       "       'INCOME', 'DEPENDENTS', 'SCHOOL', 'SPM ADDMATH', 'SEM1 CGPA',\n",
       "       'SEM1 MATH', 'SEM1 BUSINESS', 'SEM1 ECONOMY', 'SEM1 ACCOUNTING'],\n",
       "      dtype='object')"
      ]
     },
     "execution_count": 25,
     "metadata": {},
     "output_type": "execute_result"
    }
   ],
   "source": [
    "X_train.columns"
   ]
  },
  {
   "cell_type": "code",
   "execution_count": 26,
   "id": "9e5bb081",
   "metadata": {},
   "outputs": [
    {
     "data": {
      "text/plain": [
       "LEARNING STYLE     8.671112e-01\n",
       "RACE               6.716709e-01\n",
       "GENDER             6.340857e-01\n",
       "RELIGION           8.812931e-01\n",
       "STATE              1.217116e-05\n",
       "REGION             5.891195e-01\n",
       "INCOME             1.117238e-02\n",
       "DEPENDENTS         6.065773e-01\n",
       "SCHOOL             3.223484e-01\n",
       "SPM ADDMATH        6.975567e-07\n",
       "SEM1 CGPA          3.670156e-27\n",
       "SEM1 MATH          3.002388e-40\n",
       "SEM1 BUSINESS      2.510504e-26\n",
       "SEM1 ECONOMY       9.014990e-26\n",
       "SEM1 ACCOUNTING    8.445822e-42\n",
       "dtype: float64"
      ]
     },
     "execution_count": 26,
     "metadata": {},
     "output_type": "execute_result"
    }
   ],
   "source": [
    "p_values = pd.Series(f_p_values[1])\n",
    "p_values.index = X_train.columns\n",
    "p_values"
   ]
  },
  {
   "cell_type": "code",
   "execution_count": 27,
   "id": "9c6b7adc",
   "metadata": {},
   "outputs": [
    {
     "data": {
      "text/plain": [
       "SEM1 ACCOUNTING    8.445822e-42\n",
       "SEM1 MATH          3.002388e-40\n",
       "SEM1 CGPA          3.670156e-27\n",
       "SEM1 BUSINESS      2.510504e-26\n",
       "SEM1 ECONOMY       9.014990e-26\n",
       "SPM ADDMATH        6.975567e-07\n",
       "STATE              1.217116e-05\n",
       "INCOME             1.117238e-02\n",
       "SCHOOL             3.223484e-01\n",
       "REGION             5.891195e-01\n",
       "DEPENDENTS         6.065773e-01\n",
       "GENDER             6.340857e-01\n",
       "RACE               6.716709e-01\n",
       "LEARNING STYLE     8.671112e-01\n",
       "RELIGION           8.812931e-01\n",
       "dtype: float64"
      ]
     },
     "execution_count": 27,
     "metadata": {},
     "output_type": "execute_result"
    }
   ],
   "source": [
    "p_values.sort_values(ascending=True)"
   ]
  },
  {
   "cell_type": "code",
   "execution_count": 29,
   "id": "ef3409db",
   "metadata": {},
   "outputs": [
    {
     "data": {
      "text/plain": [
       "<AxesSubplot:>"
      ]
     },
     "execution_count": 29,
     "metadata": {},
     "output_type": "execute_result"
    },
    {
     "data": {
      "image/png": "[encoded data removed]",
      "text/plain": [
       "<Figure size 1440x576 with 1 Axes>"
      ]
     },
     "metadata": {
      "needs_background": "light"
     },
     "output_type": "display_data"
    }
   ],
   "source": [
    "p_values.sort_values(ascending=False).plot.barh(figsize=(20,8))"
   ]
  },
  {
   "cell_type": "code",
   "execution_count": 30,
   "id": "6f0f3c65",
   "metadata": {},
   "outputs": [],
   "source": [
    "## OBSERVATION\n",
    "# SEM1 CHEM IS THE MOST IMPORTANT COLUMN (SMALLEST P-VALUE) WHEN COMPARED TO THE OUTPUT FEATURE (TARGET) SEM2 CGPA"
   ]
  },
  {
   "cell_type": "markdown",
   "id": "ef882e1a",
   "metadata": {},
   "source": [
    "# 4. FEATURE SELECTION : SELECTKBEST (CHI SQUARED)"
   ]
  },
  {
   "cell_type": "code",
   "execution_count": 31,
   "id": "a443bc32",
   "metadata": {},
   "outputs": [],
   "source": [
    "# TOP 10 IMPORTANT FEATURES\n",
    "top_ten_features = SelectKBest(score_func=chi2,k=10)\n",
    "fit = top_ten_features.fit(X_train,y_train)"
   ]
  },
  {
   "cell_type": "code",
   "execution_count": 32,
   "id": "832cd7a6",
   "metadata": {},
   "outputs": [],
   "source": [
    "from sklearn.feature_selection import SelectKBest\n",
    "from sklearn.feature_selection import chi2"
   ]
  },
  {
   "cell_type": "code",
   "execution_count": 33,
   "id": "2c1f1291",
   "metadata": {},
   "outputs": [],
   "source": [
    "# TOP 10 IMPORTANT FEATURES\n",
    "top_ten_features = SelectKBest(score_func=chi2,k=10)\n",
    "fit = top_ten_features.fit(X_train,y_train)"
   ]
  },
  {
   "cell_type": "code",
   "execution_count": 34,
   "id": "e832f74b",
   "metadata": {},
   "outputs": [],
   "source": [
    "dfscores = pd.DataFrame(fit.scores_)\n",
    "dfcolumns = pd.DataFrame(X_train.columns)"
   ]
  },
  {
   "cell_type": "code",
   "execution_count": 35,
   "id": "1e038edc",
   "metadata": {},
   "outputs": [],
   "source": [
    "# concat two dataframes for better visualization\n",
    "featureScores = pd.concat([dfcolumns,dfscores],axis=1)\n",
    "# naming the dataframe columns\n",
    "featureScores.columns = ['Feature','Score']\n",
    "featureScores_index = X_train.columns"
   ]
  },
  {
   "cell_type": "code",
   "execution_count": 36,
   "id": "441978db",
   "metadata": {},
   "outputs": [
    {
     "name": "stdout",
     "output_type": "stream",
     "text": [
      "            Feature       Score\n",
      "14  SEM1 ACCOUNTING  193.976189\n",
      "11        SEM1 MATH  186.797054\n",
      "10        SEM1 CGPA  126.140612\n",
      "12    SEM1 BUSINESS  122.264222\n",
      "13     SEM1 ECONOMY  119.686446\n",
      "9       SPM ADDMATH   31.407718\n",
      "4             STATE   25.494026\n",
      "6            INCOME   11.104818\n",
      "8            SCHOOL    3.487796\n",
      "5            REGION    1.920266\n"
     ]
    }
   ],
   "source": [
    "# print 10 best features\n",
    "print(featureScores.nlargest(10,'Score'))"
   ]
  },
  {
   "cell_type": "code",
   "execution_count": 37,
   "id": "e24ddb35",
   "metadata": {},
   "outputs": [
    {
     "data": {
      "text/plain": [
       "<AxesSubplot:>"
      ]
     },
     "execution_count": 37,
     "metadata": {},
     "output_type": "execute_result"
    },
    {
     "data": {
      "image/png": "[encoded data removed]",
      "text/plain": [
       "<Figure size 1440x576 with 1 Axes>"
      ]
     },
     "metadata": {
      "needs_background": "light"
     },
     "output_type": "display_data"
    }
   ],
   "source": [
    "featureScores.index = X_train.columns\n",
    "featureScores.nlargest(10,'Score').plot.barh(figsize=(20,8))"
   ]
  },
  {
   "cell_type": "markdown",
   "id": "a4ebd073",
   "metadata": {},
   "source": [
    "# 5. FEATURE SELECTION : FEATURE IMPORTANCE"
   ]
  },
  {
   "cell_type": "code",
   "execution_count": 38,
   "id": "d0da0cdb",
   "metadata": {},
   "outputs": [
    {
     "data": {
      "text/plain": [
       "ExtraTreesClassifier()"
      ]
     },
     "execution_count": 38,
     "metadata": {},
     "output_type": "execute_result"
    }
   ],
   "source": [
    "from sklearn.ensemble import ExtraTreesClassifier\n",
    "import matplotlib.pyplot as plt\n",
    "model = ExtraTreesClassifier()\n",
    "model.fit(X_train,y_train)"
   ]
  },
  {
   "cell_type": "code",
   "execution_count": 39,
   "id": "f07d8b76",
   "metadata": {},
   "outputs": [
    {
     "name": "stdout",
     "output_type": "stream",
     "text": [
      "[0.02582569 0.00287557 0.03752346 0.0036959  0.03223816 0.04564344\n",
      " 0.0535939  0.05543088 0.04569399 0.06699885 0.14965452 0.10553753\n",
      " 0.0992493  0.13017612 0.14586271]\n"
     ]
    }
   ],
   "source": [
    "print(model.feature_importances_)"
   ]
  },
  {
   "cell_type": "code",
   "execution_count": 40,
   "id": "8e590b84",
   "metadata": {},
   "outputs": [
    {
     "data": {
      "text/plain": [
       "<function matplotlib.pyplot.show(close=None, block=None)>"
      ]
     },
     "execution_count": 40,
     "metadata": {},
     "output_type": "execute_result"
    },
    {
     "data": {
      "image/png": "[encoded data removed]",
      "text/plain": [
       "<Figure size 432x288 with 1 Axes>"
      ]
     },
     "metadata": {
      "needs_background": "light"
     },
     "output_type": "display_data"
    }
   ],
   "source": [
    "feature_importances = pd.Series(model.feature_importances_, index=X_train.columns)\n",
    "feature_importances.nlargest(10).plot(kind='barh')\n",
    "plt.show"
   ]
  },
  {
   "cell_type": "markdown",
   "id": "3fe2f7a2",
   "metadata": {},
   "source": [
    "# 6. FEATURE SELECTION : SELECTKBEST (F-SCORE)"
   ]
  },
  {
   "cell_type": "code",
   "execution_count": 41,
   "id": "fa16e8fd",
   "metadata": {},
   "outputs": [],
   "source": [
    "from sklearn.feature_selection import SelectKBest\n",
    "from sklearn.feature_selection import f_classif"
   ]
  },
  {
   "cell_type": "code",
   "execution_count": 43,
   "id": "36d7995d",
   "metadata": {},
   "outputs": [],
   "source": [
    "selector = SelectKBest(score_func = f_classif, k=15)\n",
    "\n",
    "# New dataframe with the selected features for later use in the classifier. \n",
    "# fit() method works too, if you want only the feature names and their corresponding scores.\n",
    "\n",
    "X_new = selector.fit_transform(X_train,y_train)\n",
    "names = X_train.columns.values[selector.get_support()]\n",
    "scores = selector.scores_[selector.get_support()]\n",
    "names_scores = list(zip(names,scores))\n",
    "ns_df = pd.DataFrame(data = names_scores,columns=['Feature','F_Score'])\n",
    "\n",
    "# Sort for better visualization\n",
    "ns_df_sorted= ns_df.sort_values(['F_Score','Feature'],ascending=[False,True])"
   ]
  },
  {
   "cell_type": "code",
   "execution_count": 45,
   "id": "05500046",
   "metadata": {},
   "outputs": [
    {
     "data": {
      "text/plain": [
       "array(['LEARNING STYLE', 'RACE', 'GENDER', 'RELIGION', 'STATE', 'REGION',\n",
       "       'INCOME', 'DEPENDENTS', 'SCHOOL', 'SPM ADDMATH', 'SEM1 CGPA',\n",
       "       'SEM1 MATH', 'SEM1 BUSINESS', 'SEM1 ECONOMY', 'SEM1 ACCOUNTING'],\n",
       "      dtype=object)"
      ]
     },
     "execution_count": 45,
     "metadata": {},
     "output_type": "execute_result"
    }
   ],
   "source": [
    "names = X_train.columns.values[selector.get_support()]\n",
    "names"
   ]
  },
  {
   "cell_type": "code",
   "execution_count": 46,
   "id": "7205ce52",
   "metadata": {},
   "outputs": [
    {
     "data": {
      "text/plain": [
       "array([ True,  True,  True,  True,  True,  True,  True,  True,  True,\n",
       "        True,  True,  True,  True,  True,  True])"
      ]
     },
     "execution_count": 46,
     "metadata": {},
     "output_type": "execute_result"
    }
   ],
   "source": [
    "selector.get_support()"
   ]
  },
  {
   "cell_type": "code",
   "execution_count": 47,
   "id": "e5817b08",
   "metadata": {},
   "outputs": [
    {
     "data": {
      "text/plain": [
       "array([ 0.37945605,  1.68053522,  2.65626702,  0.95818544,  1.94493576,\n",
       "        1.42780756,  3.32804532,  0.95647194,  0.91883288, 11.59421339,\n",
       "       73.8315017 , 38.40100007, 34.51069754, 37.68978039, 60.41918548])"
      ]
     },
     "execution_count": 47,
     "metadata": {},
     "output_type": "execute_result"
    }
   ],
   "source": [
    "scores = selector.scores_[selector.get_support()]\n",
    "scores"
   ]
  },
  {
   "cell_type": "code",
   "execution_count": 48,
   "id": "b44f6870",
   "metadata": {
    "scrolled": true
   },
   "outputs": [
    {
     "data": {
      "text/plain": [
       "[('LEARNING STYLE', 0.3794560500122125),\n",
       " ('RACE', 1.6805352150179689),\n",
       " ('GENDER', 2.656267015136634),\n",
       " ('RELIGION', 0.9581854418150049),\n",
       " ('STATE', 1.9449357611128524),\n",
       " ('REGION', 1.427807558356747),\n",
       " ('INCOME', 3.3280453237630794),\n",
       " ('DEPENDENTS', 0.9564719427046736),\n",
       " ('SCHOOL', 0.9188328848578321),\n",
       " ('SPM ADDMATH', 11.594213388864745),\n",
       " ('SEM1 CGPA', 73.83150170050521),\n",
       " ('SEM1 MATH', 38.40100007429243),\n",
       " ('SEM1 BUSINESS', 34.510697544454686),\n",
       " ('SEM1 ECONOMY', 37.689780387868936),\n",
       " ('SEM1 ACCOUNTING', 60.41918548241215)]"
      ]
     },
     "execution_count": 48,
     "metadata": {},
     "output_type": "execute_result"
    }
   ],
   "source": [
    "names_scores = list(zip(names,scores))\n",
    "names_scores"
   ]
  },
  {
   "cell_type": "code",
   "execution_count": 49,
   "id": "e6e551c5",
   "metadata": {},
   "outputs": [
    {
     "data": {
      "text/html": [
       "<div>\n",
       "<style scoped>\n",
       "    .dataframe tbody tr th:only-of-type {\n",
       "        vertical-align: middle;\n",
       "    }\n",
       "\n",
       "    .dataframe tbody tr th {\n",
       "        vertical-align: top;\n",
       "    }\n",
       "\n",
       "    .dataframe thead th {\n",
       "        text-align: right;\n",
       "    }\n",
       "</style>\n",
       "<table border=\"1\" class=\"dataframe\">\n",
       "  <thead>\n",
       "    <tr style=\"text-align: right;\">\n",
       "      <th></th>\n",
       "      <th>Feature</th>\n",
       "      <th>F_Score</th>\n",
       "    </tr>\n",
       "  </thead>\n",
       "  <tbody>\n",
       "    <tr>\n",
       "      <th>0</th>\n",
       "      <td>LEARNING STYLE</td>\n",
       "      <td>0.379456</td>\n",
       "    </tr>\n",
       "    <tr>\n",
       "      <th>1</th>\n",
       "      <td>RACE</td>\n",
       "      <td>1.680535</td>\n",
       "    </tr>\n",
       "    <tr>\n",
       "      <th>2</th>\n",
       "      <td>GENDER</td>\n",
       "      <td>2.656267</td>\n",
       "    </tr>\n",
       "    <tr>\n",
       "      <th>3</th>\n",
       "      <td>RELIGION</td>\n",
       "      <td>0.958185</td>\n",
       "    </tr>\n",
       "    <tr>\n",
       "      <th>4</th>\n",
       "      <td>STATE</td>\n",
       "      <td>1.944936</td>\n",
       "    </tr>\n",
       "    <tr>\n",
       "      <th>5</th>\n",
       "      <td>REGION</td>\n",
       "      <td>1.427808</td>\n",
       "    </tr>\n",
       "    <tr>\n",
       "      <th>6</th>\n",
       "      <td>INCOME</td>\n",
       "      <td>3.328045</td>\n",
       "    </tr>\n",
       "    <tr>\n",
       "      <th>7</th>\n",
       "      <td>DEPENDENTS</td>\n",
       "      <td>0.956472</td>\n",
       "    </tr>\n",
       "    <tr>\n",
       "      <th>8</th>\n",
       "      <td>SCHOOL</td>\n",
       "      <td>0.918833</td>\n",
       "    </tr>\n",
       "    <tr>\n",
       "      <th>9</th>\n",
       "      <td>SPM ADDMATH</td>\n",
       "      <td>11.594213</td>\n",
       "    </tr>\n",
       "    <tr>\n",
       "      <th>10</th>\n",
       "      <td>SEM1 CGPA</td>\n",
       "      <td>73.831502</td>\n",
       "    </tr>\n",
       "    <tr>\n",
       "      <th>11</th>\n",
       "      <td>SEM1 MATH</td>\n",
       "      <td>38.401000</td>\n",
       "    </tr>\n",
       "    <tr>\n",
       "      <th>12</th>\n",
       "      <td>SEM1 BUSINESS</td>\n",
       "      <td>34.510698</td>\n",
       "    </tr>\n",
       "    <tr>\n",
       "      <th>13</th>\n",
       "      <td>SEM1 ECONOMY</td>\n",
       "      <td>37.689780</td>\n",
       "    </tr>\n",
       "    <tr>\n",
       "      <th>14</th>\n",
       "      <td>SEM1 ACCOUNTING</td>\n",
       "      <td>60.419185</td>\n",
       "    </tr>\n",
       "  </tbody>\n",
       "</table>\n",
       "</div>"
      ],
      "text/plain": [
       "            Feature    F_Score\n",
       "0    LEARNING STYLE   0.379456\n",
       "1              RACE   1.680535\n",
       "2            GENDER   2.656267\n",
       "3          RELIGION   0.958185\n",
       "4             STATE   1.944936\n",
       "5            REGION   1.427808\n",
       "6            INCOME   3.328045\n",
       "7        DEPENDENTS   0.956472\n",
       "8            SCHOOL   0.918833\n",
       "9       SPM ADDMATH  11.594213\n",
       "10        SEM1 CGPA  73.831502\n",
       "11        SEM1 MATH  38.401000\n",
       "12    SEM1 BUSINESS  34.510698\n",
       "13     SEM1 ECONOMY  37.689780\n",
       "14  SEM1 ACCOUNTING  60.419185"
      ]
     },
     "execution_count": 49,
     "metadata": {},
     "output_type": "execute_result"
    }
   ],
   "source": [
    "ns_df = pd.DataFrame(data = names_scores,columns=['Feature','F_Score'])\n",
    "ns_df"
   ]
  },
  {
   "cell_type": "code",
   "execution_count": 50,
   "id": "d7ac6771",
   "metadata": {},
   "outputs": [
    {
     "data": {
      "text/html": [
       "<div>\n",
       "<style scoped>\n",
       "    .dataframe tbody tr th:only-of-type {\n",
       "        vertical-align: middle;\n",
       "    }\n",
       "\n",
       "    .dataframe tbody tr th {\n",
       "        vertical-align: top;\n",
       "    }\n",
       "\n",
       "    .dataframe thead th {\n",
       "        text-align: right;\n",
       "    }\n",
       "</style>\n",
       "<table border=\"1\" class=\"dataframe\">\n",
       "  <thead>\n",
       "    <tr style=\"text-align: right;\">\n",
       "      <th></th>\n",
       "      <th>Feature</th>\n",
       "      <th>F_Score</th>\n",
       "    </tr>\n",
       "  </thead>\n",
       "  <tbody>\n",
       "    <tr>\n",
       "      <th>LEARNING STYLE</th>\n",
       "      <td>LEARNING STYLE</td>\n",
       "      <td>0.379456</td>\n",
       "    </tr>\n",
       "    <tr>\n",
       "      <th>RACE</th>\n",
       "      <td>RACE</td>\n",
       "      <td>1.680535</td>\n",
       "    </tr>\n",
       "    <tr>\n",
       "      <th>GENDER</th>\n",
       "      <td>GENDER</td>\n",
       "      <td>2.656267</td>\n",
       "    </tr>\n",
       "    <tr>\n",
       "      <th>RELIGION</th>\n",
       "      <td>RELIGION</td>\n",
       "      <td>0.958185</td>\n",
       "    </tr>\n",
       "    <tr>\n",
       "      <th>STATE</th>\n",
       "      <td>STATE</td>\n",
       "      <td>1.944936</td>\n",
       "    </tr>\n",
       "    <tr>\n",
       "      <th>REGION</th>\n",
       "      <td>REGION</td>\n",
       "      <td>1.427808</td>\n",
       "    </tr>\n",
       "    <tr>\n",
       "      <th>INCOME</th>\n",
       "      <td>INCOME</td>\n",
       "      <td>3.328045</td>\n",
       "    </tr>\n",
       "    <tr>\n",
       "      <th>DEPENDENTS</th>\n",
       "      <td>DEPENDENTS</td>\n",
       "      <td>0.956472</td>\n",
       "    </tr>\n",
       "    <tr>\n",
       "      <th>SCHOOL</th>\n",
       "      <td>SCHOOL</td>\n",
       "      <td>0.918833</td>\n",
       "    </tr>\n",
       "    <tr>\n",
       "      <th>SPM ADDMATH</th>\n",
       "      <td>SPM ADDMATH</td>\n",
       "      <td>11.594213</td>\n",
       "    </tr>\n",
       "    <tr>\n",
       "      <th>SEM1 CGPA</th>\n",
       "      <td>SEM1 CGPA</td>\n",
       "      <td>73.831502</td>\n",
       "    </tr>\n",
       "    <tr>\n",
       "      <th>SEM1 MATH</th>\n",
       "      <td>SEM1 MATH</td>\n",
       "      <td>38.401000</td>\n",
       "    </tr>\n",
       "    <tr>\n",
       "      <th>SEM1 BUSINESS</th>\n",
       "      <td>SEM1 BUSINESS</td>\n",
       "      <td>34.510698</td>\n",
       "    </tr>\n",
       "    <tr>\n",
       "      <th>SEM1 ECONOMY</th>\n",
       "      <td>SEM1 ECONOMY</td>\n",
       "      <td>37.689780</td>\n",
       "    </tr>\n",
       "    <tr>\n",
       "      <th>SEM1 ACCOUNTING</th>\n",
       "      <td>SEM1 ACCOUNTING</td>\n",
       "      <td>60.419185</td>\n",
       "    </tr>\n",
       "  </tbody>\n",
       "</table>\n",
       "</div>"
      ],
      "text/plain": [
       "                         Feature    F_Score\n",
       "LEARNING STYLE    LEARNING STYLE   0.379456\n",
       "RACE                        RACE   1.680535\n",
       "GENDER                    GENDER   2.656267\n",
       "RELIGION                RELIGION   0.958185\n",
       "STATE                      STATE   1.944936\n",
       "REGION                    REGION   1.427808\n",
       "INCOME                    INCOME   3.328045\n",
       "DEPENDENTS            DEPENDENTS   0.956472\n",
       "SCHOOL                    SCHOOL   0.918833\n",
       "SPM ADDMATH          SPM ADDMATH  11.594213\n",
       "SEM1 CGPA              SEM1 CGPA  73.831502\n",
       "SEM1 MATH              SEM1 MATH  38.401000\n",
       "SEM1 BUSINESS      SEM1 BUSINESS  34.510698\n",
       "SEM1 ECONOMY        SEM1 ECONOMY  37.689780\n",
       "SEM1 ACCOUNTING  SEM1 ACCOUNTING  60.419185"
      ]
     },
     "execution_count": 50,
     "metadata": {},
     "output_type": "execute_result"
    }
   ],
   "source": [
    "ns_df = pd.DataFrame(data = names_scores,columns=['Feature','F_Score'])\n",
    "ns_df.index = X_train.columns\n",
    "ns_df"
   ]
  },
  {
   "cell_type": "code",
   "execution_count": 51,
   "id": "73e6b5f0",
   "metadata": {},
   "outputs": [
    {
     "data": {
      "text/html": [
       "<div>\n",
       "<style scoped>\n",
       "    .dataframe tbody tr th:only-of-type {\n",
       "        vertical-align: middle;\n",
       "    }\n",
       "\n",
       "    .dataframe tbody tr th {\n",
       "        vertical-align: top;\n",
       "    }\n",
       "\n",
       "    .dataframe thead th {\n",
       "        text-align: right;\n",
       "    }\n",
       "</style>\n",
       "<table border=\"1\" class=\"dataframe\">\n",
       "  <thead>\n",
       "    <tr style=\"text-align: right;\">\n",
       "      <th></th>\n",
       "      <th>Feature</th>\n",
       "      <th>F_Score</th>\n",
       "    </tr>\n",
       "  </thead>\n",
       "  <tbody>\n",
       "    <tr>\n",
       "      <th>SEM1 CGPA</th>\n",
       "      <td>SEM1 CGPA</td>\n",
       "      <td>73.831502</td>\n",
       "    </tr>\n",
       "    <tr>\n",
       "      <th>SEM1 ACCOUNTING</th>\n",
       "      <td>SEM1 ACCOUNTING</td>\n",
       "      <td>60.419185</td>\n",
       "    </tr>\n",
       "    <tr>\n",
       "      <th>SEM1 MATH</th>\n",
       "      <td>SEM1 MATH</td>\n",
       "      <td>38.401000</td>\n",
       "    </tr>\n",
       "    <tr>\n",
       "      <th>SEM1 ECONOMY</th>\n",
       "      <td>SEM1 ECONOMY</td>\n",
       "      <td>37.689780</td>\n",
       "    </tr>\n",
       "    <tr>\n",
       "      <th>SEM1 BUSINESS</th>\n",
       "      <td>SEM1 BUSINESS</td>\n",
       "      <td>34.510698</td>\n",
       "    </tr>\n",
       "    <tr>\n",
       "      <th>SPM ADDMATH</th>\n",
       "      <td>SPM ADDMATH</td>\n",
       "      <td>11.594213</td>\n",
       "    </tr>\n",
       "    <tr>\n",
       "      <th>INCOME</th>\n",
       "      <td>INCOME</td>\n",
       "      <td>3.328045</td>\n",
       "    </tr>\n",
       "    <tr>\n",
       "      <th>GENDER</th>\n",
       "      <td>GENDER</td>\n",
       "      <td>2.656267</td>\n",
       "    </tr>\n",
       "    <tr>\n",
       "      <th>STATE</th>\n",
       "      <td>STATE</td>\n",
       "      <td>1.944936</td>\n",
       "    </tr>\n",
       "    <tr>\n",
       "      <th>RACE</th>\n",
       "      <td>RACE</td>\n",
       "      <td>1.680535</td>\n",
       "    </tr>\n",
       "    <tr>\n",
       "      <th>REGION</th>\n",
       "      <td>REGION</td>\n",
       "      <td>1.427808</td>\n",
       "    </tr>\n",
       "    <tr>\n",
       "      <th>RELIGION</th>\n",
       "      <td>RELIGION</td>\n",
       "      <td>0.958185</td>\n",
       "    </tr>\n",
       "    <tr>\n",
       "      <th>DEPENDENTS</th>\n",
       "      <td>DEPENDENTS</td>\n",
       "      <td>0.956472</td>\n",
       "    </tr>\n",
       "    <tr>\n",
       "      <th>SCHOOL</th>\n",
       "      <td>SCHOOL</td>\n",
       "      <td>0.918833</td>\n",
       "    </tr>\n",
       "    <tr>\n",
       "      <th>LEARNING STYLE</th>\n",
       "      <td>LEARNING STYLE</td>\n",
       "      <td>0.379456</td>\n",
       "    </tr>\n",
       "  </tbody>\n",
       "</table>\n",
       "</div>"
      ],
      "text/plain": [
       "                         Feature    F_Score\n",
       "SEM1 CGPA              SEM1 CGPA  73.831502\n",
       "SEM1 ACCOUNTING  SEM1 ACCOUNTING  60.419185\n",
       "SEM1 MATH              SEM1 MATH  38.401000\n",
       "SEM1 ECONOMY        SEM1 ECONOMY  37.689780\n",
       "SEM1 BUSINESS      SEM1 BUSINESS  34.510698\n",
       "SPM ADDMATH          SPM ADDMATH  11.594213\n",
       "INCOME                    INCOME   3.328045\n",
       "GENDER                    GENDER   2.656267\n",
       "STATE                      STATE   1.944936\n",
       "RACE                        RACE   1.680535\n",
       "REGION                    REGION   1.427808\n",
       "RELIGION                RELIGION   0.958185\n",
       "DEPENDENTS            DEPENDENTS   0.956472\n",
       "SCHOOL                    SCHOOL   0.918833\n",
       "LEARNING STYLE    LEARNING STYLE   0.379456"
      ]
     },
     "execution_count": 51,
     "metadata": {},
     "output_type": "execute_result"
    }
   ],
   "source": [
    "ns_df_sorted= ns_df.sort_values(['F_Score'],ascending=[False])\n",
    "ns_df_sorted"
   ]
  },
  {
   "cell_type": "code",
   "execution_count": 52,
   "id": "efe053e0",
   "metadata": {},
   "outputs": [
    {
     "data": {
      "text/plain": [
       "<AxesSubplot:>"
      ]
     },
     "execution_count": 52,
     "metadata": {},
     "output_type": "execute_result"
    },
    {
     "data": {
      "image/png": "[encoded data removed]",
      "text/plain": [
       "<Figure size 1440x576 with 1 Axes>"
      ]
     },
     "metadata": {
      "needs_background": "light"
     },
     "output_type": "display_data"
    }
   ],
   "source": [
    "ns_df_sorted.plot.barh(figsize=(20,8))"
   ]
  },
  {
   "cell_type": "markdown",
   "id": "65ed4702",
   "metadata": {},
   "source": [
    "# 7. FEATURE SELECTION : RFE"
   ]
  },
  {
   "cell_type": "code",
   "execution_count": 53,
   "id": "c7e36b94",
   "metadata": {},
   "outputs": [],
   "source": [
    "import numpy as np\n",
    "from sklearn.feature_selection import RFE\n",
    "from sklearn.ensemble import RandomForestClassifier"
   ]
  },
  {
   "cell_type": "code",
   "execution_count": 54,
   "id": "563d1e89",
   "metadata": {},
   "outputs": [
    {
     "name": "stdout",
     "output_type": "stream",
     "text": [
      "Num Features: 10\n",
      "Selected Features: [False False False False False  True  True  True  True  True  True  True\n",
      "  True  True  True]\n",
      "Feature Ranking: [4 6 2 5 3 1 1 1 1 1 1 1 1 1 1]\n"
     ]
    }
   ],
   "source": [
    "model = RandomForestClassifier(max_depth = 10)\n",
    "#you can always modify the parameter value, n_features_to_select based on how many features you would like to use. \n",
    "#It will give you the best features.\n",
    "\n",
    "rfe = RFE(estimator = model, n_features_to_select = 10)\n",
    "fit = rfe.fit(X_train,y_train)\n",
    "\n",
    "print(\"Num Features: %d\" % fit.n_features_ )\n",
    "print(\"Selected Features: %s\" % fit.support_ )\n",
    "print(\"Feature Ranking: %s\" % fit.ranking_ )"
   ]
  },
  {
   "cell_type": "code",
   "execution_count": 55,
   "id": "fff1c69e",
   "metadata": {},
   "outputs": [
    {
     "name": "stdout",
     "output_type": "stream",
     "text": [
      "['REGION' 'INCOME' 'DEPENDENTS' 'SCHOOL' 'SPM ADDMATH' 'SEM1 CGPA'\n",
      " 'SEM1 MATH' 'SEM1 BUSINESS' 'SEM1 ECONOMY' 'SEM1 ACCOUNTING']\n"
     ]
    }
   ],
   "source": [
    "# in this step, since we define no of features = 5, we get the top 5 features\n",
    "feature_names = np.array(X_train.columns)\n",
    "print(feature_names[fit.support_])"
   ]
  }
 ],
 "metadata": {
  "kernelspec": {
   "display_name": "Python 3",
   "language": "python",
   "name": "python3"
  },
  "language_info": {
   "codemirror_mode": {
    "name": "ipython",
    "version": 3
   },
   "file_extension": ".py",
   "mimetype": "text/x-python",
   "name": "python",
   "nbconvert_exporter": "python",
   "pygments_lexer": "ipython3",
   "version": "3.8.8"
  }
 },
 "nbformat": 4,
 "nbformat_minor": 5
}
