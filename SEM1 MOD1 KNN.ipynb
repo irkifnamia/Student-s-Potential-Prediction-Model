{
 "cells": [
  {
   "cell_type": "markdown",
   "id": "cc33a2f8",
   "metadata": {},
   "source": [
    "# LOADING DATA"
   ]
  },
  {
   "cell_type": "code",
   "execution_count": 1,
   "id": "e5cf569b",
   "metadata": {},
   "outputs": [],
   "source": [
    "import numpy as np\n",
    "import pandas as pd"
   ]
  },
  {
   "cell_type": "code",
   "execution_count": 2,
   "id": "01d8a577",
   "metadata": {},
   "outputs": [],
   "source": [
    "df = pd.read_csv('mod1_encoded_sem1.csv')"
   ]
  },
  {
   "cell_type": "code",
   "execution_count": 3,
   "id": "257b655f",
   "metadata": {},
   "outputs": [],
   "source": [
    "df = df.drop('DEPENDENTS',axis=1)\n",
    "df = df.drop('YEAR',axis=1)\n",
    "df = df.drop('REGION',axis=1)\n",
    "df = df.drop('SCHOOL',axis=1)\n",
    "df = df.drop('LEARNING STYLE',axis=1)\n",
    "df = df.drop('GENDER',axis=1)"
   ]
  },
  {
   "cell_type": "code",
   "execution_count": 4,
   "id": "f49ef9b3",
   "metadata": {},
   "outputs": [
    {
     "data": {
      "text/html": [
       "<div>\n",
       "<style scoped>\n",
       "    .dataframe tbody tr th:only-of-type {\n",
       "        vertical-align: middle;\n",
       "    }\n",
       "\n",
       "    .dataframe tbody tr th {\n",
       "        vertical-align: top;\n",
       "    }\n",
       "\n",
       "    .dataframe thead th {\n",
       "        text-align: right;\n",
       "    }\n",
       "</style>\n",
       "<table border=\"1\" class=\"dataframe\">\n",
       "  <thead>\n",
       "    <tr style=\"text-align: right;\">\n",
       "      <th></th>\n",
       "      <th>PROGRAM</th>\n",
       "      <th>RACE</th>\n",
       "      <th>RELIGION</th>\n",
       "      <th>STATE</th>\n",
       "      <th>INCOME</th>\n",
       "      <th>SPM ADDMATH</th>\n",
       "      <th>SPM PHY</th>\n",
       "      <th>SPM CHEM</th>\n",
       "      <th>SPM BIO</th>\n",
       "      <th>SEM1 CGPA</th>\n",
       "    </tr>\n",
       "  </thead>\n",
       "  <tbody>\n",
       "    <tr>\n",
       "      <th>0</th>\n",
       "      <td>1</td>\n",
       "      <td>3</td>\n",
       "      <td>2</td>\n",
       "      <td>1</td>\n",
       "      <td>6</td>\n",
       "      <td>6</td>\n",
       "      <td>5</td>\n",
       "      <td>5</td>\n",
       "      <td>3</td>\n",
       "      <td>1</td>\n",
       "    </tr>\n",
       "    <tr>\n",
       "      <th>1</th>\n",
       "      <td>1</td>\n",
       "      <td>3</td>\n",
       "      <td>2</td>\n",
       "      <td>1</td>\n",
       "      <td>1</td>\n",
       "      <td>5</td>\n",
       "      <td>4</td>\n",
       "      <td>6</td>\n",
       "      <td>5</td>\n",
       "      <td>1</td>\n",
       "    </tr>\n",
       "    <tr>\n",
       "      <th>2</th>\n",
       "      <td>1</td>\n",
       "      <td>3</td>\n",
       "      <td>2</td>\n",
       "      <td>1</td>\n",
       "      <td>7</td>\n",
       "      <td>7</td>\n",
       "      <td>2</td>\n",
       "      <td>4</td>\n",
       "      <td>5</td>\n",
       "      <td>1</td>\n",
       "    </tr>\n",
       "    <tr>\n",
       "      <th>3</th>\n",
       "      <td>1</td>\n",
       "      <td>3</td>\n",
       "      <td>2</td>\n",
       "      <td>8</td>\n",
       "      <td>2</td>\n",
       "      <td>5</td>\n",
       "      <td>3</td>\n",
       "      <td>6</td>\n",
       "      <td>4</td>\n",
       "      <td>2</td>\n",
       "    </tr>\n",
       "    <tr>\n",
       "      <th>4</th>\n",
       "      <td>1</td>\n",
       "      <td>3</td>\n",
       "      <td>2</td>\n",
       "      <td>1</td>\n",
       "      <td>3</td>\n",
       "      <td>3</td>\n",
       "      <td>4</td>\n",
       "      <td>6</td>\n",
       "      <td>5</td>\n",
       "      <td>1</td>\n",
       "    </tr>\n",
       "  </tbody>\n",
       "</table>\n",
       "</div>"
      ],
      "text/plain": [
       "   PROGRAM  RACE  RELIGION  STATE  INCOME  SPM ADDMATH  SPM PHY  SPM CHEM  \\\n",
       "0        1     3         2      1       6            6        5         5   \n",
       "1        1     3         2      1       1            5        4         6   \n",
       "2        1     3         2      1       7            7        2         4   \n",
       "3        1     3         2      8       2            5        3         6   \n",
       "4        1     3         2      1       3            3        4         6   \n",
       "\n",
       "   SPM BIO  SEM1 CGPA  \n",
       "0        3          1  \n",
       "1        5          1  \n",
       "2        5          1  \n",
       "3        4          2  \n",
       "4        5          1  "
      ]
     },
     "execution_count": 4,
     "metadata": {},
     "output_type": "execute_result"
    }
   ],
   "source": [
    "df.head()"
   ]
  },
  {
   "cell_type": "code",
   "execution_count": 5,
   "id": "ee02a414",
   "metadata": {},
   "outputs": [
    {
     "name": "stdout",
     "output_type": "stream",
     "text": [
      "<class 'pandas.core.frame.DataFrame'>\n",
      "RangeIndex: 1241 entries, 0 to 1240\n",
      "Data columns (total 10 columns):\n",
      " #   Column       Non-Null Count  Dtype\n",
      "---  ------       --------------  -----\n",
      " 0   PROGRAM      1241 non-null   int64\n",
      " 1   RACE         1241 non-null   int64\n",
      " 2   RELIGION     1241 non-null   int64\n",
      " 3   STATE        1241 non-null   int64\n",
      " 4   INCOME       1241 non-null   int64\n",
      " 5   SPM ADDMATH  1241 non-null   int64\n",
      " 6   SPM PHY      1241 non-null   int64\n",
      " 7   SPM CHEM     1241 non-null   int64\n",
      " 8   SPM BIO      1241 non-null   int64\n",
      " 9   SEM1 CGPA    1241 non-null   int64\n",
      "dtypes: int64(10)\n",
      "memory usage: 97.1 KB\n"
     ]
    }
   ],
   "source": [
    "df.info()"
   ]
  },
  {
   "cell_type": "code",
   "execution_count": 6,
   "id": "b969461a",
   "metadata": {},
   "outputs": [
    {
     "data": {
      "text/plain": [
       "(1241, 10)"
      ]
     },
     "execution_count": 6,
     "metadata": {},
     "output_type": "execute_result"
    }
   ],
   "source": [
    "df.shape"
   ]
  },
  {
   "cell_type": "markdown",
   "id": "259f1a86",
   "metadata": {},
   "source": [
    "# STANDARDIZING THE VARIABLE\n",
    "\n",
    "Because the KNN classifier predicts the class of a given test observation by identifying the observations that are nearest to it, the scale of the variables matters. Any variables that are on a large scale will have a much larger effect on the distance between the observations, and hence on the KNN classifier, than variables that are on a small scale."
   ]
  },
  {
   "cell_type": "code",
   "execution_count": 7,
   "id": "59bd1b93",
   "metadata": {},
   "outputs": [],
   "source": [
    "from sklearn.preprocessing import StandardScaler"
   ]
  },
  {
   "cell_type": "code",
   "execution_count": 8,
   "id": "96f0c8e4",
   "metadata": {},
   "outputs": [],
   "source": [
    "scaler = StandardScaler()"
   ]
  },
  {
   "cell_type": "code",
   "execution_count": 9,
   "id": "07869b59",
   "metadata": {},
   "outputs": [
    {
     "data": {
      "text/plain": [
       "StandardScaler()"
      ]
     },
     "execution_count": 9,
     "metadata": {},
     "output_type": "execute_result"
    }
   ],
   "source": [
    "scaler.fit(df.drop('SEM1 CGPA',axis=1))"
   ]
  },
  {
   "cell_type": "code",
   "execution_count": 10,
   "id": "3dc17d6d",
   "metadata": {},
   "outputs": [],
   "source": [
    "scaled_features = scaler.transform(df.drop('SEM1 CGPA',axis=1))"
   ]
  },
  {
   "cell_type": "code",
   "execution_count": 11,
   "id": "e44ebb9e",
   "metadata": {},
   "outputs": [
    {
     "data": {
      "text/html": [
       "<div>\n",
       "<style scoped>\n",
       "    .dataframe tbody tr th:only-of-type {\n",
       "        vertical-align: middle;\n",
       "    }\n",
       "\n",
       "    .dataframe tbody tr th {\n",
       "        vertical-align: top;\n",
       "    }\n",
       "\n",
       "    .dataframe thead th {\n",
       "        text-align: right;\n",
       "    }\n",
       "</style>\n",
       "<table border=\"1\" class=\"dataframe\">\n",
       "  <thead>\n",
       "    <tr style=\"text-align: right;\">\n",
       "      <th></th>\n",
       "      <th>PROGRAM</th>\n",
       "      <th>RACE</th>\n",
       "      <th>RELIGION</th>\n",
       "      <th>STATE</th>\n",
       "      <th>INCOME</th>\n",
       "      <th>SPM ADDMATH</th>\n",
       "      <th>SPM PHY</th>\n",
       "      <th>SPM CHEM</th>\n",
       "      <th>SPM BIO</th>\n",
       "    </tr>\n",
       "  </thead>\n",
       "  <tbody>\n",
       "    <tr>\n",
       "      <th>0</th>\n",
       "      <td>0.987985</td>\n",
       "      <td>0.380774</td>\n",
       "      <td>0.268071</td>\n",
       "      <td>-0.484640</td>\n",
       "      <td>1.337215</td>\n",
       "      <td>0.835125</td>\n",
       "      <td>1.609341</td>\n",
       "      <td>0.862124</td>\n",
       "      <td>0.338659</td>\n",
       "    </tr>\n",
       "    <tr>\n",
       "      <th>1</th>\n",
       "      <td>0.987985</td>\n",
       "      <td>0.380774</td>\n",
       "      <td>0.268071</td>\n",
       "      <td>-0.484640</td>\n",
       "      <td>-0.841157</td>\n",
       "      <td>0.403116</td>\n",
       "      <td>0.929098</td>\n",
       "      <td>1.355846</td>\n",
       "      <td>1.664452</td>\n",
       "    </tr>\n",
       "    <tr>\n",
       "      <th>2</th>\n",
       "      <td>0.987985</td>\n",
       "      <td>0.380774</td>\n",
       "      <td>0.268071</td>\n",
       "      <td>-0.484640</td>\n",
       "      <td>1.772890</td>\n",
       "      <td>1.267134</td>\n",
       "      <td>-0.431387</td>\n",
       "      <td>0.368402</td>\n",
       "      <td>1.664452</td>\n",
       "    </tr>\n",
       "    <tr>\n",
       "      <th>3</th>\n",
       "      <td>0.987985</td>\n",
       "      <td>0.380774</td>\n",
       "      <td>0.268071</td>\n",
       "      <td>1.660072</td>\n",
       "      <td>-0.405483</td>\n",
       "      <td>0.403116</td>\n",
       "      <td>0.248856</td>\n",
       "      <td>1.355846</td>\n",
       "      <td>1.001556</td>\n",
       "    </tr>\n",
       "    <tr>\n",
       "      <th>4</th>\n",
       "      <td>0.987985</td>\n",
       "      <td>0.380774</td>\n",
       "      <td>0.268071</td>\n",
       "      <td>-0.484640</td>\n",
       "      <td>0.030192</td>\n",
       "      <td>-0.460903</td>\n",
       "      <td>0.929098</td>\n",
       "      <td>1.355846</td>\n",
       "      <td>1.664452</td>\n",
       "    </tr>\n",
       "  </tbody>\n",
       "</table>\n",
       "</div>"
      ],
      "text/plain": [
       "    PROGRAM      RACE  RELIGION     STATE    INCOME  SPM ADDMATH   SPM PHY  \\\n",
       "0  0.987985  0.380774  0.268071 -0.484640  1.337215     0.835125  1.609341   \n",
       "1  0.987985  0.380774  0.268071 -0.484640 -0.841157     0.403116  0.929098   \n",
       "2  0.987985  0.380774  0.268071 -0.484640  1.772890     1.267134 -0.431387   \n",
       "3  0.987985  0.380774  0.268071  1.660072 -0.405483     0.403116  0.248856   \n",
       "4  0.987985  0.380774  0.268071 -0.484640  0.030192    -0.460903  0.929098   \n",
       "\n",
       "   SPM CHEM   SPM BIO  \n",
       "0  0.862124  0.338659  \n",
       "1  1.355846  1.664452  \n",
       "2  0.368402  1.664452  \n",
       "3  1.355846  1.001556  \n",
       "4  1.355846  1.664452  "
      ]
     },
     "execution_count": 11,
     "metadata": {},
     "output_type": "execute_result"
    }
   ],
   "source": [
    "df_feat = pd.DataFrame(scaled_features,columns=df.columns[:-1])\n",
    "df_feat.head()"
   ]
  },
  {
   "cell_type": "markdown",
   "id": "46706c4b",
   "metadata": {},
   "source": [
    "# HOLD OUT VALIDATION (TRAIN TEST SPLIT)"
   ]
  },
  {
   "cell_type": "code",
   "execution_count": 15,
   "id": "940b4af1",
   "metadata": {},
   "outputs": [],
   "source": [
    "from sklearn.model_selection import train_test_split"
   ]
  },
  {
   "cell_type": "code",
   "execution_count": 16,
   "id": "4cc3398b",
   "metadata": {},
   "outputs": [],
   "source": [
    "X_train,X_test,y_train,y_test = train_test_split(df_feat,df['SEM1 CGPA'],test_size=0.2,random_state=0)"
   ]
  },
  {
   "cell_type": "markdown",
   "id": "29244d7d",
   "metadata": {},
   "source": [
    "# MODEL FITTING"
   ]
  },
  {
   "cell_type": "code",
   "execution_count": 17,
   "id": "5aedcaa7",
   "metadata": {},
   "outputs": [],
   "source": [
    "from sklearn.neighbors import KNeighborsClassifier"
   ]
  },
  {
   "cell_type": "code",
   "execution_count": 18,
   "id": "fadd37df",
   "metadata": {},
   "outputs": [],
   "source": [
    "knn = KNeighborsClassifier(n_neighbors=1)\n",
    "knn.fit(X_train,y_train)\n",
    "pred = knn.predict(X_test)"
   ]
  },
  {
   "cell_type": "markdown",
   "id": "14aee321",
   "metadata": {},
   "source": [
    "# EVALUATION 1"
   ]
  },
  {
   "cell_type": "code",
   "execution_count": 19,
   "id": "8bc01440",
   "metadata": {},
   "outputs": [],
   "source": [
    "from sklearn.metrics import classification_report\n",
    "from sklearn.metrics import confusion_matrix"
   ]
  },
  {
   "cell_type": "code",
   "execution_count": 20,
   "id": "9e7b38ef",
   "metadata": {},
   "outputs": [
    {
     "name": "stdout",
     "output_type": "stream",
     "text": [
      "[[76 32 15  0  0]\n",
      " [30 29 17  2  0]\n",
      " [11 20 10  1  1]\n",
      " [ 1  2  2  0  0]\n",
      " [ 0  0  0  0  0]]\n"
     ]
    }
   ],
   "source": [
    "print(confusion_matrix(y_test,pred))"
   ]
  },
  {
   "cell_type": "code",
   "execution_count": 22,
   "id": "c5fd0d0a",
   "metadata": {},
   "outputs": [
    {
     "name": "stdout",
     "output_type": "stream",
     "text": [
      "              precision    recall  f1-score   support\n",
      "\n",
      "           0       0.64      0.62      0.63       123\n",
      "           1       0.35      0.37      0.36        78\n",
      "           2       0.23      0.23      0.23        43\n",
      "           3       0.00      0.00      0.00         5\n",
      "           4       0.00      0.00      0.00         0\n",
      "\n",
      "    accuracy                           0.46       249\n",
      "   macro avg       0.24      0.24      0.24       249\n",
      "weighted avg       0.47      0.46      0.46       249\n",
      "\n"
     ]
    },
    {
     "name": "stderr",
     "output_type": "stream",
     "text": [
      "C:\\Users\\User\\anaconda3\\lib\\site-packages\\sklearn\\metrics\\_classification.py:1245: UndefinedMetricWarning: Recall and F-score are ill-defined and being set to 0.0 in labels with no true samples. Use `zero_division` parameter to control this behavior.\n",
      "  _warn_prf(average, modifier, msg_start, len(result))\n",
      "C:\\Users\\User\\anaconda3\\lib\\site-packages\\sklearn\\metrics\\_classification.py:1245: UndefinedMetricWarning: Recall and F-score are ill-defined and being set to 0.0 in labels with no true samples. Use `zero_division` parameter to control this behavior.\n",
      "  _warn_prf(average, modifier, msg_start, len(result))\n",
      "C:\\Users\\User\\anaconda3\\lib\\site-packages\\sklearn\\metrics\\_classification.py:1245: UndefinedMetricWarning: Recall and F-score are ill-defined and being set to 0.0 in labels with no true samples. Use `zero_division` parameter to control this behavior.\n",
      "  _warn_prf(average, modifier, msg_start, len(result))\n"
     ]
    }
   ],
   "source": [
    "print(classification_report(y_test,pred))"
   ]
  },
  {
   "cell_type": "markdown",
   "id": "bd16c6be",
   "metadata": {},
   "source": [
    "# HYPERPARAMETER TUNING (ERROR RATE)"
   ]
  },
  {
   "cell_type": "code",
   "execution_count": 23,
   "id": "fae8c9c7",
   "metadata": {},
   "outputs": [],
   "source": [
    "import seaborn as sns\n",
    "import matplotlib.pyplot as plt\n",
    "%matplotlib inline\n",
    "\n",
    "# to hide unnecessary warning\n",
    "import warnings\n",
    "warnings.filterwarnings('ignore')"
   ]
  },
  {
   "cell_type": "code",
   "execution_count": 24,
   "id": "8e33537d",
   "metadata": {},
   "outputs": [],
   "source": [
    "error_rate = []\n",
    "\n",
    "for i in range(1,20):\n",
    "    knn = KNeighborsClassifier(n_neighbors=i)\n",
    "    knn.fit(X_train,y_train)\n",
    "    pred_i = knn.predict(X_test)\n",
    "    error_rate.append(np.mean(pred_i != y_test))"
   ]
  },
  {
   "cell_type": "code",
   "execution_count": 25,
   "id": "98f433fc",
   "metadata": {},
   "outputs": [
    {
     "data": {
      "text/plain": [
       "Text(0, 0.5, 'Error Rate')"
      ]
     },
     "execution_count": 25,
     "metadata": {},
     "output_type": "execute_result"
    },
    {
     "data": {
      "image/png": "[encoded data removed]",
      "text/plain": [
       "<Figure size 1440x720 with 1 Axes>"
      ]
     },
     "metadata": {
      "needs_background": "light"
     },
     "output_type": "display_data"
    }
   ],
   "source": [
    "plt.figure(figsize=(20,10))\n",
    "plt.plot(range(1,20),error_rate,color='blue',linestyle='dashed',marker='o',markerfacecolor='red',markersize='10')\n",
    "plt.title('Error Rate vs. K-Value')\n",
    "plt.xlabel('K')\n",
    "plt.ylabel('Error Rate')"
   ]
  },
  {
   "cell_type": "markdown",
   "id": "2d479df0",
   "metadata": {},
   "source": [
    "# HYPERPARAMETER TUNING (ACCURACY SCORE)"
   ]
  },
  {
   "cell_type": "code",
   "execution_count": 26,
   "id": "fa30d454",
   "metadata": {},
   "outputs": [],
   "source": [
    "from sklearn import metrics"
   ]
  },
  {
   "cell_type": "code",
   "execution_count": 27,
   "id": "e8595e5c",
   "metadata": {},
   "outputs": [],
   "source": [
    "# empty variable for storing the KNN metrics\n",
    "scores = []\n",
    "\n",
    "# we try diff values of k (from k=1 up to k=40)\n",
    "lrange = np.arange(1,20)\n",
    "\n",
    "# loop the KNN process\n",
    "for k in lrange:\n",
    "    # input the k-value and 'distance' measure\n",
    "    knn = KNeighborsClassifier(n_neighbors=k)\n",
    "    # input the train data to train KNN\n",
    "    knn.fit(X_train,y_train)\n",
    "    # see KNN prediction by inputting the test data\n",
    "    y_pred = knn.predict(X_test)\n",
    "    # append the performance metric (accuracy)\n",
    "    scores.append(metrics.accuracy_score(y_test,y_pred))\n",
    "    optimal_k = lrange[scores.index(max(scores))]"
   ]
  },
  {
   "cell_type": "code",
   "execution_count": 28,
   "id": "6b0f1c16",
   "metadata": {},
   "outputs": [
    {
     "data": {
      "image/png": "[encoded data removed]",
      "text/plain": [
       "<Figure size 1440x720 with 1 Axes>"
      ]
     },
     "metadata": {
      "needs_background": "light"
     },
     "output_type": "display_data"
    }
   ],
   "source": [
    "# plot accuracy scores vs k values\n",
    "plt.figure(2,figsize=(20,10))\n",
    "plt.plot(lrange,scores,color='blue',linestyle='dashed',marker='o',markerfacecolor='red',markersize='10')\n",
    "plt.xlabel('K')\n",
    "plt.ylabel('Accuracy Score')\n",
    "plt.title('Accuracy Scores VS K-Value')\n",
    "plt.show()"
   ]
  },
  {
   "cell_type": "code",
   "execution_count": 29,
   "id": "f28d39ce",
   "metadata": {},
   "outputs": [
    {
     "name": "stdout",
     "output_type": "stream",
     "text": [
      "Optimal k is 11\n",
      "Optimal score is 0.514\n"
     ]
    }
   ],
   "source": [
    "print(\"Optimal k is %d\" % optimal_k)\n",
    "print(\"Optimal score is %.3f\" % max(scores))"
   ]
  },
  {
   "cell_type": "markdown",
   "id": "899412b8",
   "metadata": {},
   "source": [
    "# EVALUATION 2"
   ]
  },
  {
   "cell_type": "code",
   "execution_count": 30,
   "id": "4b7df738",
   "metadata": {},
   "outputs": [
    {
     "name": "stdout",
     "output_type": "stream",
     "text": [
      "WITH K=1\n",
      "\n",
      "\n",
      "[[76 32 15  0  0]\n",
      " [30 29 17  2  0]\n",
      " [11 20 10  1  1]\n",
      " [ 1  2  2  0  0]\n",
      " [ 0  0  0  0  0]]\n",
      "\n",
      "\n",
      "              precision    recall  f1-score   support\n",
      "\n",
      "           0       0.64      0.62      0.63       123\n",
      "           1       0.35      0.37      0.36        78\n",
      "           2       0.23      0.23      0.23        43\n",
      "           3       0.00      0.00      0.00         5\n",
      "           4       0.00      0.00      0.00         0\n",
      "\n",
      "    accuracy                           0.46       249\n",
      "   macro avg       0.24      0.24      0.24       249\n",
      "weighted avg       0.47      0.46      0.46       249\n",
      "\n"
     ]
    }
   ],
   "source": [
    "# EVALUATION WITH K = 1\n",
    "\n",
    "knn = KNeighborsClassifier(n_neighbors=1)\n",
    "\n",
    "knn.fit(X_train,y_train)\n",
    "pred = knn.predict(X_test)\n",
    "\n",
    "print('WITH K=1')\n",
    "print('\\n')\n",
    "print(confusion_matrix(y_test,pred))\n",
    "print('\\n')\n",
    "print(classification_report(y_test,pred))"
   ]
  },
  {
   "cell_type": "code",
   "execution_count": 32,
   "id": "11ddfed3",
   "metadata": {},
   "outputs": [
    {
     "name": "stdout",
     "output_type": "stream",
     "text": [
      "KNN WITH K=11 (TARGET : SEM1 CGPA)\n",
      "\n",
      "\n",
      "[[86 33  4  0]\n",
      " [39 36  3  0]\n",
      " [15 22  6  0]\n",
      " [ 3  1  1  0]]\n",
      "\n",
      "\n",
      "              precision    recall  f1-score   support\n",
      "\n",
      "           0       0.60      0.70      0.65       123\n",
      "           1       0.39      0.46      0.42        78\n",
      "           2       0.43      0.14      0.21        43\n",
      "           3       0.00      0.00      0.00         5\n",
      "\n",
      "    accuracy                           0.51       249\n",
      "   macro avg       0.36      0.33      0.32       249\n",
      "weighted avg       0.49      0.51      0.49       249\n",
      "\n"
     ]
    }
   ],
   "source": [
    "# EVALUATION WITH K = 11\n",
    "\n",
    "knn = KNeighborsClassifier(n_neighbors=11)\n",
    "\n",
    "knn.fit(X_train,y_train)\n",
    "pred = knn.predict(X_test)\n",
    "\n",
    "print('KNN WITH K=11 (TARGET : SEM1 CGPA)')\n",
    "print('\\n')\n",
    "print(confusion_matrix(y_test,pred))\n",
    "print('\\n')\n",
    "print(classification_report(y_test,pred))"
   ]
  }
 ],
 "metadata": {
  "kernelspec": {
   "display_name": "Python 3",
   "language": "python",
   "name": "python3"
  },
  "language_info": {
   "codemirror_mode": {
    "name": "ipython",
    "version": 3
   },
   "file_extension": ".py",
   "mimetype": "text/x-python",
   "name": "python",
   "nbconvert_exporter": "python",
   "pygments_lexer": "ipython3",
   "version": "3.8.8"
  }
 },
 "nbformat": 4,
 "nbformat_minor": 5
}
