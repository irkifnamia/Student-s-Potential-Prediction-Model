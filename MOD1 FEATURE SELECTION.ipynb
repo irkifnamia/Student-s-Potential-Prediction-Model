{
 "cells": [
  {
   "cell_type": "markdown",
   "id": "2b2e9fe2",
   "metadata": {},
   "source": [
    "# IMPORT PACKAGE & LOAD DATASET"
   ]
  },
  {
   "cell_type": "code",
   "execution_count": 176,
   "id": "e7dd96b8",
   "metadata": {},
   "outputs": [],
   "source": [
    "import numpy as np\n",
    "import pandas as pd\n",
    "import seaborn as sns"
   ]
  },
  {
   "cell_type": "code",
   "execution_count": 177,
   "id": "080c3bd4",
   "metadata": {},
   "outputs": [],
   "source": [
    "mod1 = pd.read_csv('mod1.csv')"
   ]
  },
  {
   "cell_type": "code",
   "execution_count": 178,
   "id": "143be539",
   "metadata": {},
   "outputs": [
    {
     "data": {
      "text/html": [
       "<div>\n",
       "<style scoped>\n",
       "    .dataframe tbody tr th:only-of-type {\n",
       "        vertical-align: middle;\n",
       "    }\n",
       "\n",
       "    .dataframe tbody tr th {\n",
       "        vertical-align: top;\n",
       "    }\n",
       "\n",
       "    .dataframe thead th {\n",
       "        text-align: right;\n",
       "    }\n",
       "</style>\n",
       "<table border=\"1\" class=\"dataframe\">\n",
       "  <thead>\n",
       "    <tr style=\"text-align: right;\">\n",
       "      <th></th>\n",
       "      <th>STUDENT ID</th>\n",
       "      <th>LEARNING STYLE</th>\n",
       "      <th>PROGRAM</th>\n",
       "      <th>YEAR</th>\n",
       "      <th>RACE</th>\n",
       "      <th>GENDER</th>\n",
       "      <th>RELIGION</th>\n",
       "      <th>STATE</th>\n",
       "      <th>REGION</th>\n",
       "      <th>INCOME</th>\n",
       "      <th>...</th>\n",
       "      <th>SPM ADDMATH</th>\n",
       "      <th>SPM PHY</th>\n",
       "      <th>SPM CHEM</th>\n",
       "      <th>SPM BIO</th>\n",
       "      <th>SEM1 CGPA</th>\n",
       "      <th>SEM1 MATH</th>\n",
       "      <th>SEM1 PHY</th>\n",
       "      <th>SEM1 CHEM</th>\n",
       "      <th>SEM1 BIO</th>\n",
       "      <th>SEM2 CGPA</th>\n",
       "    </tr>\n",
       "  </thead>\n",
       "  <tbody>\n",
       "    <tr>\n",
       "      <th>0</th>\n",
       "      <td>2019/2020|MS1918176789</td>\n",
       "      <td>0</td>\n",
       "      <td>1</td>\n",
       "      <td>1</td>\n",
       "      <td>3</td>\n",
       "      <td>0</td>\n",
       "      <td>2</td>\n",
       "      <td>1</td>\n",
       "      <td>1</td>\n",
       "      <td>6</td>\n",
       "      <td>...</td>\n",
       "      <td>6</td>\n",
       "      <td>5</td>\n",
       "      <td>5</td>\n",
       "      <td>3</td>\n",
       "      <td>1</td>\n",
       "      <td>2</td>\n",
       "      <td>1</td>\n",
       "      <td>1</td>\n",
       "      <td>2</td>\n",
       "      <td>1</td>\n",
       "    </tr>\n",
       "    <tr>\n",
       "      <th>1</th>\n",
       "      <td>2019/2020|MS1818177321</td>\n",
       "      <td>0</td>\n",
       "      <td>1</td>\n",
       "      <td>2</td>\n",
       "      <td>3</td>\n",
       "      <td>0</td>\n",
       "      <td>2</td>\n",
       "      <td>1</td>\n",
       "      <td>0</td>\n",
       "      <td>1</td>\n",
       "      <td>...</td>\n",
       "      <td>5</td>\n",
       "      <td>4</td>\n",
       "      <td>6</td>\n",
       "      <td>5</td>\n",
       "      <td>1</td>\n",
       "      <td>1</td>\n",
       "      <td>4</td>\n",
       "      <td>2</td>\n",
       "      <td>5</td>\n",
       "      <td>1</td>\n",
       "    </tr>\n",
       "    <tr>\n",
       "      <th>2</th>\n",
       "      <td>2019/2020|MS1918177022</td>\n",
       "      <td>0</td>\n",
       "      <td>1</td>\n",
       "      <td>1</td>\n",
       "      <td>3</td>\n",
       "      <td>0</td>\n",
       "      <td>2</td>\n",
       "      <td>1</td>\n",
       "      <td>1</td>\n",
       "      <td>7</td>\n",
       "      <td>...</td>\n",
       "      <td>7</td>\n",
       "      <td>2</td>\n",
       "      <td>4</td>\n",
       "      <td>5</td>\n",
       "      <td>1</td>\n",
       "      <td>4</td>\n",
       "      <td>1</td>\n",
       "      <td>3</td>\n",
       "      <td>3</td>\n",
       "      <td>1</td>\n",
       "    </tr>\n",
       "    <tr>\n",
       "      <th>3</th>\n",
       "      <td>2019/2020|MS1818177340</td>\n",
       "      <td>0</td>\n",
       "      <td>1</td>\n",
       "      <td>2</td>\n",
       "      <td>3</td>\n",
       "      <td>0</td>\n",
       "      <td>2</td>\n",
       "      <td>8</td>\n",
       "      <td>2</td>\n",
       "      <td>2</td>\n",
       "      <td>...</td>\n",
       "      <td>5</td>\n",
       "      <td>3</td>\n",
       "      <td>6</td>\n",
       "      <td>4</td>\n",
       "      <td>2</td>\n",
       "      <td>3</td>\n",
       "      <td>5</td>\n",
       "      <td>4</td>\n",
       "      <td>1</td>\n",
       "      <td>2</td>\n",
       "    </tr>\n",
       "    <tr>\n",
       "      <th>4</th>\n",
       "      <td>2019/2020|MS1818177124</td>\n",
       "      <td>0</td>\n",
       "      <td>1</td>\n",
       "      <td>2</td>\n",
       "      <td>3</td>\n",
       "      <td>0</td>\n",
       "      <td>2</td>\n",
       "      <td>1</td>\n",
       "      <td>2</td>\n",
       "      <td>3</td>\n",
       "      <td>...</td>\n",
       "      <td>3</td>\n",
       "      <td>4</td>\n",
       "      <td>6</td>\n",
       "      <td>5</td>\n",
       "      <td>1</td>\n",
       "      <td>1</td>\n",
       "      <td>5</td>\n",
       "      <td>3</td>\n",
       "      <td>2</td>\n",
       "      <td>1</td>\n",
       "    </tr>\n",
       "  </tbody>\n",
       "</table>\n",
       "<p>5 rows × 22 columns</p>\n",
       "</div>"
      ],
      "text/plain": [
       "               STUDENT ID  LEARNING STYLE  PROGRAM  YEAR  RACE  GENDER  \\\n",
       "0  2019/2020|MS1918176789               0        1     1     3       0   \n",
       "1  2019/2020|MS1818177321               0        1     2     3       0   \n",
       "2  2019/2020|MS1918177022               0        1     1     3       0   \n",
       "3  2019/2020|MS1818177340               0        1     2     3       0   \n",
       "4  2019/2020|MS1818177124               0        1     2     3       0   \n",
       "\n",
       "   RELIGION  STATE  REGION  INCOME  ...  SPM ADDMATH  SPM PHY  SPM CHEM  \\\n",
       "0         2      1       1       6  ...            6        5         5   \n",
       "1         2      1       0       1  ...            5        4         6   \n",
       "2         2      1       1       7  ...            7        2         4   \n",
       "3         2      8       2       2  ...            5        3         6   \n",
       "4         2      1       2       3  ...            3        4         6   \n",
       "\n",
       "   SPM BIO  SEM1 CGPA  SEM1 MATH  SEM1 PHY  SEM1 CHEM  SEM1 BIO  SEM2 CGPA  \n",
       "0        3          1          2         1          1         2          1  \n",
       "1        5          1          1         4          2         5          1  \n",
       "2        5          1          4         1          3         3          1  \n",
       "3        4          2          3         5          4         1          2  \n",
       "4        5          1          1         5          3         2          1  \n",
       "\n",
       "[5 rows x 22 columns]"
      ]
     },
     "execution_count": 178,
     "metadata": {},
     "output_type": "execute_result"
    }
   ],
   "source": [
    "mod1.head()"
   ]
  },
  {
   "cell_type": "code",
   "execution_count": 179,
   "id": "de164a9e",
   "metadata": {},
   "outputs": [
    {
     "data": {
      "text/plain": [
       "Index(['STUDENT ID', 'LEARNING STYLE', 'PROGRAM', 'YEAR', 'RACE', 'GENDER',\n",
       "       'RELIGION', 'STATE', 'REGION', 'INCOME', 'DEPENDENTS', 'SCHOOL',\n",
       "       'SPM ADDMATH', 'SPM PHY', 'SPM CHEM', 'SPM BIO', 'SEM1 CGPA',\n",
       "       'SEM1 MATH', 'SEM1 PHY', 'SEM1 CHEM', 'SEM1 BIO', 'SEM2 CGPA'],\n",
       "      dtype='object')"
      ]
     },
     "execution_count": 179,
     "metadata": {},
     "output_type": "execute_result"
    }
   ],
   "source": [
    "mod1.columns"
   ]
  },
  {
   "cell_type": "code",
   "execution_count": 180,
   "id": "e52bb58d",
   "metadata": {},
   "outputs": [
    {
     "name": "stdout",
     "output_type": "stream",
     "text": [
      "<class 'pandas.core.frame.DataFrame'>\n",
      "RangeIndex: 1241 entries, 0 to 1240\n",
      "Data columns (total 22 columns):\n",
      " #   Column          Non-Null Count  Dtype \n",
      "---  ------          --------------  ----- \n",
      " 0   STUDENT ID      1241 non-null   object\n",
      " 1   LEARNING STYLE  1241 non-null   int64 \n",
      " 2   PROGRAM         1241 non-null   int64 \n",
      " 3   YEAR            1241 non-null   int64 \n",
      " 4   RACE            1241 non-null   int64 \n",
      " 5   GENDER          1241 non-null   int64 \n",
      " 6   RELIGION        1241 non-null   int64 \n",
      " 7   STATE           1241 non-null   int64 \n",
      " 8   REGION          1241 non-null   int64 \n",
      " 9   INCOME          1241 non-null   int64 \n",
      " 10  DEPENDENTS      1241 non-null   int64 \n",
      " 11  SCHOOL          1241 non-null   int64 \n",
      " 12  SPM ADDMATH     1241 non-null   int64 \n",
      " 13  SPM PHY         1241 non-null   int64 \n",
      " 14  SPM CHEM        1241 non-null   int64 \n",
      " 15  SPM BIO         1241 non-null   int64 \n",
      " 16  SEM1 CGPA       1241 non-null   int64 \n",
      " 17  SEM1 MATH       1241 non-null   int64 \n",
      " 18  SEM1 PHY        1241 non-null   int64 \n",
      " 19  SEM1 CHEM       1241 non-null   int64 \n",
      " 20  SEM1 BIO        1241 non-null   int64 \n",
      " 21  SEM2 CGPA       1241 non-null   int64 \n",
      "dtypes: int64(21), object(1)\n",
      "memory usage: 213.4+ KB\n"
     ]
    }
   ],
   "source": [
    "mod1.info()"
   ]
  },
  {
   "cell_type": "markdown",
   "id": "59c4b2dd",
   "metadata": {},
   "source": [
    "# DROP STUDENT ID COLUMN"
   ]
  },
  {
   "cell_type": "code",
   "execution_count": 181,
   "id": "2a3cc56b",
   "metadata": {},
   "outputs": [],
   "source": [
    "mod1 = pd.DataFrame(mod1)"
   ]
  },
  {
   "cell_type": "code",
   "execution_count": 182,
   "id": "7ffd6a13",
   "metadata": {},
   "outputs": [
    {
     "data": {
      "text/html": [
       "<div>\n",
       "<style scoped>\n",
       "    .dataframe tbody tr th:only-of-type {\n",
       "        vertical-align: middle;\n",
       "    }\n",
       "\n",
       "    .dataframe tbody tr th {\n",
       "        vertical-align: top;\n",
       "    }\n",
       "\n",
       "    .dataframe thead th {\n",
       "        text-align: right;\n",
       "    }\n",
       "</style>\n",
       "<table border=\"1\" class=\"dataframe\">\n",
       "  <thead>\n",
       "    <tr style=\"text-align: right;\">\n",
       "      <th></th>\n",
       "      <th>STUDENT ID</th>\n",
       "      <th>LEARNING STYLE</th>\n",
       "      <th>PROGRAM</th>\n",
       "      <th>YEAR</th>\n",
       "      <th>RACE</th>\n",
       "      <th>GENDER</th>\n",
       "      <th>RELIGION</th>\n",
       "      <th>STATE</th>\n",
       "      <th>REGION</th>\n",
       "      <th>INCOME</th>\n",
       "      <th>...</th>\n",
       "      <th>SPM ADDMATH</th>\n",
       "      <th>SPM PHY</th>\n",
       "      <th>SPM CHEM</th>\n",
       "      <th>SPM BIO</th>\n",
       "      <th>SEM1 CGPA</th>\n",
       "      <th>SEM1 MATH</th>\n",
       "      <th>SEM1 PHY</th>\n",
       "      <th>SEM1 CHEM</th>\n",
       "      <th>SEM1 BIO</th>\n",
       "      <th>SEM2 CGPA</th>\n",
       "    </tr>\n",
       "  </thead>\n",
       "  <tbody>\n",
       "    <tr>\n",
       "      <th>0</th>\n",
       "      <td>2019/2020|MS1918176789</td>\n",
       "      <td>0</td>\n",
       "      <td>1</td>\n",
       "      <td>1</td>\n",
       "      <td>3</td>\n",
       "      <td>0</td>\n",
       "      <td>2</td>\n",
       "      <td>1</td>\n",
       "      <td>1</td>\n",
       "      <td>6</td>\n",
       "      <td>...</td>\n",
       "      <td>6</td>\n",
       "      <td>5</td>\n",
       "      <td>5</td>\n",
       "      <td>3</td>\n",
       "      <td>1</td>\n",
       "      <td>2</td>\n",
       "      <td>1</td>\n",
       "      <td>1</td>\n",
       "      <td>2</td>\n",
       "      <td>1</td>\n",
       "    </tr>\n",
       "    <tr>\n",
       "      <th>1</th>\n",
       "      <td>2019/2020|MS1818177321</td>\n",
       "      <td>0</td>\n",
       "      <td>1</td>\n",
       "      <td>2</td>\n",
       "      <td>3</td>\n",
       "      <td>0</td>\n",
       "      <td>2</td>\n",
       "      <td>1</td>\n",
       "      <td>0</td>\n",
       "      <td>1</td>\n",
       "      <td>...</td>\n",
       "      <td>5</td>\n",
       "      <td>4</td>\n",
       "      <td>6</td>\n",
       "      <td>5</td>\n",
       "      <td>1</td>\n",
       "      <td>1</td>\n",
       "      <td>4</td>\n",
       "      <td>2</td>\n",
       "      <td>5</td>\n",
       "      <td>1</td>\n",
       "    </tr>\n",
       "    <tr>\n",
       "      <th>2</th>\n",
       "      <td>2019/2020|MS1918177022</td>\n",
       "      <td>0</td>\n",
       "      <td>1</td>\n",
       "      <td>1</td>\n",
       "      <td>3</td>\n",
       "      <td>0</td>\n",
       "      <td>2</td>\n",
       "      <td>1</td>\n",
       "      <td>1</td>\n",
       "      <td>7</td>\n",
       "      <td>...</td>\n",
       "      <td>7</td>\n",
       "      <td>2</td>\n",
       "      <td>4</td>\n",
       "      <td>5</td>\n",
       "      <td>1</td>\n",
       "      <td>4</td>\n",
       "      <td>1</td>\n",
       "      <td>3</td>\n",
       "      <td>3</td>\n",
       "      <td>1</td>\n",
       "    </tr>\n",
       "    <tr>\n",
       "      <th>3</th>\n",
       "      <td>2019/2020|MS1818177340</td>\n",
       "      <td>0</td>\n",
       "      <td>1</td>\n",
       "      <td>2</td>\n",
       "      <td>3</td>\n",
       "      <td>0</td>\n",
       "      <td>2</td>\n",
       "      <td>8</td>\n",
       "      <td>2</td>\n",
       "      <td>2</td>\n",
       "      <td>...</td>\n",
       "      <td>5</td>\n",
       "      <td>3</td>\n",
       "      <td>6</td>\n",
       "      <td>4</td>\n",
       "      <td>2</td>\n",
       "      <td>3</td>\n",
       "      <td>5</td>\n",
       "      <td>4</td>\n",
       "      <td>1</td>\n",
       "      <td>2</td>\n",
       "    </tr>\n",
       "    <tr>\n",
       "      <th>4</th>\n",
       "      <td>2019/2020|MS1818177124</td>\n",
       "      <td>0</td>\n",
       "      <td>1</td>\n",
       "      <td>2</td>\n",
       "      <td>3</td>\n",
       "      <td>0</td>\n",
       "      <td>2</td>\n",
       "      <td>1</td>\n",
       "      <td>2</td>\n",
       "      <td>3</td>\n",
       "      <td>...</td>\n",
       "      <td>3</td>\n",
       "      <td>4</td>\n",
       "      <td>6</td>\n",
       "      <td>5</td>\n",
       "      <td>1</td>\n",
       "      <td>1</td>\n",
       "      <td>5</td>\n",
       "      <td>3</td>\n",
       "      <td>2</td>\n",
       "      <td>1</td>\n",
       "    </tr>\n",
       "    <tr>\n",
       "      <th>...</th>\n",
       "      <td>...</td>\n",
       "      <td>...</td>\n",
       "      <td>...</td>\n",
       "      <td>...</td>\n",
       "      <td>...</td>\n",
       "      <td>...</td>\n",
       "      <td>...</td>\n",
       "      <td>...</td>\n",
       "      <td>...</td>\n",
       "      <td>...</td>\n",
       "      <td>...</td>\n",
       "      <td>...</td>\n",
       "      <td>...</td>\n",
       "      <td>...</td>\n",
       "      <td>...</td>\n",
       "      <td>...</td>\n",
       "      <td>...</td>\n",
       "      <td>...</td>\n",
       "      <td>...</td>\n",
       "      <td>...</td>\n",
       "      <td>...</td>\n",
       "    </tr>\n",
       "    <tr>\n",
       "      <th>1236</th>\n",
       "      <td>2020/2021|MS2018107198</td>\n",
       "      <td>1</td>\n",
       "      <td>0</td>\n",
       "      <td>1</td>\n",
       "      <td>1</td>\n",
       "      <td>1</td>\n",
       "      <td>1</td>\n",
       "      <td>10</td>\n",
       "      <td>1</td>\n",
       "      <td>5</td>\n",
       "      <td>...</td>\n",
       "      <td>0</td>\n",
       "      <td>1</td>\n",
       "      <td>1</td>\n",
       "      <td>1</td>\n",
       "      <td>0</td>\n",
       "      <td>0</td>\n",
       "      <td>0</td>\n",
       "      <td>0</td>\n",
       "      <td>0</td>\n",
       "      <td>0</td>\n",
       "    </tr>\n",
       "    <tr>\n",
       "      <th>1237</th>\n",
       "      <td>2020/2021|MS2018107648</td>\n",
       "      <td>1</td>\n",
       "      <td>0</td>\n",
       "      <td>1</td>\n",
       "      <td>3</td>\n",
       "      <td>1</td>\n",
       "      <td>2</td>\n",
       "      <td>12</td>\n",
       "      <td>2</td>\n",
       "      <td>5</td>\n",
       "      <td>...</td>\n",
       "      <td>3</td>\n",
       "      <td>3</td>\n",
       "      <td>4</td>\n",
       "      <td>4</td>\n",
       "      <td>0</td>\n",
       "      <td>1</td>\n",
       "      <td>0</td>\n",
       "      <td>0</td>\n",
       "      <td>1</td>\n",
       "      <td>0</td>\n",
       "    </tr>\n",
       "    <tr>\n",
       "      <th>1238</th>\n",
       "      <td>2020/2021|MS2018301332</td>\n",
       "      <td>1</td>\n",
       "      <td>0</td>\n",
       "      <td>1</td>\n",
       "      <td>0</td>\n",
       "      <td>1</td>\n",
       "      <td>0</td>\n",
       "      <td>8</td>\n",
       "      <td>2</td>\n",
       "      <td>5</td>\n",
       "      <td>...</td>\n",
       "      <td>1</td>\n",
       "      <td>0</td>\n",
       "      <td>0</td>\n",
       "      <td>0</td>\n",
       "      <td>0</td>\n",
       "      <td>0</td>\n",
       "      <td>0</td>\n",
       "      <td>0</td>\n",
       "      <td>0</td>\n",
       "      <td>0</td>\n",
       "    </tr>\n",
       "    <tr>\n",
       "      <th>1239</th>\n",
       "      <td>2020/2021|MS2018301380</td>\n",
       "      <td>1</td>\n",
       "      <td>0</td>\n",
       "      <td>1</td>\n",
       "      <td>0</td>\n",
       "      <td>1</td>\n",
       "      <td>0</td>\n",
       "      <td>6</td>\n",
       "      <td>1</td>\n",
       "      <td>5</td>\n",
       "      <td>...</td>\n",
       "      <td>0</td>\n",
       "      <td>0</td>\n",
       "      <td>0</td>\n",
       "      <td>0</td>\n",
       "      <td>0</td>\n",
       "      <td>0</td>\n",
       "      <td>0</td>\n",
       "      <td>0</td>\n",
       "      <td>0</td>\n",
       "      <td>0</td>\n",
       "    </tr>\n",
       "    <tr>\n",
       "      <th>1240</th>\n",
       "      <td>2020/2021|MS2018107310</td>\n",
       "      <td>1</td>\n",
       "      <td>0</td>\n",
       "      <td>1</td>\n",
       "      <td>3</td>\n",
       "      <td>1</td>\n",
       "      <td>2</td>\n",
       "      <td>10</td>\n",
       "      <td>0</td>\n",
       "      <td>0</td>\n",
       "      <td>...</td>\n",
       "      <td>4</td>\n",
       "      <td>2</td>\n",
       "      <td>2</td>\n",
       "      <td>1</td>\n",
       "      <td>1</td>\n",
       "      <td>3</td>\n",
       "      <td>2</td>\n",
       "      <td>3</td>\n",
       "      <td>3</td>\n",
       "      <td>2</td>\n",
       "    </tr>\n",
       "  </tbody>\n",
       "</table>\n",
       "<p>1241 rows × 22 columns</p>\n",
       "</div>"
      ],
      "text/plain": [
       "                  STUDENT ID  LEARNING STYLE  PROGRAM  YEAR  RACE  GENDER  \\\n",
       "0     2019/2020|MS1918176789               0        1     1     3       0   \n",
       "1     2019/2020|MS1818177321               0        1     2     3       0   \n",
       "2     2019/2020|MS1918177022               0        1     1     3       0   \n",
       "3     2019/2020|MS1818177340               0        1     2     3       0   \n",
       "4     2019/2020|MS1818177124               0        1     2     3       0   \n",
       "...                      ...             ...      ...   ...   ...     ...   \n",
       "1236  2020/2021|MS2018107198               1        0     1     1       1   \n",
       "1237  2020/2021|MS2018107648               1        0     1     3       1   \n",
       "1238  2020/2021|MS2018301332               1        0     1     0       1   \n",
       "1239  2020/2021|MS2018301380               1        0     1     0       1   \n",
       "1240  2020/2021|MS2018107310               1        0     1     3       1   \n",
       "\n",
       "      RELIGION  STATE  REGION  INCOME  ...  SPM ADDMATH  SPM PHY  SPM CHEM  \\\n",
       "0            2      1       1       6  ...            6        5         5   \n",
       "1            2      1       0       1  ...            5        4         6   \n",
       "2            2      1       1       7  ...            7        2         4   \n",
       "3            2      8       2       2  ...            5        3         6   \n",
       "4            2      1       2       3  ...            3        4         6   \n",
       "...        ...    ...     ...     ...  ...          ...      ...       ...   \n",
       "1236         1     10       1       5  ...            0        1         1   \n",
       "1237         2     12       2       5  ...            3        3         4   \n",
       "1238         0      8       2       5  ...            1        0         0   \n",
       "1239         0      6       1       5  ...            0        0         0   \n",
       "1240         2     10       0       0  ...            4        2         2   \n",
       "\n",
       "      SPM BIO  SEM1 CGPA  SEM1 MATH  SEM1 PHY  SEM1 CHEM  SEM1 BIO  SEM2 CGPA  \n",
       "0           3          1          2         1          1         2          1  \n",
       "1           5          1          1         4          2         5          1  \n",
       "2           5          1          4         1          3         3          1  \n",
       "3           4          2          3         5          4         1          2  \n",
       "4           5          1          1         5          3         2          1  \n",
       "...       ...        ...        ...       ...        ...       ...        ...  \n",
       "1236        1          0          0         0          0         0          0  \n",
       "1237        4          0          1         0          0         1          0  \n",
       "1238        0          0          0         0          0         0          0  \n",
       "1239        0          0          0         0          0         0          0  \n",
       "1240        1          1          3         2          3         3          2  \n",
       "\n",
       "[1241 rows x 22 columns]"
      ]
     },
     "execution_count": 182,
     "metadata": {},
     "output_type": "execute_result"
    }
   ],
   "source": [
    "mod1"
   ]
  },
  {
   "cell_type": "code",
   "execution_count": 183,
   "id": "8a4c9dc0",
   "metadata": {
    "scrolled": true
   },
   "outputs": [
    {
     "data": {
      "text/html": [
       "<div>\n",
       "<style scoped>\n",
       "    .dataframe tbody tr th:only-of-type {\n",
       "        vertical-align: middle;\n",
       "    }\n",
       "\n",
       "    .dataframe tbody tr th {\n",
       "        vertical-align: top;\n",
       "    }\n",
       "\n",
       "    .dataframe thead th {\n",
       "        text-align: right;\n",
       "    }\n",
       "</style>\n",
       "<table border=\"1\" class=\"dataframe\">\n",
       "  <thead>\n",
       "    <tr style=\"text-align: right;\">\n",
       "      <th></th>\n",
       "      <th>LEARNING STYLE</th>\n",
       "      <th>PROGRAM</th>\n",
       "      <th>YEAR</th>\n",
       "      <th>RACE</th>\n",
       "      <th>GENDER</th>\n",
       "      <th>RELIGION</th>\n",
       "      <th>STATE</th>\n",
       "      <th>REGION</th>\n",
       "      <th>INCOME</th>\n",
       "      <th>DEPENDENTS</th>\n",
       "      <th>...</th>\n",
       "      <th>SPM ADDMATH</th>\n",
       "      <th>SPM PHY</th>\n",
       "      <th>SPM CHEM</th>\n",
       "      <th>SPM BIO</th>\n",
       "      <th>SEM1 CGPA</th>\n",
       "      <th>SEM1 MATH</th>\n",
       "      <th>SEM1 PHY</th>\n",
       "      <th>SEM1 CHEM</th>\n",
       "      <th>SEM1 BIO</th>\n",
       "      <th>SEM2 CGPA</th>\n",
       "    </tr>\n",
       "  </thead>\n",
       "  <tbody>\n",
       "    <tr>\n",
       "      <th>0</th>\n",
       "      <td>0</td>\n",
       "      <td>1</td>\n",
       "      <td>1</td>\n",
       "      <td>3</td>\n",
       "      <td>0</td>\n",
       "      <td>2</td>\n",
       "      <td>1</td>\n",
       "      <td>1</td>\n",
       "      <td>6</td>\n",
       "      <td>6</td>\n",
       "      <td>...</td>\n",
       "      <td>6</td>\n",
       "      <td>5</td>\n",
       "      <td>5</td>\n",
       "      <td>3</td>\n",
       "      <td>1</td>\n",
       "      <td>2</td>\n",
       "      <td>1</td>\n",
       "      <td>1</td>\n",
       "      <td>2</td>\n",
       "      <td>1</td>\n",
       "    </tr>\n",
       "    <tr>\n",
       "      <th>1</th>\n",
       "      <td>0</td>\n",
       "      <td>1</td>\n",
       "      <td>2</td>\n",
       "      <td>3</td>\n",
       "      <td>0</td>\n",
       "      <td>2</td>\n",
       "      <td>1</td>\n",
       "      <td>0</td>\n",
       "      <td>1</td>\n",
       "      <td>6</td>\n",
       "      <td>...</td>\n",
       "      <td>5</td>\n",
       "      <td>4</td>\n",
       "      <td>6</td>\n",
       "      <td>5</td>\n",
       "      <td>1</td>\n",
       "      <td>1</td>\n",
       "      <td>4</td>\n",
       "      <td>2</td>\n",
       "      <td>5</td>\n",
       "      <td>1</td>\n",
       "    </tr>\n",
       "    <tr>\n",
       "      <th>2</th>\n",
       "      <td>0</td>\n",
       "      <td>1</td>\n",
       "      <td>1</td>\n",
       "      <td>3</td>\n",
       "      <td>0</td>\n",
       "      <td>2</td>\n",
       "      <td>1</td>\n",
       "      <td>1</td>\n",
       "      <td>7</td>\n",
       "      <td>2</td>\n",
       "      <td>...</td>\n",
       "      <td>7</td>\n",
       "      <td>2</td>\n",
       "      <td>4</td>\n",
       "      <td>5</td>\n",
       "      <td>1</td>\n",
       "      <td>4</td>\n",
       "      <td>1</td>\n",
       "      <td>3</td>\n",
       "      <td>3</td>\n",
       "      <td>1</td>\n",
       "    </tr>\n",
       "    <tr>\n",
       "      <th>3</th>\n",
       "      <td>0</td>\n",
       "      <td>1</td>\n",
       "      <td>2</td>\n",
       "      <td>3</td>\n",
       "      <td>0</td>\n",
       "      <td>2</td>\n",
       "      <td>8</td>\n",
       "      <td>2</td>\n",
       "      <td>2</td>\n",
       "      <td>6</td>\n",
       "      <td>...</td>\n",
       "      <td>5</td>\n",
       "      <td>3</td>\n",
       "      <td>6</td>\n",
       "      <td>4</td>\n",
       "      <td>2</td>\n",
       "      <td>3</td>\n",
       "      <td>5</td>\n",
       "      <td>4</td>\n",
       "      <td>1</td>\n",
       "      <td>2</td>\n",
       "    </tr>\n",
       "    <tr>\n",
       "      <th>4</th>\n",
       "      <td>0</td>\n",
       "      <td>1</td>\n",
       "      <td>2</td>\n",
       "      <td>3</td>\n",
       "      <td>0</td>\n",
       "      <td>2</td>\n",
       "      <td>1</td>\n",
       "      <td>2</td>\n",
       "      <td>3</td>\n",
       "      <td>4</td>\n",
       "      <td>...</td>\n",
       "      <td>3</td>\n",
       "      <td>4</td>\n",
       "      <td>6</td>\n",
       "      <td>5</td>\n",
       "      <td>1</td>\n",
       "      <td>1</td>\n",
       "      <td>5</td>\n",
       "      <td>3</td>\n",
       "      <td>2</td>\n",
       "      <td>1</td>\n",
       "    </tr>\n",
       "  </tbody>\n",
       "</table>\n",
       "<p>5 rows × 21 columns</p>\n",
       "</div>"
      ],
      "text/plain": [
       "   LEARNING STYLE  PROGRAM  YEAR  RACE  GENDER  RELIGION  STATE  REGION  \\\n",
       "0               0        1     1     3       0         2      1       1   \n",
       "1               0        1     2     3       0         2      1       0   \n",
       "2               0        1     1     3       0         2      1       1   \n",
       "3               0        1     2     3       0         2      8       2   \n",
       "4               0        1     2     3       0         2      1       2   \n",
       "\n",
       "   INCOME  DEPENDENTS  ...  SPM ADDMATH  SPM PHY  SPM CHEM  SPM BIO  \\\n",
       "0       6           6  ...            6        5         5        3   \n",
       "1       1           6  ...            5        4         6        5   \n",
       "2       7           2  ...            7        2         4        5   \n",
       "3       2           6  ...            5        3         6        4   \n",
       "4       3           4  ...            3        4         6        5   \n",
       "\n",
       "   SEM1 CGPA  SEM1 MATH  SEM1 PHY  SEM1 CHEM  SEM1 BIO  SEM2 CGPA  \n",
       "0          1          2         1          1         2          1  \n",
       "1          1          1         4          2         5          1  \n",
       "2          1          4         1          3         3          1  \n",
       "3          2          3         5          4         1          2  \n",
       "4          1          1         5          3         2          1  \n",
       "\n",
       "[5 rows x 21 columns]"
      ]
     },
     "execution_count": 183,
     "metadata": {},
     "output_type": "execute_result"
    }
   ],
   "source": [
    "mod1 = mod1.drop('STUDENT ID',axis=1)\n",
    "mod1.head()\n"
   ]
  },
  {
   "cell_type": "code",
   "execution_count": 184,
   "id": "802bff9b",
   "metadata": {},
   "outputs": [
    {
     "name": "stdout",
     "output_type": "stream",
     "text": [
      "<class 'pandas.core.frame.DataFrame'>\n",
      "RangeIndex: 1241 entries, 0 to 1240\n",
      "Data columns (total 21 columns):\n",
      " #   Column          Non-Null Count  Dtype\n",
      "---  ------          --------------  -----\n",
      " 0   LEARNING STYLE  1241 non-null   int64\n",
      " 1   PROGRAM         1241 non-null   int64\n",
      " 2   YEAR            1241 non-null   int64\n",
      " 3   RACE            1241 non-null   int64\n",
      " 4   GENDER          1241 non-null   int64\n",
      " 5   RELIGION        1241 non-null   int64\n",
      " 6   STATE           1241 non-null   int64\n",
      " 7   REGION          1241 non-null   int64\n",
      " 8   INCOME          1241 non-null   int64\n",
      " 9   DEPENDENTS      1241 non-null   int64\n",
      " 10  SCHOOL          1241 non-null   int64\n",
      " 11  SPM ADDMATH     1241 non-null   int64\n",
      " 12  SPM PHY         1241 non-null   int64\n",
      " 13  SPM CHEM        1241 non-null   int64\n",
      " 14  SPM BIO         1241 non-null   int64\n",
      " 15  SEM1 CGPA       1241 non-null   int64\n",
      " 16  SEM1 MATH       1241 non-null   int64\n",
      " 17  SEM1 PHY        1241 non-null   int64\n",
      " 18  SEM1 CHEM       1241 non-null   int64\n",
      " 19  SEM1 BIO        1241 non-null   int64\n",
      " 20  SEM2 CGPA       1241 non-null   int64\n",
      "dtypes: int64(21)\n",
      "memory usage: 203.7 KB\n"
     ]
    }
   ],
   "source": [
    "mod1.info()"
   ]
  },
  {
   "cell_type": "markdown",
   "id": "0d6db838",
   "metadata": {},
   "source": [
    "# CREATE TRAIN_TEST_SPLIT"
   ]
  },
  {
   "cell_type": "code",
   "execution_count": 185,
   "id": "1f9fe199",
   "metadata": {},
   "outputs": [],
   "source": [
    "## CREATE TRAIN TEST SPLIT TO AVOID OVERFITTING\n",
    "from sklearn.model_selection import train_test_split\n",
    "X_train,X_test,y_train,y_test = train_test_split(mod1.drop(labels=['SEM2 CGPA'],axis=1),\n",
    "                                                 mod1['SEM2 CGPA'],test_size=0.3,random_state=0)"
   ]
  },
  {
   "cell_type": "code",
   "execution_count": 186,
   "id": "8c0fce28",
   "metadata": {},
   "outputs": [
    {
     "name": "stdout",
     "output_type": "stream",
     "text": [
      "<class 'pandas.core.frame.DataFrame'>\n",
      "Int64Index: 868 entries, 959 to 684\n",
      "Data columns (total 20 columns):\n",
      " #   Column          Non-Null Count  Dtype\n",
      "---  ------          --------------  -----\n",
      " 0   LEARNING STYLE  868 non-null    int64\n",
      " 1   PROGRAM         868 non-null    int64\n",
      " 2   YEAR            868 non-null    int64\n",
      " 3   RACE            868 non-null    int64\n",
      " 4   GENDER          868 non-null    int64\n",
      " 5   RELIGION        868 non-null    int64\n",
      " 6   STATE           868 non-null    int64\n",
      " 7   REGION          868 non-null    int64\n",
      " 8   INCOME          868 non-null    int64\n",
      " 9   DEPENDENTS      868 non-null    int64\n",
      " 10  SCHOOL          868 non-null    int64\n",
      " 11  SPM ADDMATH     868 non-null    int64\n",
      " 12  SPM PHY         868 non-null    int64\n",
      " 13  SPM CHEM        868 non-null    int64\n",
      " 14  SPM BIO         868 non-null    int64\n",
      " 15  SEM1 CGPA       868 non-null    int64\n",
      " 16  SEM1 MATH       868 non-null    int64\n",
      " 17  SEM1 PHY        868 non-null    int64\n",
      " 18  SEM1 CHEM       868 non-null    int64\n",
      " 19  SEM1 BIO        868 non-null    int64\n",
      "dtypes: int64(20)\n",
      "memory usage: 142.4 KB\n"
     ]
    }
   ],
   "source": [
    "X_train.info()"
   ]
  },
  {
   "cell_type": "code",
   "execution_count": 187,
   "id": "6128f270",
   "metadata": {},
   "outputs": [
    {
     "data": {
      "text/plain": [
       "LEARNING STYLE    0\n",
       "PROGRAM           0\n",
       "YEAR              0\n",
       "RACE              0\n",
       "GENDER            0\n",
       "RELIGION          0\n",
       "STATE             0\n",
       "REGION            0\n",
       "INCOME            0\n",
       "DEPENDENTS        0\n",
       "SCHOOL            0\n",
       "SPM ADDMATH       0\n",
       "SPM PHY           0\n",
       "SPM CHEM          0\n",
       "SPM BIO           0\n",
       "SEM1 CGPA         0\n",
       "SEM1 MATH         0\n",
       "SEM1 PHY          0\n",
       "SEM1 CHEM         0\n",
       "SEM1 BIO          0\n",
       "dtype: int64"
      ]
     },
     "execution_count": 187,
     "metadata": {},
     "output_type": "execute_result"
    }
   ],
   "source": [
    "X_train.isnull().sum()"
   ]
  },
  {
   "cell_type": "markdown",
   "id": "ab156438",
   "metadata": {},
   "source": [
    "# 1. FEATURE SELECTION : INFO GAIN"
   ]
  },
  {
   "cell_type": "code",
   "execution_count": 188,
   "id": "81414aff",
   "metadata": {},
   "outputs": [
    {
     "data": {
      "text/plain": [
       "array([0.00180902, 0.        , 0.        , 0.06497508, 0.04936872,\n",
       "       0.06387157, 0.02950238, 0.        , 0.        , 0.00093829,\n",
       "       0.02689284, 0.05892306, 0.06720905, 0.05333812, 0.02559548,\n",
       "       0.37840303, 0.25974865, 0.27875548, 0.28748541, 0.22249111])"
      ]
     },
     "execution_count": 188,
     "metadata": {},
     "output_type": "execute_result"
    }
   ],
   "source": [
    "from sklearn.feature_selection import mutual_info_classif\n",
    "## DETERMINE THE MUTUAL INFORMATION\n",
    "mutual_info = mutual_info_classif(X_train,y_train)\n",
    "mutual_info"
   ]
  },
  {
   "cell_type": "code",
   "execution_count": 189,
   "id": "7ea401bf",
   "metadata": {},
   "outputs": [
    {
     "data": {
      "text/plain": [
       "SEM1 CGPA         0.378403\n",
       "SEM1 CHEM         0.287485\n",
       "SEM1 PHY          0.278755\n",
       "SEM1 MATH         0.259749\n",
       "SEM1 BIO          0.222491\n",
       "SPM PHY           0.067209\n",
       "RACE              0.064975\n",
       "RELIGION          0.063872\n",
       "SPM ADDMATH       0.058923\n",
       "SPM CHEM          0.053338\n",
       "GENDER            0.049369\n",
       "STATE             0.029502\n",
       "SCHOOL            0.026893\n",
       "SPM BIO           0.025595\n",
       "LEARNING STYLE    0.001809\n",
       "DEPENDENTS        0.000938\n",
       "PROGRAM           0.000000\n",
       "INCOME            0.000000\n",
       "REGION            0.000000\n",
       "YEAR              0.000000\n",
       "dtype: float64"
      ]
     },
     "execution_count": 189,
     "metadata": {},
     "output_type": "execute_result"
    }
   ],
   "source": [
    "mutual_info = pd.Series(mutual_info)\n",
    "mutual_info.index = X_train.columns\n",
    "mutual_info.sort_values(ascending=False)"
   ]
  },
  {
   "cell_type": "code",
   "execution_count": 190,
   "id": "99c8d29e",
   "metadata": {
    "scrolled": true
   },
   "outputs": [
    {
     "data": {
      "text/plain": [
       "<AxesSubplot:>"
      ]
     },
     "execution_count": 190,
     "metadata": {},
     "output_type": "execute_result"
    },
    {
     "data": {
      "image/png": "[encoded data removed]",
      "text/plain": [
       "<Figure size 1440x576 with 1 Axes>"
      ]
     },
     "metadata": {
      "needs_background": "light"
     },
     "output_type": "display_data"
    }
   ],
   "source": [
    "mutual_info.sort_values(ascending=False).plot.barh(figsize=(20,8))"
   ]
  },
  {
   "cell_type": "markdown",
   "id": "49671409",
   "metadata": {},
   "source": [
    "# 2. FEATURE SELECTION : SELECTKBEST (INFO GAIN)"
   ]
  },
  {
   "cell_type": "code",
   "execution_count": 191,
   "id": "00799c30",
   "metadata": {},
   "outputs": [],
   "source": [
    "from sklearn.feature_selection import SelectKBest\n",
    "from sklearn.feature_selection import mutual_info_classif"
   ]
  },
  {
   "cell_type": "code",
   "execution_count": 192,
   "id": "34315fd6",
   "metadata": {},
   "outputs": [],
   "source": [
    "# TOP 10 IMPORTANT FEATURES\n",
    "top_ten_features = SelectKBest(score_func=mutual_info_classif,k=10)\n",
    "fit = top_ten_features.fit(X_train,y_train)"
   ]
  },
  {
   "cell_type": "code",
   "execution_count": 193,
   "id": "50d47534",
   "metadata": {},
   "outputs": [],
   "source": [
    "dfscores = pd.DataFrame(fit.scores_)\n",
    "dfcolumns = pd.DataFrame(X_train.columns)"
   ]
  },
  {
   "cell_type": "code",
   "execution_count": 194,
   "id": "5e5503e5",
   "metadata": {},
   "outputs": [],
   "source": [
    "# concat two dataframes for better visualization\n",
    "featureScores = pd.concat([dfcolumns,dfscores],axis=1)\n",
    "\n",
    "# naming the dataframe columns\n",
    "featureScores.columns = ['Feature','Score']\n",
    "featureScores_index = X_train.columns"
   ]
  },
  {
   "cell_type": "code",
   "execution_count": 195,
   "id": "05c075e0",
   "metadata": {},
   "outputs": [
    {
     "name": "stdout",
     "output_type": "stream",
     "text": [
      "        Feature     Score\n",
      "15    SEM1 CGPA  0.367338\n",
      "18    SEM1 CHEM  0.323158\n",
      "17     SEM1 PHY  0.261713\n",
      "19     SEM1 BIO  0.254314\n",
      "16    SEM1 MATH  0.254065\n",
      "13     SPM CHEM  0.108317\n",
      "11  SPM ADDMATH  0.072110\n",
      "12      SPM PHY  0.061578\n",
      "14      SPM BIO  0.046132\n",
      "6         STATE  0.034476\n"
     ]
    }
   ],
   "source": [
    "# print 10 best features\n",
    "print(featureScores.nlargest(10,'Score'))"
   ]
  },
  {
   "cell_type": "code",
   "execution_count": 196,
   "id": "aacf1348",
   "metadata": {},
   "outputs": [
    {
     "data": {
      "text/plain": [
       "<AxesSubplot:>"
      ]
     },
     "execution_count": 196,
     "metadata": {},
     "output_type": "execute_result"
    },
    {
     "data": {
      "image/png": "[encoded data removed]",
      "text/plain": [
       "<Figure size 1440x576 with 1 Axes>"
      ]
     },
     "metadata": {
      "needs_background": "light"
     },
     "output_type": "display_data"
    }
   ],
   "source": [
    "featureScores.index = X_train.columns\n",
    "featureScores.nlargest(10,'Score').plot.barh(figsize=(20,8))"
   ]
  },
  {
   "cell_type": "markdown",
   "id": "17cb84a0",
   "metadata": {},
   "source": [
    "# 3. FEATURE SELECTION : CHI SQUARED TEST"
   ]
  },
  {
   "cell_type": "code",
   "execution_count": 197,
   "id": "8e051914",
   "metadata": {},
   "outputs": [
    {
     "data": {
      "text/plain": [
       "(array([1.35328808e+01, 3.40963050e+00, 3.83131759e+00, 1.10416294e+01,\n",
       "        6.35196101e+00, 5.99541669e+00, 8.06047634e+01, 1.60151403e+00,\n",
       "        1.06526165e+01, 5.85868584e-01, 5.43850554e+00, 7.75300712e+01,\n",
       "        5.52544091e+01, 8.24438104e+01, 6.13181720e+01, 4.52524532e+02,\n",
       "        4.64075535e+02, 5.59301238e+02, 6.99295313e+02, 4.80074157e+02]),\n",
       " array([3.61512630e-003, 3.32673258e-001, 2.80264324e-001, 1.15028861e-002,\n",
       "        9.56872372e-002, 1.11833426e-001, 2.27671947e-017, 6.59046572e-001,\n",
       "        1.37605585e-002, 8.99659680e-001, 1.42363282e-001, 1.03927662e-016,\n",
       "        6.05951544e-012, 9.17800365e-018, 3.07312192e-013, 9.25260803e-098,\n",
       "        2.90700083e-100, 6.69601987e-121, 2.98429882e-151, 9.92470145e-104]))"
      ]
     },
     "execution_count": 197,
     "metadata": {},
     "output_type": "execute_result"
    }
   ],
   "source": [
    "## PERFORM CHI2 TEST\n",
    "from sklearn.feature_selection import chi2\n",
    "f_p_values = chi2(X_train,y_train)\n",
    "f_p_values\n",
    "## CHI2 RETURNS TWO VALUES : FSCORE & P-VALUE"
   ]
  },
  {
   "cell_type": "code",
   "execution_count": 198,
   "id": "5bdfa32f",
   "metadata": {},
   "outputs": [
    {
     "data": {
      "text/plain": [
       "Index(['LEARNING STYLE', 'PROGRAM', 'YEAR', 'RACE', 'GENDER', 'RELIGION',\n",
       "       'STATE', 'REGION', 'INCOME', 'DEPENDENTS', 'SCHOOL', 'SPM ADDMATH',\n",
       "       'SPM PHY', 'SPM CHEM', 'SPM BIO', 'SEM1 CGPA', 'SEM1 MATH', 'SEM1 PHY',\n",
       "       'SEM1 CHEM', 'SEM1 BIO'],\n",
       "      dtype='object')"
      ]
     },
     "execution_count": 198,
     "metadata": {},
     "output_type": "execute_result"
    }
   ],
   "source": [
    "X_train.columns"
   ]
  },
  {
   "cell_type": "code",
   "execution_count": 199,
   "id": "9e5bb081",
   "metadata": {},
   "outputs": [
    {
     "data": {
      "text/plain": [
       "LEARNING STYLE     3.615126e-03\n",
       "PROGRAM            3.326733e-01\n",
       "YEAR               2.802643e-01\n",
       "RACE               1.150289e-02\n",
       "GENDER             9.568724e-02\n",
       "RELIGION           1.118334e-01\n",
       "STATE              2.276719e-17\n",
       "REGION             6.590466e-01\n",
       "INCOME             1.376056e-02\n",
       "DEPENDENTS         8.996597e-01\n",
       "SCHOOL             1.423633e-01\n",
       "SPM ADDMATH        1.039277e-16\n",
       "SPM PHY            6.059515e-12\n",
       "SPM CHEM           9.178004e-18\n",
       "SPM BIO            3.073122e-13\n",
       "SEM1 CGPA          9.252608e-98\n",
       "SEM1 MATH         2.907001e-100\n",
       "SEM1 PHY          6.696020e-121\n",
       "SEM1 CHEM         2.984299e-151\n",
       "SEM1 BIO          9.924701e-104\n",
       "dtype: float64"
      ]
     },
     "execution_count": 199,
     "metadata": {},
     "output_type": "execute_result"
    }
   ],
   "source": [
    "p_values = pd.Series(f_p_values[1])\n",
    "p_values.index = X_train.columns\n",
    "p_values"
   ]
  },
  {
   "cell_type": "code",
   "execution_count": 200,
   "id": "9c6b7adc",
   "metadata": {},
   "outputs": [
    {
     "data": {
      "text/plain": [
       "SEM1 CHEM         2.984299e-151\n",
       "SEM1 PHY          6.696020e-121\n",
       "SEM1 BIO          9.924701e-104\n",
       "SEM1 MATH         2.907001e-100\n",
       "SEM1 CGPA          9.252608e-98\n",
       "SPM CHEM           9.178004e-18\n",
       "STATE              2.276719e-17\n",
       "SPM ADDMATH        1.039277e-16\n",
       "SPM BIO            3.073122e-13\n",
       "SPM PHY            6.059515e-12\n",
       "LEARNING STYLE     3.615126e-03\n",
       "RACE               1.150289e-02\n",
       "INCOME             1.376056e-02\n",
       "GENDER             9.568724e-02\n",
       "RELIGION           1.118334e-01\n",
       "SCHOOL             1.423633e-01\n",
       "YEAR               2.802643e-01\n",
       "PROGRAM            3.326733e-01\n",
       "REGION             6.590466e-01\n",
       "DEPENDENTS         8.996597e-01\n",
       "dtype: float64"
      ]
     },
     "execution_count": 200,
     "metadata": {},
     "output_type": "execute_result"
    }
   ],
   "source": [
    "p_values.sort_values(ascending=True)"
   ]
  },
  {
   "cell_type": "code",
   "execution_count": 201,
   "id": "ef3409db",
   "metadata": {},
   "outputs": [
    {
     "data": {
      "text/plain": [
       "<AxesSubplot:>"
      ]
     },
     "execution_count": 201,
     "metadata": {},
     "output_type": "execute_result"
    },
    {
     "data": {
      "image/png": "[encoded data removed]",
      "text/plain": [
       "<Figure size 1440x576 with 1 Axes>"
      ]
     },
     "metadata": {
      "needs_background": "light"
     },
     "output_type": "display_data"
    }
   ],
   "source": [
    "p_values.sort_values(ascending=True).plot.barh(figsize=(20,8))"
   ]
  },
  {
   "cell_type": "code",
   "execution_count": 202,
   "id": "6f0f3c65",
   "metadata": {},
   "outputs": [],
   "source": [
    "## OBSERVATION\n",
    "# SEM1 CHEM IS THE MOST IMPORTANT COLUMN (SMALLEST P-VALUE) WHEN COMPARED TO THE OUTPUT FEATURE (TARGET) SEM2 CGPA"
   ]
  },
  {
   "cell_type": "markdown",
   "id": "ef882e1a",
   "metadata": {},
   "source": [
    "# 4. FEATURE SELECTION : SELECTKBEST (CHI SQUARED)"
   ]
  },
  {
   "cell_type": "code",
   "execution_count": 203,
   "id": "a443bc32",
   "metadata": {},
   "outputs": [],
   "source": [
    "# TOP 10 IMPORTANT FEATURES\n",
    "top_ten_features = SelectKBest(score_func=chi2,k=10)\n",
    "fit = top_ten_features.fit(X_train,y_train)"
   ]
  },
  {
   "cell_type": "code",
   "execution_count": 204,
   "id": "832cd7a6",
   "metadata": {},
   "outputs": [],
   "source": [
    "from sklearn.feature_selection import SelectKBest\n",
    "from sklearn.feature_selection import chi2"
   ]
  },
  {
   "cell_type": "code",
   "execution_count": 205,
   "id": "2c1f1291",
   "metadata": {},
   "outputs": [],
   "source": [
    "# TOP 10 IMPORTANT FEATURES\n",
    "top_ten_features = SelectKBest(score_func=chi2,k=10)\n",
    "fit = top_ten_features.fit(X_train,y_train)"
   ]
  },
  {
   "cell_type": "code",
   "execution_count": 206,
   "id": "e832f74b",
   "metadata": {},
   "outputs": [],
   "source": [
    "dfscores = pd.DataFrame(fit.scores_)\n",
    "dfcolumns = pd.DataFrame(X_train.columns)"
   ]
  },
  {
   "cell_type": "code",
   "execution_count": 207,
   "id": "1e038edc",
   "metadata": {},
   "outputs": [],
   "source": [
    "# concat two dataframes for better visualization\n",
    "featureScores = pd.concat([dfcolumns,dfscores],axis=1)\n",
    "# naming the dataframe columns\n",
    "featureScores.columns = ['Feature','Score']\n",
    "featureScores_index = X_train.columns"
   ]
  },
  {
   "cell_type": "code",
   "execution_count": 208,
   "id": "441978db",
   "metadata": {},
   "outputs": [
    {
     "name": "stdout",
     "output_type": "stream",
     "text": [
      "        Feature       Score\n",
      "18    SEM1 CHEM  699.295313\n",
      "17     SEM1 PHY  559.301238\n",
      "19     SEM1 BIO  480.074157\n",
      "16    SEM1 MATH  464.075535\n",
      "15    SEM1 CGPA  452.524532\n",
      "13     SPM CHEM   82.443810\n",
      "6         STATE   80.604763\n",
      "11  SPM ADDMATH   77.530071\n",
      "14      SPM BIO   61.318172\n",
      "12      SPM PHY   55.254409\n"
     ]
    }
   ],
   "source": [
    "# print 10 best features\n",
    "print(featureScores.nlargest(10,'Score'))"
   ]
  },
  {
   "cell_type": "code",
   "execution_count": 209,
   "id": "e24ddb35",
   "metadata": {},
   "outputs": [
    {
     "data": {
      "text/plain": [
       "<AxesSubplot:>"
      ]
     },
     "execution_count": 209,
     "metadata": {},
     "output_type": "execute_result"
    },
    {
     "data": {
      "image/png": "[encoded data removed]",
      "text/plain": [
       "<Figure size 1440x576 with 1 Axes>"
      ]
     },
     "metadata": {
      "needs_background": "light"
     },
     "output_type": "display_data"
    }
   ],
   "source": [
    "featureScores.index = X_train.columns\n",
    "featureScores.nlargest(10,'Score').plot.barh(figsize=(20,8))"
   ]
  },
  {
   "cell_type": "markdown",
   "id": "a4ebd073",
   "metadata": {},
   "source": [
    "# 5. FEATURE SELECTION : FEATURE IMPORTANCE"
   ]
  },
  {
   "cell_type": "code",
   "execution_count": 210,
   "id": "d0da0cdb",
   "metadata": {},
   "outputs": [
    {
     "data": {
      "text/plain": [
       "ExtraTreesClassifier()"
      ]
     },
     "execution_count": 210,
     "metadata": {},
     "output_type": "execute_result"
    }
   ],
   "source": [
    "from sklearn.ensemble import ExtraTreesClassifier\n",
    "import matplotlib.pyplot as plt\n",
    "model = ExtraTreesClassifier()\n",
    "model.fit(X_train,y_train)"
   ]
  },
  {
   "cell_type": "code",
   "execution_count": 211,
   "id": "f07d8b76",
   "metadata": {},
   "outputs": [
    {
     "name": "stdout",
     "output_type": "stream",
     "text": [
      "[0.02299145 0.01283174 0.01864859 0.00583879 0.02065646 0.00702342\n",
      " 0.02547391 0.02637604 0.03761679 0.03941178 0.03099015 0.03946696\n",
      " 0.03937706 0.04307234 0.0368107  0.15647198 0.09905781 0.10671389\n",
      " 0.12499896 0.10617119]\n"
     ]
    }
   ],
   "source": [
    "print(model.feature_importances_)"
   ]
  },
  {
   "cell_type": "code",
   "execution_count": 212,
   "id": "8e590b84",
   "metadata": {},
   "outputs": [
    {
     "data": {
      "text/plain": [
       "<function matplotlib.pyplot.show(close=None, block=None)>"
      ]
     },
     "execution_count": 212,
     "metadata": {},
     "output_type": "execute_result"
    },
    {
     "data": {
      "image/png": "[encoded data removed]",
      "text/plain": [
       "<Figure size 432x288 with 1 Axes>"
      ]
     },
     "metadata": {
      "needs_background": "light"
     },
     "output_type": "display_data"
    }
   ],
   "source": [
    "feature_importances = pd.Series(model.feature_importances_, index=X_train.columns)\n",
    "feature_importances.nlargest(10).plot(kind='barh')\n",
    "plt.show"
   ]
  },
  {
   "cell_type": "markdown",
   "id": "3fe2f7a2",
   "metadata": {},
   "source": [
    "# 6. FEATURE SELECTION : SELECTKBEST (F-SCORE)"
   ]
  },
  {
   "cell_type": "code",
   "execution_count": 213,
   "id": "fa16e8fd",
   "metadata": {},
   "outputs": [],
   "source": [
    "from sklearn.feature_selection import SelectKBest\n",
    "from sklearn.feature_selection import f_classif"
   ]
  },
  {
   "cell_type": "code",
   "execution_count": 214,
   "id": "36d7995d",
   "metadata": {},
   "outputs": [],
   "source": [
    "selector = SelectKBest(score_func = f_classif, k=20)\n",
    "\n",
    "# New dataframe with the selected features for later use in the classifier. \n",
    "# fit() method works too, if you want only the feature names and their corresponding scores.\n",
    "\n",
    "X_new = selector.fit_transform(X_train,y_train)\n",
    "names = X_train.columns.values[selector.get_support()]\n",
    "scores = selector.scores_[selector.get_support()]\n",
    "names_scores = list(zip(names,scores))\n",
    "ns_df = pd.DataFrame(data = names_scores,columns=['Feature','F_Score'])\n",
    "\n",
    "# Sort for better visualization\n",
    "ns_df_sorted= ns_df.sort_values(['F_Score','Feature'],ascending=[False,True])"
   ]
  },
  {
   "cell_type": "code",
   "execution_count": 215,
   "id": "05500046",
   "metadata": {},
   "outputs": [
    {
     "data": {
      "text/plain": [
       "array(['LEARNING STYLE', 'PROGRAM', 'YEAR', 'RACE', 'GENDER', 'RELIGION',\n",
       "       'STATE', 'REGION', 'INCOME', 'DEPENDENTS', 'SCHOOL', 'SPM ADDMATH',\n",
       "       'SPM PHY', 'SPM CHEM', 'SPM BIO', 'SEM1 CGPA', 'SEM1 MATH',\n",
       "       'SEM1 PHY', 'SEM1 CHEM', 'SEM1 BIO'], dtype=object)"
      ]
     },
     "execution_count": 215,
     "metadata": {},
     "output_type": "execute_result"
    }
   ],
   "source": [
    "names = X_train.columns.values[selector.get_support()]\n",
    "names"
   ]
  },
  {
   "cell_type": "code",
   "execution_count": 216,
   "id": "7205ce52",
   "metadata": {},
   "outputs": [
    {
     "data": {
      "text/plain": [
       "array([ True,  True,  True,  True,  True,  True,  True,  True,  True,\n",
       "        True,  True,  True,  True,  True,  True,  True,  True,  True,\n",
       "        True,  True])"
      ]
     },
     "execution_count": 216,
     "metadata": {},
     "output_type": "execute_result"
    }
   ],
   "source": [
    "selector.get_support()"
   ]
  },
  {
   "cell_type": "code",
   "execution_count": 217,
   "id": "e5817b08",
   "metadata": {},
   "outputs": [
    {
     "data": {
      "text/plain": [
       "array([7.36111752e+00, 2.39161377e+00, 8.51662428e+00, 1.44012966e+01,\n",
       "       8.68446144e+00, 1.04362649e+01, 6.55780293e+00, 9.60234359e-01,\n",
       "       1.94827861e+00, 3.25795212e-01, 1.48625390e+00, 2.14413425e+01,\n",
       "       2.54908883e+01, 2.50066861e+01, 2.63324541e+01, 4.25585759e+02,\n",
       "       2.14523755e+02, 2.36708041e+02, 2.91971906e+02, 1.87754975e+02])"
      ]
     },
     "execution_count": 217,
     "metadata": {},
     "output_type": "execute_result"
    }
   ],
   "source": [
    "scores = selector.scores_[selector.get_support()]\n",
    "scores"
   ]
  },
  {
   "cell_type": "code",
   "execution_count": 218,
   "id": "b44f6870",
   "metadata": {
    "scrolled": true
   },
   "outputs": [
    {
     "data": {
      "text/plain": [
       "[('LEARNING STYLE', 7.36111751574915),\n",
       " ('PROGRAM', 2.391613772497956),\n",
       " ('YEAR', 8.516624280524015),\n",
       " ('RACE', 14.401296613465645),\n",
       " ('GENDER', 8.684461438780998),\n",
       " ('RELIGION', 10.436264895346074),\n",
       " ('STATE', 6.557802932433374),\n",
       " ('REGION', 0.960234358666553),\n",
       " ('INCOME', 1.9482786078035716),\n",
       " ('DEPENDENTS', 0.3257952122364353),\n",
       " ('SCHOOL', 1.4862539020914556),\n",
       " ('SPM ADDMATH', 21.441342528265544),\n",
       " ('SPM PHY', 25.490888300460377),\n",
       " ('SPM CHEM', 25.00668610478887),\n",
       " ('SPM BIO', 26.332454084655943),\n",
       " ('SEM1 CGPA', 425.5857594933635),\n",
       " ('SEM1 MATH', 214.5237553612052),\n",
       " ('SEM1 PHY', 236.7080406469663),\n",
       " ('SEM1 CHEM', 291.9719057799938),\n",
       " ('SEM1 BIO', 187.75497484527398)]"
      ]
     },
     "execution_count": 218,
     "metadata": {},
     "output_type": "execute_result"
    }
   ],
   "source": [
    "names_scores = list(zip(names,scores))\n",
    "names_scores"
   ]
  },
  {
   "cell_type": "code",
   "execution_count": 219,
   "id": "e6e551c5",
   "metadata": {},
   "outputs": [
    {
     "data": {
      "text/html": [
       "<div>\n",
       "<style scoped>\n",
       "    .dataframe tbody tr th:only-of-type {\n",
       "        vertical-align: middle;\n",
       "    }\n",
       "\n",
       "    .dataframe tbody tr th {\n",
       "        vertical-align: top;\n",
       "    }\n",
       "\n",
       "    .dataframe thead th {\n",
       "        text-align: right;\n",
       "    }\n",
       "</style>\n",
       "<table border=\"1\" class=\"dataframe\">\n",
       "  <thead>\n",
       "    <tr style=\"text-align: right;\">\n",
       "      <th></th>\n",
       "      <th>Feature</th>\n",
       "      <th>F_Score</th>\n",
       "    </tr>\n",
       "  </thead>\n",
       "  <tbody>\n",
       "    <tr>\n",
       "      <th>0</th>\n",
       "      <td>LEARNING STYLE</td>\n",
       "      <td>7.361118</td>\n",
       "    </tr>\n",
       "    <tr>\n",
       "      <th>1</th>\n",
       "      <td>PROGRAM</td>\n",
       "      <td>2.391614</td>\n",
       "    </tr>\n",
       "    <tr>\n",
       "      <th>2</th>\n",
       "      <td>YEAR</td>\n",
       "      <td>8.516624</td>\n",
       "    </tr>\n",
       "    <tr>\n",
       "      <th>3</th>\n",
       "      <td>RACE</td>\n",
       "      <td>14.401297</td>\n",
       "    </tr>\n",
       "    <tr>\n",
       "      <th>4</th>\n",
       "      <td>GENDER</td>\n",
       "      <td>8.684461</td>\n",
       "    </tr>\n",
       "    <tr>\n",
       "      <th>5</th>\n",
       "      <td>RELIGION</td>\n",
       "      <td>10.436265</td>\n",
       "    </tr>\n",
       "    <tr>\n",
       "      <th>6</th>\n",
       "      <td>STATE</td>\n",
       "      <td>6.557803</td>\n",
       "    </tr>\n",
       "    <tr>\n",
       "      <th>7</th>\n",
       "      <td>REGION</td>\n",
       "      <td>0.960234</td>\n",
       "    </tr>\n",
       "    <tr>\n",
       "      <th>8</th>\n",
       "      <td>INCOME</td>\n",
       "      <td>1.948279</td>\n",
       "    </tr>\n",
       "    <tr>\n",
       "      <th>9</th>\n",
       "      <td>DEPENDENTS</td>\n",
       "      <td>0.325795</td>\n",
       "    </tr>\n",
       "    <tr>\n",
       "      <th>10</th>\n",
       "      <td>SCHOOL</td>\n",
       "      <td>1.486254</td>\n",
       "    </tr>\n",
       "    <tr>\n",
       "      <th>11</th>\n",
       "      <td>SPM ADDMATH</td>\n",
       "      <td>21.441343</td>\n",
       "    </tr>\n",
       "    <tr>\n",
       "      <th>12</th>\n",
       "      <td>SPM PHY</td>\n",
       "      <td>25.490888</td>\n",
       "    </tr>\n",
       "    <tr>\n",
       "      <th>13</th>\n",
       "      <td>SPM CHEM</td>\n",
       "      <td>25.006686</td>\n",
       "    </tr>\n",
       "    <tr>\n",
       "      <th>14</th>\n",
       "      <td>SPM BIO</td>\n",
       "      <td>26.332454</td>\n",
       "    </tr>\n",
       "    <tr>\n",
       "      <th>15</th>\n",
       "      <td>SEM1 CGPA</td>\n",
       "      <td>425.585759</td>\n",
       "    </tr>\n",
       "    <tr>\n",
       "      <th>16</th>\n",
       "      <td>SEM1 MATH</td>\n",
       "      <td>214.523755</td>\n",
       "    </tr>\n",
       "    <tr>\n",
       "      <th>17</th>\n",
       "      <td>SEM1 PHY</td>\n",
       "      <td>236.708041</td>\n",
       "    </tr>\n",
       "    <tr>\n",
       "      <th>18</th>\n",
       "      <td>SEM1 CHEM</td>\n",
       "      <td>291.971906</td>\n",
       "    </tr>\n",
       "    <tr>\n",
       "      <th>19</th>\n",
       "      <td>SEM1 BIO</td>\n",
       "      <td>187.754975</td>\n",
       "    </tr>\n",
       "  </tbody>\n",
       "</table>\n",
       "</div>"
      ],
      "text/plain": [
       "           Feature     F_Score\n",
       "0   LEARNING STYLE    7.361118\n",
       "1          PROGRAM    2.391614\n",
       "2             YEAR    8.516624\n",
       "3             RACE   14.401297\n",
       "4           GENDER    8.684461\n",
       "5         RELIGION   10.436265\n",
       "6            STATE    6.557803\n",
       "7           REGION    0.960234\n",
       "8           INCOME    1.948279\n",
       "9       DEPENDENTS    0.325795\n",
       "10          SCHOOL    1.486254\n",
       "11     SPM ADDMATH   21.441343\n",
       "12         SPM PHY   25.490888\n",
       "13        SPM CHEM   25.006686\n",
       "14         SPM BIO   26.332454\n",
       "15       SEM1 CGPA  425.585759\n",
       "16       SEM1 MATH  214.523755\n",
       "17        SEM1 PHY  236.708041\n",
       "18       SEM1 CHEM  291.971906\n",
       "19        SEM1 BIO  187.754975"
      ]
     },
     "execution_count": 219,
     "metadata": {},
     "output_type": "execute_result"
    }
   ],
   "source": [
    "ns_df = pd.DataFrame(data = names_scores,columns=['Feature','F_Score'])\n",
    "ns_df"
   ]
  },
  {
   "cell_type": "code",
   "execution_count": 220,
   "id": "d7ac6771",
   "metadata": {},
   "outputs": [
    {
     "data": {
      "text/html": [
       "<div>\n",
       "<style scoped>\n",
       "    .dataframe tbody tr th:only-of-type {\n",
       "        vertical-align: middle;\n",
       "    }\n",
       "\n",
       "    .dataframe tbody tr th {\n",
       "        vertical-align: top;\n",
       "    }\n",
       "\n",
       "    .dataframe thead th {\n",
       "        text-align: right;\n",
       "    }\n",
       "</style>\n",
       "<table border=\"1\" class=\"dataframe\">\n",
       "  <thead>\n",
       "    <tr style=\"text-align: right;\">\n",
       "      <th></th>\n",
       "      <th>Feature</th>\n",
       "      <th>F_Score</th>\n",
       "    </tr>\n",
       "  </thead>\n",
       "  <tbody>\n",
       "    <tr>\n",
       "      <th>LEARNING STYLE</th>\n",
       "      <td>LEARNING STYLE</td>\n",
       "      <td>7.361118</td>\n",
       "    </tr>\n",
       "    <tr>\n",
       "      <th>PROGRAM</th>\n",
       "      <td>PROGRAM</td>\n",
       "      <td>2.391614</td>\n",
       "    </tr>\n",
       "    <tr>\n",
       "      <th>YEAR</th>\n",
       "      <td>YEAR</td>\n",
       "      <td>8.516624</td>\n",
       "    </tr>\n",
       "    <tr>\n",
       "      <th>RACE</th>\n",
       "      <td>RACE</td>\n",
       "      <td>14.401297</td>\n",
       "    </tr>\n",
       "    <tr>\n",
       "      <th>GENDER</th>\n",
       "      <td>GENDER</td>\n",
       "      <td>8.684461</td>\n",
       "    </tr>\n",
       "    <tr>\n",
       "      <th>RELIGION</th>\n",
       "      <td>RELIGION</td>\n",
       "      <td>10.436265</td>\n",
       "    </tr>\n",
       "    <tr>\n",
       "      <th>STATE</th>\n",
       "      <td>STATE</td>\n",
       "      <td>6.557803</td>\n",
       "    </tr>\n",
       "    <tr>\n",
       "      <th>REGION</th>\n",
       "      <td>REGION</td>\n",
       "      <td>0.960234</td>\n",
       "    </tr>\n",
       "    <tr>\n",
       "      <th>INCOME</th>\n",
       "      <td>INCOME</td>\n",
       "      <td>1.948279</td>\n",
       "    </tr>\n",
       "    <tr>\n",
       "      <th>DEPENDENTS</th>\n",
       "      <td>DEPENDENTS</td>\n",
       "      <td>0.325795</td>\n",
       "    </tr>\n",
       "    <tr>\n",
       "      <th>SCHOOL</th>\n",
       "      <td>SCHOOL</td>\n",
       "      <td>1.486254</td>\n",
       "    </tr>\n",
       "    <tr>\n",
       "      <th>SPM ADDMATH</th>\n",
       "      <td>SPM ADDMATH</td>\n",
       "      <td>21.441343</td>\n",
       "    </tr>\n",
       "    <tr>\n",
       "      <th>SPM PHY</th>\n",
       "      <td>SPM PHY</td>\n",
       "      <td>25.490888</td>\n",
       "    </tr>\n",
       "    <tr>\n",
       "      <th>SPM CHEM</th>\n",
       "      <td>SPM CHEM</td>\n",
       "      <td>25.006686</td>\n",
       "    </tr>\n",
       "    <tr>\n",
       "      <th>SPM BIO</th>\n",
       "      <td>SPM BIO</td>\n",
       "      <td>26.332454</td>\n",
       "    </tr>\n",
       "    <tr>\n",
       "      <th>SEM1 CGPA</th>\n",
       "      <td>SEM1 CGPA</td>\n",
       "      <td>425.585759</td>\n",
       "    </tr>\n",
       "    <tr>\n",
       "      <th>SEM1 MATH</th>\n",
       "      <td>SEM1 MATH</td>\n",
       "      <td>214.523755</td>\n",
       "    </tr>\n",
       "    <tr>\n",
       "      <th>SEM1 PHY</th>\n",
       "      <td>SEM1 PHY</td>\n",
       "      <td>236.708041</td>\n",
       "    </tr>\n",
       "    <tr>\n",
       "      <th>SEM1 CHEM</th>\n",
       "      <td>SEM1 CHEM</td>\n",
       "      <td>291.971906</td>\n",
       "    </tr>\n",
       "    <tr>\n",
       "      <th>SEM1 BIO</th>\n",
       "      <td>SEM1 BIO</td>\n",
       "      <td>187.754975</td>\n",
       "    </tr>\n",
       "  </tbody>\n",
       "</table>\n",
       "</div>"
      ],
      "text/plain": [
       "                       Feature     F_Score\n",
       "LEARNING STYLE  LEARNING STYLE    7.361118\n",
       "PROGRAM                PROGRAM    2.391614\n",
       "YEAR                      YEAR    8.516624\n",
       "RACE                      RACE   14.401297\n",
       "GENDER                  GENDER    8.684461\n",
       "RELIGION              RELIGION   10.436265\n",
       "STATE                    STATE    6.557803\n",
       "REGION                  REGION    0.960234\n",
       "INCOME                  INCOME    1.948279\n",
       "DEPENDENTS          DEPENDENTS    0.325795\n",
       "SCHOOL                  SCHOOL    1.486254\n",
       "SPM ADDMATH        SPM ADDMATH   21.441343\n",
       "SPM PHY                SPM PHY   25.490888\n",
       "SPM CHEM              SPM CHEM   25.006686\n",
       "SPM BIO                SPM BIO   26.332454\n",
       "SEM1 CGPA            SEM1 CGPA  425.585759\n",
       "SEM1 MATH            SEM1 MATH  214.523755\n",
       "SEM1 PHY              SEM1 PHY  236.708041\n",
       "SEM1 CHEM            SEM1 CHEM  291.971906\n",
       "SEM1 BIO              SEM1 BIO  187.754975"
      ]
     },
     "execution_count": 220,
     "metadata": {},
     "output_type": "execute_result"
    }
   ],
   "source": [
    "ns_df = pd.DataFrame(data = names_scores,columns=['Feature','F_Score'])\n",
    "ns_df.index = X_train.columns\n",
    "ns_df"
   ]
  },
  {
   "cell_type": "code",
   "execution_count": 221,
   "id": "73e6b5f0",
   "metadata": {},
   "outputs": [
    {
     "data": {
      "text/html": [
       "<div>\n",
       "<style scoped>\n",
       "    .dataframe tbody tr th:only-of-type {\n",
       "        vertical-align: middle;\n",
       "    }\n",
       "\n",
       "    .dataframe tbody tr th {\n",
       "        vertical-align: top;\n",
       "    }\n",
       "\n",
       "    .dataframe thead th {\n",
       "        text-align: right;\n",
       "    }\n",
       "</style>\n",
       "<table border=\"1\" class=\"dataframe\">\n",
       "  <thead>\n",
       "    <tr style=\"text-align: right;\">\n",
       "      <th></th>\n",
       "      <th>Feature</th>\n",
       "      <th>F_Score</th>\n",
       "    </tr>\n",
       "  </thead>\n",
       "  <tbody>\n",
       "    <tr>\n",
       "      <th>SEM1 CGPA</th>\n",
       "      <td>SEM1 CGPA</td>\n",
       "      <td>425.585759</td>\n",
       "    </tr>\n",
       "    <tr>\n",
       "      <th>SEM1 CHEM</th>\n",
       "      <td>SEM1 CHEM</td>\n",
       "      <td>291.971906</td>\n",
       "    </tr>\n",
       "    <tr>\n",
       "      <th>SEM1 PHY</th>\n",
       "      <td>SEM1 PHY</td>\n",
       "      <td>236.708041</td>\n",
       "    </tr>\n",
       "    <tr>\n",
       "      <th>SEM1 MATH</th>\n",
       "      <td>SEM1 MATH</td>\n",
       "      <td>214.523755</td>\n",
       "    </tr>\n",
       "    <tr>\n",
       "      <th>SEM1 BIO</th>\n",
       "      <td>SEM1 BIO</td>\n",
       "      <td>187.754975</td>\n",
       "    </tr>\n",
       "    <tr>\n",
       "      <th>SPM BIO</th>\n",
       "      <td>SPM BIO</td>\n",
       "      <td>26.332454</td>\n",
       "    </tr>\n",
       "    <tr>\n",
       "      <th>SPM PHY</th>\n",
       "      <td>SPM PHY</td>\n",
       "      <td>25.490888</td>\n",
       "    </tr>\n",
       "    <tr>\n",
       "      <th>SPM CHEM</th>\n",
       "      <td>SPM CHEM</td>\n",
       "      <td>25.006686</td>\n",
       "    </tr>\n",
       "    <tr>\n",
       "      <th>SPM ADDMATH</th>\n",
       "      <td>SPM ADDMATH</td>\n",
       "      <td>21.441343</td>\n",
       "    </tr>\n",
       "    <tr>\n",
       "      <th>RACE</th>\n",
       "      <td>RACE</td>\n",
       "      <td>14.401297</td>\n",
       "    </tr>\n",
       "    <tr>\n",
       "      <th>RELIGION</th>\n",
       "      <td>RELIGION</td>\n",
       "      <td>10.436265</td>\n",
       "    </tr>\n",
       "    <tr>\n",
       "      <th>GENDER</th>\n",
       "      <td>GENDER</td>\n",
       "      <td>8.684461</td>\n",
       "    </tr>\n",
       "    <tr>\n",
       "      <th>YEAR</th>\n",
       "      <td>YEAR</td>\n",
       "      <td>8.516624</td>\n",
       "    </tr>\n",
       "    <tr>\n",
       "      <th>LEARNING STYLE</th>\n",
       "      <td>LEARNING STYLE</td>\n",
       "      <td>7.361118</td>\n",
       "    </tr>\n",
       "    <tr>\n",
       "      <th>STATE</th>\n",
       "      <td>STATE</td>\n",
       "      <td>6.557803</td>\n",
       "    </tr>\n",
       "    <tr>\n",
       "      <th>PROGRAM</th>\n",
       "      <td>PROGRAM</td>\n",
       "      <td>2.391614</td>\n",
       "    </tr>\n",
       "    <tr>\n",
       "      <th>INCOME</th>\n",
       "      <td>INCOME</td>\n",
       "      <td>1.948279</td>\n",
       "    </tr>\n",
       "    <tr>\n",
       "      <th>SCHOOL</th>\n",
       "      <td>SCHOOL</td>\n",
       "      <td>1.486254</td>\n",
       "    </tr>\n",
       "    <tr>\n",
       "      <th>REGION</th>\n",
       "      <td>REGION</td>\n",
       "      <td>0.960234</td>\n",
       "    </tr>\n",
       "    <tr>\n",
       "      <th>DEPENDENTS</th>\n",
       "      <td>DEPENDENTS</td>\n",
       "      <td>0.325795</td>\n",
       "    </tr>\n",
       "  </tbody>\n",
       "</table>\n",
       "</div>"
      ],
      "text/plain": [
       "                       Feature     F_Score\n",
       "SEM1 CGPA            SEM1 CGPA  425.585759\n",
       "SEM1 CHEM            SEM1 CHEM  291.971906\n",
       "SEM1 PHY              SEM1 PHY  236.708041\n",
       "SEM1 MATH            SEM1 MATH  214.523755\n",
       "SEM1 BIO              SEM1 BIO  187.754975\n",
       "SPM BIO                SPM BIO   26.332454\n",
       "SPM PHY                SPM PHY   25.490888\n",
       "SPM CHEM              SPM CHEM   25.006686\n",
       "SPM ADDMATH        SPM ADDMATH   21.441343\n",
       "RACE                      RACE   14.401297\n",
       "RELIGION              RELIGION   10.436265\n",
       "GENDER                  GENDER    8.684461\n",
       "YEAR                      YEAR    8.516624\n",
       "LEARNING STYLE  LEARNING STYLE    7.361118\n",
       "STATE                    STATE    6.557803\n",
       "PROGRAM                PROGRAM    2.391614\n",
       "INCOME                  INCOME    1.948279\n",
       "SCHOOL                  SCHOOL    1.486254\n",
       "REGION                  REGION    0.960234\n",
       "DEPENDENTS          DEPENDENTS    0.325795"
      ]
     },
     "execution_count": 221,
     "metadata": {},
     "output_type": "execute_result"
    }
   ],
   "source": [
    "ns_df_sorted= ns_df.sort_values(['F_Score'],ascending=[False])\n",
    "ns_df_sorted"
   ]
  },
  {
   "cell_type": "code",
   "execution_count": 222,
   "id": "efe053e0",
   "metadata": {},
   "outputs": [
    {
     "data": {
      "text/plain": [
       "<AxesSubplot:>"
      ]
     },
     "execution_count": 222,
     "metadata": {},
     "output_type": "execute_result"
    },
    {
     "data": {
      "image/png": "[encoded data removed]",
      "text/plain": [
       "<Figure size 1440x576 with 1 Axes>"
      ]
     },
     "metadata": {
      "needs_background": "light"
     },
     "output_type": "display_data"
    }
   ],
   "source": [
    "ns_df_sorted.plot.barh(figsize=(20,8))"
   ]
  },
  {
   "cell_type": "markdown",
   "id": "65ed4702",
   "metadata": {},
   "source": [
    "# 7. FEATURE SELECTION : RFE"
   ]
  },
  {
   "cell_type": "code",
   "execution_count": 223,
   "id": "c7e36b94",
   "metadata": {},
   "outputs": [],
   "source": [
    "import numpy as np\n",
    "from sklearn.feature_selection import RFE\n",
    "from sklearn.ensemble import RandomForestClassifier"
   ]
  },
  {
   "cell_type": "code",
   "execution_count": 224,
   "id": "563d1e89",
   "metadata": {},
   "outputs": [
    {
     "name": "stdout",
     "output_type": "stream",
     "text": [
      "Num Features: 10\n",
      "Selected Features: [False False False False False False False False  True  True False  True\n",
      "  True  True False  True  True  True  True  True]\n",
      "Feature Ranking: [ 6  9  8 11  7 10  4  5  1  1  3  1  1  1  2  1  1  1  1  1]\n"
     ]
    }
   ],
   "source": [
    "model = RandomForestClassifier(max_depth = 10)\n",
    "#you can always modify the parameter value, n_features_to_select based on how many features you would like to use. \n",
    "#It will give you the best features.\n",
    "\n",
    "rfe = RFE(estimator = model, n_features_to_select = 10)\n",
    "fit = rfe.fit(X_train,y_train)\n",
    "\n",
    "print(\"Num Features: %d\" % fit.n_features_ )\n",
    "print(\"Selected Features: %s\" % fit.support_ )\n",
    "print(\"Feature Ranking: %s\" % fit.ranking_ )"
   ]
  },
  {
   "cell_type": "code",
   "execution_count": 225,
   "id": "fff1c69e",
   "metadata": {},
   "outputs": [
    {
     "name": "stdout",
     "output_type": "stream",
     "text": [
      "['INCOME' 'DEPENDENTS' 'SPM ADDMATH' 'SPM PHY' 'SPM CHEM' 'SEM1 CGPA'\n",
      " 'SEM1 MATH' 'SEM1 PHY' 'SEM1 CHEM' 'SEM1 BIO']\n"
     ]
    }
   ],
   "source": [
    "# in this step, since we define no of features = 5, we get the top 5 features\n",
    "feature_names = np.array(X_train.columns)\n",
    "print(feature_names[fit.support_])"
   ]
  }
 ],
 "metadata": {
  "kernelspec": {
   "display_name": "Python 3",
   "language": "python",
   "name": "python3"
  },
  "language_info": {
   "codemirror_mode": {
    "name": "ipython",
    "version": 3
   },
   "file_extension": ".py",
   "mimetype": "text/x-python",
   "name": "python",
   "nbconvert_exporter": "python",
   "pygments_lexer": "ipython3",
   "version": "3.8.8"
  }
 },
 "nbformat": 4,
 "nbformat_minor": 5
}
