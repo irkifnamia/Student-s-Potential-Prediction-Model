{
 "cells": [
  {
   "cell_type": "markdown",
   "id": "2b2e9fe2",
   "metadata": {},
   "source": [
    "\n",
    "# LOAD SEM2 DATASET"
   ]
  },
  {
   "cell_type": "code",
   "execution_count": 2,
   "id": "e7dd96b8",
   "metadata": {},
   "outputs": [],
   "source": [
    "import numpy as np\n",
    "import pandas as pd\n",
    "import seaborn as sns"
   ]
  },
  {
   "cell_type": "code",
   "execution_count": 3,
   "id": "080c3bd4",
   "metadata": {},
   "outputs": [],
   "source": [
    "mod1_encoded_sem2 = pd.read_csv('mod1_encoded_sem2.csv')"
   ]
  },
  {
   "cell_type": "code",
   "execution_count": 4,
   "id": "143be539",
   "metadata": {},
   "outputs": [
    {
     "data": {
      "text/html": [
       "<div>\n",
       "<style scoped>\n",
       "    .dataframe tbody tr th:only-of-type {\n",
       "        vertical-align: middle;\n",
       "    }\n",
       "\n",
       "    .dataframe tbody tr th {\n",
       "        vertical-align: top;\n",
       "    }\n",
       "\n",
       "    .dataframe thead th {\n",
       "        text-align: right;\n",
       "    }\n",
       "</style>\n",
       "<table border=\"1\" class=\"dataframe\">\n",
       "  <thead>\n",
       "    <tr style=\"text-align: right;\">\n",
       "      <th></th>\n",
       "      <th>LEARNING STYLE</th>\n",
       "      <th>PROGRAM</th>\n",
       "      <th>YEAR</th>\n",
       "      <th>RACE</th>\n",
       "      <th>GENDER</th>\n",
       "      <th>RELIGION</th>\n",
       "      <th>STATE</th>\n",
       "      <th>REGION</th>\n",
       "      <th>INCOME</th>\n",
       "      <th>DEPENDENTS</th>\n",
       "      <th>...</th>\n",
       "      <th>SPM ADDMATH</th>\n",
       "      <th>SPM PHY</th>\n",
       "      <th>SPM CHEM</th>\n",
       "      <th>SPM BIO</th>\n",
       "      <th>SEM1 CGPA</th>\n",
       "      <th>SEM1 MATH</th>\n",
       "      <th>SEM1 PHY</th>\n",
       "      <th>SEM1 CHEM</th>\n",
       "      <th>SEM1 BIO</th>\n",
       "      <th>SEM2 CGPA</th>\n",
       "    </tr>\n",
       "  </thead>\n",
       "  <tbody>\n",
       "    <tr>\n",
       "      <th>0</th>\n",
       "      <td>0</td>\n",
       "      <td>1</td>\n",
       "      <td>1</td>\n",
       "      <td>3</td>\n",
       "      <td>0</td>\n",
       "      <td>2</td>\n",
       "      <td>1</td>\n",
       "      <td>1</td>\n",
       "      <td>6</td>\n",
       "      <td>6</td>\n",
       "      <td>...</td>\n",
       "      <td>6</td>\n",
       "      <td>5</td>\n",
       "      <td>5</td>\n",
       "      <td>3</td>\n",
       "      <td>1</td>\n",
       "      <td>2</td>\n",
       "      <td>1</td>\n",
       "      <td>1</td>\n",
       "      <td>2</td>\n",
       "      <td>1</td>\n",
       "    </tr>\n",
       "    <tr>\n",
       "      <th>1</th>\n",
       "      <td>0</td>\n",
       "      <td>1</td>\n",
       "      <td>2</td>\n",
       "      <td>3</td>\n",
       "      <td>0</td>\n",
       "      <td>2</td>\n",
       "      <td>1</td>\n",
       "      <td>0</td>\n",
       "      <td>1</td>\n",
       "      <td>6</td>\n",
       "      <td>...</td>\n",
       "      <td>5</td>\n",
       "      <td>4</td>\n",
       "      <td>6</td>\n",
       "      <td>5</td>\n",
       "      <td>1</td>\n",
       "      <td>1</td>\n",
       "      <td>4</td>\n",
       "      <td>2</td>\n",
       "      <td>5</td>\n",
       "      <td>1</td>\n",
       "    </tr>\n",
       "    <tr>\n",
       "      <th>2</th>\n",
       "      <td>0</td>\n",
       "      <td>1</td>\n",
       "      <td>1</td>\n",
       "      <td>3</td>\n",
       "      <td>0</td>\n",
       "      <td>2</td>\n",
       "      <td>1</td>\n",
       "      <td>1</td>\n",
       "      <td>7</td>\n",
       "      <td>2</td>\n",
       "      <td>...</td>\n",
       "      <td>7</td>\n",
       "      <td>2</td>\n",
       "      <td>4</td>\n",
       "      <td>5</td>\n",
       "      <td>1</td>\n",
       "      <td>4</td>\n",
       "      <td>1</td>\n",
       "      <td>3</td>\n",
       "      <td>3</td>\n",
       "      <td>1</td>\n",
       "    </tr>\n",
       "    <tr>\n",
       "      <th>3</th>\n",
       "      <td>0</td>\n",
       "      <td>1</td>\n",
       "      <td>2</td>\n",
       "      <td>3</td>\n",
       "      <td>0</td>\n",
       "      <td>2</td>\n",
       "      <td>8</td>\n",
       "      <td>2</td>\n",
       "      <td>2</td>\n",
       "      <td>6</td>\n",
       "      <td>...</td>\n",
       "      <td>5</td>\n",
       "      <td>3</td>\n",
       "      <td>6</td>\n",
       "      <td>4</td>\n",
       "      <td>2</td>\n",
       "      <td>3</td>\n",
       "      <td>5</td>\n",
       "      <td>4</td>\n",
       "      <td>1</td>\n",
       "      <td>2</td>\n",
       "    </tr>\n",
       "    <tr>\n",
       "      <th>4</th>\n",
       "      <td>0</td>\n",
       "      <td>1</td>\n",
       "      <td>2</td>\n",
       "      <td>3</td>\n",
       "      <td>0</td>\n",
       "      <td>2</td>\n",
       "      <td>1</td>\n",
       "      <td>2</td>\n",
       "      <td>3</td>\n",
       "      <td>4</td>\n",
       "      <td>...</td>\n",
       "      <td>3</td>\n",
       "      <td>4</td>\n",
       "      <td>6</td>\n",
       "      <td>5</td>\n",
       "      <td>1</td>\n",
       "      <td>1</td>\n",
       "      <td>5</td>\n",
       "      <td>3</td>\n",
       "      <td>2</td>\n",
       "      <td>1</td>\n",
       "    </tr>\n",
       "  </tbody>\n",
       "</table>\n",
       "<p>5 rows × 21 columns</p>\n",
       "</div>"
      ],
      "text/plain": [
       "   LEARNING STYLE  PROGRAM  YEAR  RACE  GENDER  RELIGION  STATE  REGION  \\\n",
       "0               0        1     1     3       0         2      1       1   \n",
       "1               0        1     2     3       0         2      1       0   \n",
       "2               0        1     1     3       0         2      1       1   \n",
       "3               0        1     2     3       0         2      8       2   \n",
       "4               0        1     2     3       0         2      1       2   \n",
       "\n",
       "   INCOME  DEPENDENTS  ...  SPM ADDMATH  SPM PHY  SPM CHEM  SPM BIO  \\\n",
       "0       6           6  ...            6        5         5        3   \n",
       "1       1           6  ...            5        4         6        5   \n",
       "2       7           2  ...            7        2         4        5   \n",
       "3       2           6  ...            5        3         6        4   \n",
       "4       3           4  ...            3        4         6        5   \n",
       "\n",
       "   SEM1 CGPA  SEM1 MATH  SEM1 PHY  SEM1 CHEM  SEM1 BIO  SEM2 CGPA  \n",
       "0          1          2         1          1         2          1  \n",
       "1          1          1         4          2         5          1  \n",
       "2          1          4         1          3         3          1  \n",
       "3          2          3         5          4         1          2  \n",
       "4          1          1         5          3         2          1  \n",
       "\n",
       "[5 rows x 21 columns]"
      ]
     },
     "execution_count": 4,
     "metadata": {},
     "output_type": "execute_result"
    }
   ],
   "source": [
    "mod1_encoded_sem2.head()"
   ]
  },
  {
   "cell_type": "code",
   "execution_count": 5,
   "id": "de164a9e",
   "metadata": {},
   "outputs": [
    {
     "data": {
      "text/plain": [
       "Index(['LEARNING STYLE', 'PROGRAM', 'YEAR', 'RACE', 'GENDER', 'RELIGION',\n",
       "       'STATE', 'REGION', 'INCOME', 'DEPENDENTS', 'SCHOOL', 'SPM ADDMATH',\n",
       "       'SPM PHY', 'SPM CHEM', 'SPM BIO', 'SEM1 CGPA', 'SEM1 MATH', 'SEM1 PHY',\n",
       "       'SEM1 CHEM', 'SEM1 BIO', 'SEM2 CGPA'],\n",
       "      dtype='object')"
      ]
     },
     "execution_count": 5,
     "metadata": {},
     "output_type": "execute_result"
    }
   ],
   "source": [
    "mod1_encoded_sem2.columns"
   ]
  },
  {
   "cell_type": "code",
   "execution_count": 6,
   "id": "e52bb58d",
   "metadata": {},
   "outputs": [
    {
     "name": "stdout",
     "output_type": "stream",
     "text": [
      "<class 'pandas.core.frame.DataFrame'>\n",
      "RangeIndex: 1241 entries, 0 to 1240\n",
      "Data columns (total 21 columns):\n",
      " #   Column          Non-Null Count  Dtype\n",
      "---  ------          --------------  -----\n",
      " 0   LEARNING STYLE  1241 non-null   int64\n",
      " 1   PROGRAM         1241 non-null   int64\n",
      " 2   YEAR            1241 non-null   int64\n",
      " 3   RACE            1241 non-null   int64\n",
      " 4   GENDER          1241 non-null   int64\n",
      " 5   RELIGION        1241 non-null   int64\n",
      " 6   STATE           1241 non-null   int64\n",
      " 7   REGION          1241 non-null   int64\n",
      " 8   INCOME          1241 non-null   int64\n",
      " 9   DEPENDENTS      1241 non-null   int64\n",
      " 10  SCHOOL          1241 non-null   int64\n",
      " 11  SPM ADDMATH     1241 non-null   int64\n",
      " 12  SPM PHY         1241 non-null   int64\n",
      " 13  SPM CHEM        1241 non-null   int64\n",
      " 14  SPM BIO         1241 non-null   int64\n",
      " 15  SEM1 CGPA       1241 non-null   int64\n",
      " 16  SEM1 MATH       1241 non-null   int64\n",
      " 17  SEM1 PHY        1241 non-null   int64\n",
      " 18  SEM1 CHEM       1241 non-null   int64\n",
      " 19  SEM1 BIO        1241 non-null   int64\n",
      " 20  SEM2 CGPA       1241 non-null   int64\n",
      "dtypes: int64(21)\n",
      "memory usage: 203.7 KB\n"
     ]
    }
   ],
   "source": [
    "mod1_encoded_sem2.info()"
   ]
  },
  {
   "cell_type": "markdown",
   "id": "0d6db838",
   "metadata": {},
   "source": [
    "# CREATE TRAIN_TEST_SPLIT"
   ]
  },
  {
   "cell_type": "code",
   "execution_count": 7,
   "id": "1f9fe199",
   "metadata": {},
   "outputs": [],
   "source": [
    "## CREATE TRAIN TEST SPLIT TO AVOID OVERFITTING\n",
    "from sklearn.model_selection import train_test_split\n",
    "X_train,X_test,y_train,y_test = train_test_split(mod1_encoded_sem2.drop(labels=['SEM2 CGPA'],axis=1),\n",
    "                                                 mod1_encoded_sem2['SEM2 CGPA'],test_size=0.3,random_state=0)"
   ]
  },
  {
   "cell_type": "code",
   "execution_count": 8,
   "id": "8c0fce28",
   "metadata": {},
   "outputs": [
    {
     "name": "stdout",
     "output_type": "stream",
     "text": [
      "<class 'pandas.core.frame.DataFrame'>\n",
      "Int64Index: 868 entries, 959 to 684\n",
      "Data columns (total 20 columns):\n",
      " #   Column          Non-Null Count  Dtype\n",
      "---  ------          --------------  -----\n",
      " 0   LEARNING STYLE  868 non-null    int64\n",
      " 1   PROGRAM         868 non-null    int64\n",
      " 2   YEAR            868 non-null    int64\n",
      " 3   RACE            868 non-null    int64\n",
      " 4   GENDER          868 non-null    int64\n",
      " 5   RELIGION        868 non-null    int64\n",
      " 6   STATE           868 non-null    int64\n",
      " 7   REGION          868 non-null    int64\n",
      " 8   INCOME          868 non-null    int64\n",
      " 9   DEPENDENTS      868 non-null    int64\n",
      " 10  SCHOOL          868 non-null    int64\n",
      " 11  SPM ADDMATH     868 non-null    int64\n",
      " 12  SPM PHY         868 non-null    int64\n",
      " 13  SPM CHEM        868 non-null    int64\n",
      " 14  SPM BIO         868 non-null    int64\n",
      " 15  SEM1 CGPA       868 non-null    int64\n",
      " 16  SEM1 MATH       868 non-null    int64\n",
      " 17  SEM1 PHY        868 non-null    int64\n",
      " 18  SEM1 CHEM       868 non-null    int64\n",
      " 19  SEM1 BIO        868 non-null    int64\n",
      "dtypes: int64(20)\n",
      "memory usage: 142.4 KB\n"
     ]
    }
   ],
   "source": [
    "X_train.info()"
   ]
  },
  {
   "cell_type": "code",
   "execution_count": 9,
   "id": "ce827041",
   "metadata": {},
   "outputs": [
    {
     "name": "stdout",
     "output_type": "stream",
     "text": [
      "<class 'pandas.core.frame.DataFrame'>\n",
      "Int64Index: 373 entries, 1031 to 825\n",
      "Data columns (total 20 columns):\n",
      " #   Column          Non-Null Count  Dtype\n",
      "---  ------          --------------  -----\n",
      " 0   LEARNING STYLE  373 non-null    int64\n",
      " 1   PROGRAM         373 non-null    int64\n",
      " 2   YEAR            373 non-null    int64\n",
      " 3   RACE            373 non-null    int64\n",
      " 4   GENDER          373 non-null    int64\n",
      " 5   RELIGION        373 non-null    int64\n",
      " 6   STATE           373 non-null    int64\n",
      " 7   REGION          373 non-null    int64\n",
      " 8   INCOME          373 non-null    int64\n",
      " 9   DEPENDENTS      373 non-null    int64\n",
      " 10  SCHOOL          373 non-null    int64\n",
      " 11  SPM ADDMATH     373 non-null    int64\n",
      " 12  SPM PHY         373 non-null    int64\n",
      " 13  SPM CHEM        373 non-null    int64\n",
      " 14  SPM BIO         373 non-null    int64\n",
      " 15  SEM1 CGPA       373 non-null    int64\n",
      " 16  SEM1 MATH       373 non-null    int64\n",
      " 17  SEM1 PHY        373 non-null    int64\n",
      " 18  SEM1 CHEM       373 non-null    int64\n",
      " 19  SEM1 BIO        373 non-null    int64\n",
      "dtypes: int64(20)\n",
      "memory usage: 61.2 KB\n"
     ]
    }
   ],
   "source": [
    "X_test.info()"
   ]
  },
  {
   "cell_type": "markdown",
   "id": "ab156438",
   "metadata": {},
   "source": [
    "# 1. FEATURE SELECTION : MUTUAL INFO"
   ]
  },
  {
   "cell_type": "code",
   "execution_count": 10,
   "id": "81414aff",
   "metadata": {},
   "outputs": [
    {
     "data": {
      "text/plain": [
       "array([0.04538743, 0.01158632, 0.0469807 , 0.09586865, 0.01787168,\n",
       "       0.10531678, 0.05964765, 0.01328708, 0.00595643, 0.00255823,\n",
       "       0.        , 0.06908683, 0.06901431, 0.07933234, 0.06518119,\n",
       "       0.40495728, 0.24041899, 0.26294389, 0.29647387, 0.21625294])"
      ]
     },
     "execution_count": 10,
     "metadata": {},
     "output_type": "execute_result"
    }
   ],
   "source": [
    "from sklearn.feature_selection import mutual_info_classif\n",
    "## DETERMINE THE MUTUAL INFORMATION\n",
    "mutual_info = mutual_info_classif(X_train,y_train)\n",
    "mutual_info"
   ]
  },
  {
   "cell_type": "code",
   "execution_count": 11,
   "id": "7ea401bf",
   "metadata": {},
   "outputs": [
    {
     "data": {
      "text/plain": [
       "SEM1 CGPA         0.404957\n",
       "SEM1 CHEM         0.296474\n",
       "SEM1 PHY          0.262944\n",
       "SEM1 MATH         0.240419\n",
       "SEM1 BIO          0.216253\n",
       "RELIGION          0.105317\n",
       "RACE              0.095869\n",
       "SPM CHEM          0.079332\n",
       "SPM ADDMATH       0.069087\n",
       "SPM PHY           0.069014\n",
       "SPM BIO           0.065181\n",
       "STATE             0.059648\n",
       "YEAR              0.046981\n",
       "LEARNING STYLE    0.045387\n",
       "GENDER            0.017872\n",
       "REGION            0.013287\n",
       "PROGRAM           0.011586\n",
       "INCOME            0.005956\n",
       "DEPENDENTS        0.002558\n",
       "SCHOOL            0.000000\n",
       "dtype: float64"
      ]
     },
     "execution_count": 11,
     "metadata": {},
     "output_type": "execute_result"
    }
   ],
   "source": [
    "mutual_info = pd.Series(mutual_info)\n",
    "mutual_info.index = X_train.columns\n",
    "mutual_info.sort_values(ascending=False)"
   ]
  },
  {
   "cell_type": "code",
   "execution_count": 12,
   "id": "99c8d29e",
   "metadata": {
    "scrolled": true
   },
   "outputs": [
    {
     "data": {
      "text/plain": [
       "<AxesSubplot:>"
      ]
     },
     "execution_count": 12,
     "metadata": {},
     "output_type": "execute_result"
    },
    {
     "data": {
      "image/png": "[encoded data removed]",
      "text/plain": [
       "<Figure size 1440x576 with 1 Axes>"
      ]
     },
     "metadata": {
      "needs_background": "light"
     },
     "output_type": "display_data"
    }
   ],
   "source": [
    "mutual_info.sort_values(ascending=True).plot.barh(figsize=(20,8))"
   ]
  },
  {
   "cell_type": "markdown",
   "id": "17cb84a0",
   "metadata": {},
   "source": [
    "# 2. FEATURE SELECTION : CHI SQUARED TEST"
   ]
  },
  {
   "cell_type": "code",
   "execution_count": 13,
   "id": "8e051914",
   "metadata": {},
   "outputs": [
    {
     "data": {
      "text/plain": [
       "(array([  9.68199055,   5.23060849,   4.43970966,  18.73114607,\n",
       "          7.03386687,  10.73767365,  85.18318009,   4.94790824,\n",
       "         23.20921473,   4.14775906,   5.25266041,  98.50653617,\n",
       "         68.38718313,  96.10348453,  69.9017852 , 457.06694615,\n",
       "        458.97535904, 556.23415471, 693.40064386, 454.28752022]),\n",
       " array([4.61391214e-002, 2.64443349e-001, 3.49756334e-001, 8.87516891e-004,\n",
       "        1.34109303e-001, 2.96759011e-002, 1.38710769e-017, 2.92684320e-001,\n",
       "        1.15003850e-004, 3.86378014e-001, 2.62341279e-001, 2.04522817e-020,\n",
       "        4.97021821e-014, 6.63816323e-020, 2.38083821e-014, 1.28830811e-097,\n",
       "        4.98212748e-098, 4.58220369e-119, 9.35768464e-149, 5.13957230e-097]))"
      ]
     },
     "execution_count": 13,
     "metadata": {},
     "output_type": "execute_result"
    }
   ],
   "source": [
    "## PERFORM CHI2 TEST\n",
    "from sklearn.feature_selection import chi2\n",
    "f_p_values = chi2(X_train,y_train)\n",
    "f_p_values\n",
    "## CHI2 RETURNS TWO VALUES : FSCORE & P-VALUE\n",
    "## HIGHER FSCORE MEANS THE FEATURE IS MORE IMPORTANT \n",
    "## LOWER P-VALUE MEANS THE FEATURE IS MORE IMPORTANT"
   ]
  },
  {
   "cell_type": "code",
   "execution_count": 14,
   "id": "275fd571",
   "metadata": {},
   "outputs": [
    {
     "data": {
      "text/plain": [
       "SEM1 CHEM         693.400644\n",
       "SEM1 PHY          556.234155\n",
       "SEM1 MATH         458.975359\n",
       "SEM1 CGPA         457.066946\n",
       "SEM1 BIO          454.287520\n",
       "SPM ADDMATH        98.506536\n",
       "SPM CHEM           96.103485\n",
       "STATE              85.183180\n",
       "SPM BIO            69.901785\n",
       "SPM PHY            68.387183\n",
       "INCOME             23.209215\n",
       "RACE               18.731146\n",
       "RELIGION           10.737674\n",
       "LEARNING STYLE      9.681991\n",
       "GENDER              7.033867\n",
       "SCHOOL              5.252660\n",
       "PROGRAM             5.230608\n",
       "REGION              4.947908\n",
       "YEAR                4.439710\n",
       "DEPENDENTS          4.147759\n",
       "dtype: float64"
      ]
     },
     "execution_count": 14,
     "metadata": {},
     "output_type": "execute_result"
    }
   ],
   "source": [
    "f_scores = pd.Series(f_p_values[0])\n",
    "f_scores.index = X_train.columns\n",
    "f_scores.sort_values(ascending=False)"
   ]
  },
  {
   "cell_type": "code",
   "execution_count": 16,
   "id": "7f00da03",
   "metadata": {},
   "outputs": [
    {
     "data": {
      "text/plain": [
       "<AxesSubplot:>"
      ]
     },
     "execution_count": 16,
     "metadata": {},
     "output_type": "execute_result"
    },
    {
     "data": {
      "image/png": "[encoded data removed]",
      "text/plain": [
       "<Figure size 1440x576 with 1 Axes>"
      ]
     },
     "metadata": {
      "needs_background": "light"
     },
     "output_type": "display_data"
    }
   ],
   "source": [
    "f_scores.sort_values(ascending=True).plot.barh(figsize=(20,8))"
   ]
  },
  {
   "cell_type": "code",
   "execution_count": 17,
   "id": "6f0f3c65",
   "metadata": {},
   "outputs": [],
   "source": [
    "## OBSERVATION\n",
    "# SEM1 CHEM IS THE MOST IMPORTANT COLUMN (HIGHEST F-SCORE) WHEN COMPARED TO THE OUTPUT FEATURE (TARGET) SEM2 CGPA"
   ]
  }
 ],
 "metadata": {
  "kernelspec": {
   "display_name": "Python 3",
   "language": "python",
   "name": "python3"
  },
  "language_info": {
   "codemirror_mode": {
    "name": "ipython",
    "version": 3
   },
   "file_extension": ".py",
   "mimetype": "text/x-python",
   "name": "python",
   "nbconvert_exporter": "python",
   "pygments_lexer": "ipython3",
   "version": "3.8.8"
  }
 },
 "nbformat": 4,
 "nbformat_minor": 5
}
